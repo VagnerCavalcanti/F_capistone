{
 "cells": [
  {
   "cell_type": "markdown",
   "metadata": {},
   "source": [
    "Final Capistone\n",
    "Data Name - Uber Pickups in New York City\n",
    "Data Link - https://www.kaggle.com/fivethirtyeight/uber-pickups-in-new-york-city\n",
    "Mentor - Edward Plata"
   ]
  },
  {
   "cell_type": "code",
   "execution_count": 1,
   "metadata": {},
   "outputs": [],
   "source": [
    "import numpy as np\n",
    "import pandas as pd\n",
    "import matplotlib.pyplot as plt\n",
    "import statsmodels.formula.api as smf\n",
    "import datetime as dt\n",
    "import seaborn as sns"
   ]
  },
  {
   "cell_type": "code",
   "execution_count": 2,
   "metadata": {},
   "outputs": [],
   "source": [
    "american = pd.read_csv('C:/Users/vagne/Desktop/capis_data/other-American_B01362.csv')\n",
    "carmel = pd.read_csv('C:/Users/vagne/Desktop/capis_data/Carmel_B00256.csv', encoding = 'cp1252')\n",
    "dial7 = pd.read_csv('C:/Users/vagne/Desktop/capis_data/other-Dial7_B00887.csv')\n",
    "diplo = pd.read_csv('C:/Users/vagne/Desktop/capis_data/other-Diplo_B01196.csv', encoding = 'cp1252')\n",
    "highclass = pd.read_csv('C:/Users/vagne/Desktop/capis_data/other-Highclass_B01717.csv', encoding = 'cp1252')\n",
    "skyline = pd.read_csv('C:/Users/vagne/Desktop/capis_data/other-Skyline_B00111.csv')\n",
    "federal = pd.read_csv('C:/Users/vagne/Desktop/capis_data/other-Federal_02216.csv')\n",
    "lyft = pd.read_csv('C:/Users/vagne/Desktop/capis_data/other-Lyft_B02510.csv')\n",
    "firstclass = pd.read_csv('C:/Users/vagne/Desktop/capis_data/other-Firstclass_B01536.csv', encoding = 'cp1252')\n",
    "prestige = pd.read_csv('C:/Users/vagne/Desktop/capis_data/other-Prestige_B01338.csv', encoding = 'cp1252')"
   ]
  },
  {
   "cell_type": "code",
   "execution_count": 3,
   "metadata": {},
   "outputs": [],
   "source": [
    "uber_jul = pd.read_csv('C:/Users/vagne/Desktop/capis_data/uber-raw-data-jul14.csv')\n",
    "uber_aug = pd.read_csv('C:/Users/vagne/Desktop/capis_data/uber-raw-data-aug14.csv')\n",
    "uber_sep = pd.read_csv('C:/Users/vagne/Desktop/capis_data/uber-raw-data-sep14.csv')"
   ]
  },
  {
   "cell_type": "code",
   "execution_count": 4,
   "metadata": {},
   "outputs": [],
   "source": [
    "uber_jul.columns = uber_jul.columns.str.replace ('/','_')\n",
    "uber_aug.columns = uber_aug.columns.str.replace ('/','_')\n",
    "uber_sep.columns = uber_sep.columns.str.replace ('/','_')"
   ]
  },
  {
   "cell_type": "code",
   "execution_count": 35,
   "metadata": {},
   "outputs": [
    {
     "name": "stdout",
     "output_type": "stream",
     "text": [
      "(796121, 4)\n",
      "(829275, 4)\n",
      "(1028136, 4)\n"
     ]
    }
   ],
   "source": [
    "print(uber_jul.shape)\n",
    "print(uber_aug.shape)\n",
    "print(uber_sep.shape)"
   ]
  },
  {
   "cell_type": "code",
   "execution_count": 5,
   "metadata": {},
   "outputs": [],
   "source": [
    "uber_data = uber_jul.append(uber_aug, ignore_index=True)"
   ]
  },
  {
   "cell_type": "code",
   "execution_count": 6,
   "metadata": {},
   "outputs": [],
   "source": [
    "uber_data = uber_data.append(uber_sep, ignore_index = True)"
   ]
  },
  {
   "cell_type": "code",
   "execution_count": 161,
   "metadata": {},
   "outputs": [
    {
     "data": {
      "text/plain": [
       "(2653532, 4)"
      ]
     },
     "execution_count": 161,
     "metadata": {},
     "output_type": "execute_result"
    }
   ],
   "source": [
    "uber_data.shape"
   ]
  },
  {
   "cell_type": "code",
   "execution_count": 7,
   "metadata": {},
   "outputs": [],
   "source": [
    "uber_data['Date_Time'] = pd.to_datetime(uber_data['Date_Time'])"
   ]
  },
  {
   "cell_type": "code",
   "execution_count": 42,
   "metadata": {},
   "outputs": [
    {
     "name": "stdout",
     "output_type": "stream",
     "text": [
      "(91712, 6)\n",
      "(256519, 4)\n",
      "(194992, 6)\n",
      "(98550, 3)\n",
      "(151925, 3)\n",
      "(127696, 6)\n",
      "(276, 7)\n",
      "(267701, 4)\n",
      "(166769, 3)\n",
      "(320641, 3)\n"
     ]
    }
   ],
   "source": [
    "print (american.shape)\n",
    "print (carmel.shape)\n",
    "print (dial7.shape)\n",
    "print (diplo.shape)\n",
    "print (highclass.shape)\n",
    "print (skyline.shape)\n",
    "print (federal.shape)\n",
    "print (lyft.shape)\n",
    "print (firstclass.shape)\n",
    "print (prestige.shape)"
   ]
  },
  {
   "cell_type": "code",
   "execution_count": 75,
   "metadata": {},
   "outputs": [
    {
     "name": "stdout",
     "output_type": "stream",
     "text": [
      "<class 'pandas.core.frame.DataFrame'>\n",
      "RangeIndex: 267701 entries, 0 to 267700\n",
      "Data columns (total 4 columns):\n",
      "time_of_trip    267701 non-null object\n",
      "start_lat       267700 non-null float64\n",
      "start_lng       267700 non-null float64\n",
      "Unnamed: 3      1198 non-null object\n",
      "dtypes: float64(2), object(2)\n",
      "memory usage: 8.2+ MB\n",
      "None\n"
     ]
    }
   ],
   "source": [
    "#print (american.info())\n",
    "#print (carmel.info())\n",
    "#print (dial7.info())\n",
    "#print (diplo.info())\n",
    "#print (highclass.info())\n",
    "#print (skyline.info())\n",
    "#print (federal.info())\n",
    "print (lyft.info())\n",
    "#print (firstclass.info())\n",
    "#print (prestige.info())"
   ]
  },
  {
   "cell_type": "code",
   "execution_count": 45,
   "metadata": {},
   "outputs": [
    {
     "name": "stdout",
     "output_type": "stream",
     "text": [
      "       Unnamed: 3  Unnamed: 4  Unnamed: 5\n",
      "count         0.0         0.0         0.0\n",
      "mean          NaN         NaN         NaN\n",
      "std           NaN         NaN         NaN\n",
      "min           NaN         NaN         NaN\n",
      "25%           NaN         NaN         NaN\n",
      "50%           NaN         NaN         NaN\n",
      "75%           NaN         NaN         NaN\n",
      "max           NaN         NaN         NaN\n",
      "             Date    Time PU_Adress Base_No\n",
      "count      256519  256519    256519  256519\n",
      "unique         92    1427     63738       7\n",
      "top     9/18/2014   15:00       JFK  B00256\n",
      "freq         3507    4547     28179  249080\n",
      "              Date    Time                                              State  \\\n",
      "count       194992  194992                                             194992   \n",
      "unique          92    1440                                               1001   \n",
      "top     2014.09.18   15:00  NY                                            ...   \n",
      "freq          2795    3674                                             133408   \n",
      "\n",
      "           PuFrom Address                Street  \n",
      "count      157962  194992                194992  \n",
      "unique       1264    4328                  9566  \n",
      "top     MANHATTAN                                \n",
      "freq       113625   54397                 54148  \n",
      "             Date        Time                        PU_Address\n",
      "count       98550       98550                             98550\n",
      "unique         92        1442                             15122\n",
      "top     9/13/2014  8:40:00 AM  BASE 170 W Fordham Rd Jerome, BX\n",
      "freq         1440         174                              3293\n",
      "             DATE        TIME                    PU_Address\n",
      "count      151925      151925                        151925\n",
      "unique         92        1472                         26950\n",
      "top     9/13/2014  9:45:00 AM   268 W Fordham Rd Jerome, BX\n",
      "freq         2375         285                          1506\n",
      "       Unnamed: 4  Unnamed: 5\n",
      "count         0.0         0.0\n",
      "mean          NaN         NaN\n",
      "std           NaN         NaN\n",
      "min           NaN         NaN\n",
      "25%           NaN         NaN\n",
      "50%           NaN         NaN\n",
      "75%           NaN         NaN\n",
      "max           NaN         NaN\n",
      "              Date      Time  \\\n",
      "count          276       276   \n",
      "unique          83        95   \n",
      "top     07/03/2014  10:00 AM   \n",
      "freq            12        11   \n",
      "\n",
      "                                               PU_Address  \\\n",
      "count                                                 269   \n",
      "unique                                                240   \n",
      "top     John F Kennedy International Airport, Delta Ai...   \n",
      "freq                                                    4   \n",
      "\n",
      "                                    DO_Address  \\\n",
      "count                                      267   \n",
      "unique                                     129   \n",
      "top     John F Kennedy International Airport;    \n",
      "freq                                        70   \n",
      "\n",
      "                                          Routing Details  \\\n",
      "count                                                 276   \n",
      "unique                                                264   \n",
      "top     PU: 607 20 St., BK NY; DO: John F Kennedy Inte...   \n",
      "freq                                                    3   \n",
      "\n",
      "                                             PU_Address.1   Status  \n",
      "count                                                 276      276  \n",
      "unique                                                264        3  \n",
      "top     607 20 St., BK NY; DO: John F Kennedy Internat...  Arrived  \n",
      "freq                                                    3      128  \n",
      "           start_lat      start_lng\n",
      "count  267700.000000  267700.000000\n",
      "mean       40.730292     -73.964948\n",
      "std         0.043578       0.043445\n",
      "min        40.527850     -74.226890\n",
      "25%        40.708870     -73.991080\n",
      "50%        40.733450     -73.978120\n",
      "75%        40.756600     -73.952300\n",
      "max        40.935620     -73.723150\n",
      "            DATE        TIME         PICK UP ADDRESS\n",
      "count     166769      166769                  166769\n",
      "unique        92        1443                   28388\n",
      "top     7/2/2014  9:00:00 AM  base 4980 Broadway NYC\n",
      "freq        2228        1822                    3137\n",
      "             DATE         TIME                     PICK UP ADDRESS\n",
      "count      320641       320641                              320641\n",
      "unique         92         1463                               52480\n",
      "top     9/13/2014  10:00:00 AM  PRESTIGE #1 3108 Webster Ave Bronx\n",
      "freq         4470          391                                2051\n"
     ]
    }
   ],
   "source": [
    "print (american.describe())\n",
    "print (carmel.describe())\n",
    "print (dial7.describe())\n",
    "print (diplo.describe())\n",
    "print (highclass.describe())\n",
    "print (skyline.describe())\n",
    "print (federal.describe())\n",
    "print (lyft.describe())\n",
    "print (firstclass.describe())\n",
    "print (prestige.describe())"
   ]
  },
  {
   "cell_type": "code",
   "execution_count": 10,
   "metadata": {},
   "outputs": [
    {
     "data": {
      "text/html": [
       "<div>\n",
       "<style scoped>\n",
       "    .dataframe tbody tr th:only-of-type {\n",
       "        vertical-align: middle;\n",
       "    }\n",
       "\n",
       "    .dataframe tbody tr th {\n",
       "        vertical-align: top;\n",
       "    }\n",
       "\n",
       "    .dataframe thead th {\n",
       "        text-align: right;\n",
       "    }\n",
       "</style>\n",
       "<table border=\"1\" class=\"dataframe\">\n",
       "  <thead>\n",
       "    <tr style=\"text-align: right;\">\n",
       "      <th></th>\n",
       "      <th>DATE</th>\n",
       "      <th>TIME</th>\n",
       "      <th>PICK UP ADDRESS</th>\n",
       "      <th>Unnamed: 3</th>\n",
       "      <th>Unnamed: 4</th>\n",
       "      <th>Unnamed: 5</th>\n",
       "    </tr>\n",
       "  </thead>\n",
       "  <tbody>\n",
       "    <tr>\n",
       "      <th>0</th>\n",
       "      <td>7/1/2014</td>\n",
       "      <td>12:00:00 AM</td>\n",
       "      <td>874 E 139th St Mott Haven, BX</td>\n",
       "      <td>NaN</td>\n",
       "      <td>NaN</td>\n",
       "      <td>NaN</td>\n",
       "    </tr>\n",
       "    <tr>\n",
       "      <th>1</th>\n",
       "      <td>7/1/2014</td>\n",
       "      <td>12:01:00 AM</td>\n",
       "      <td>628 E 141st St Mott Haven, BX</td>\n",
       "      <td>NaN</td>\n",
       "      <td>NaN</td>\n",
       "      <td>NaN</td>\n",
       "    </tr>\n",
       "    <tr>\n",
       "      <th>2</th>\n",
       "      <td>7/1/2014</td>\n",
       "      <td>12:01:00 AM</td>\n",
       "      <td>601 E 156th St South Bronx, BX</td>\n",
       "      <td>NaN</td>\n",
       "      <td>NaN</td>\n",
       "      <td>NaN</td>\n",
       "    </tr>\n",
       "    <tr>\n",
       "      <th>3</th>\n",
       "      <td>7/1/2014</td>\n",
       "      <td>12:01:00 AM</td>\n",
       "      <td>708 E 138th St Mott Haven, BX</td>\n",
       "      <td>NaN</td>\n",
       "      <td>NaN</td>\n",
       "      <td>NaN</td>\n",
       "    </tr>\n",
       "    <tr>\n",
       "      <th>4</th>\n",
       "      <td>7/1/2014</td>\n",
       "      <td>12:02:00 AM</td>\n",
       "      <td>700 E 140th St Mott Haven, BX</td>\n",
       "      <td>NaN</td>\n",
       "      <td>NaN</td>\n",
       "      <td>NaN</td>\n",
       "    </tr>\n",
       "  </tbody>\n",
       "</table>\n",
       "</div>"
      ],
      "text/plain": [
       "       DATE         TIME                  PICK UP ADDRESS  Unnamed: 3  \\\n",
       "0  7/1/2014  12:00:00 AM    874 E 139th St Mott Haven, BX         NaN   \n",
       "1  7/1/2014  12:01:00 AM    628 E 141st St Mott Haven, BX         NaN   \n",
       "2  7/1/2014  12:01:00 AM   601 E 156th St South Bronx, BX         NaN   \n",
       "3  7/1/2014  12:01:00 AM    708 E 138th St Mott Haven, BX         NaN   \n",
       "4  7/1/2014  12:02:00 AM    700 E 140th St Mott Haven, BX         NaN   \n",
       "\n",
       "   Unnamed: 4  Unnamed: 5  \n",
       "0         NaN         NaN  \n",
       "1         NaN         NaN  \n",
       "2         NaN         NaN  \n",
       "3         NaN         NaN  \n",
       "4         NaN         NaN  "
      ]
     },
     "execution_count": 10,
     "metadata": {},
     "output_type": "execute_result"
    }
   ],
   "source": [
    "american.head()"
   ]
  },
  {
   "cell_type": "code",
   "execution_count": 8,
   "metadata": {},
   "outputs": [],
   "source": [
    "#Rename columns to identify on the merge\n",
    "american.rename(columns = {'TIME':'time_amer', 'PICK UP ADDRESS':'pick_up_add_amer'}, inplace = True) "
   ]
  },
  {
   "cell_type": "code",
   "execution_count": 9,
   "metadata": {},
   "outputs": [],
   "source": [
    "#Drop stupd columns\n",
    "american.drop(['Unnamed: 3', 'Unnamed: 4', 'Unnamed: 5'], axis=1, inplace=True)"
   ]
  },
  {
   "cell_type": "code",
   "execution_count": 14,
   "metadata": {},
   "outputs": [
    {
     "data": {
      "text/html": [
       "<div>\n",
       "<style scoped>\n",
       "    .dataframe tbody tr th:only-of-type {\n",
       "        vertical-align: middle;\n",
       "    }\n",
       "\n",
       "    .dataframe tbody tr th {\n",
       "        vertical-align: top;\n",
       "    }\n",
       "\n",
       "    .dataframe thead th {\n",
       "        text-align: right;\n",
       "    }\n",
       "</style>\n",
       "<table border=\"1\" class=\"dataframe\">\n",
       "  <thead>\n",
       "    <tr style=\"text-align: right;\">\n",
       "      <th></th>\n",
       "      <th>DATE</th>\n",
       "      <th>time_amer</th>\n",
       "      <th>pick_up_add_amer</th>\n",
       "    </tr>\n",
       "  </thead>\n",
       "  <tbody>\n",
       "    <tr>\n",
       "      <th>0</th>\n",
       "      <td>7/1/2014</td>\n",
       "      <td>12:00:00 AM</td>\n",
       "      <td>874 E 139th St Mott Haven, BX</td>\n",
       "    </tr>\n",
       "    <tr>\n",
       "      <th>1</th>\n",
       "      <td>7/1/2014</td>\n",
       "      <td>12:01:00 AM</td>\n",
       "      <td>628 E 141st St Mott Haven, BX</td>\n",
       "    </tr>\n",
       "    <tr>\n",
       "      <th>2</th>\n",
       "      <td>7/1/2014</td>\n",
       "      <td>12:01:00 AM</td>\n",
       "      <td>601 E 156th St South Bronx, BX</td>\n",
       "    </tr>\n",
       "    <tr>\n",
       "      <th>3</th>\n",
       "      <td>7/1/2014</td>\n",
       "      <td>12:01:00 AM</td>\n",
       "      <td>708 E 138th St Mott Haven, BX</td>\n",
       "    </tr>\n",
       "    <tr>\n",
       "      <th>4</th>\n",
       "      <td>7/1/2014</td>\n",
       "      <td>12:02:00 AM</td>\n",
       "      <td>700 E 140th St Mott Haven, BX</td>\n",
       "    </tr>\n",
       "  </tbody>\n",
       "</table>\n",
       "</div>"
      ],
      "text/plain": [
       "       DATE    time_amer                 pick_up_add_amer\n",
       "0  7/1/2014  12:00:00 AM    874 E 139th St Mott Haven, BX\n",
       "1  7/1/2014  12:01:00 AM    628 E 141st St Mott Haven, BX\n",
       "2  7/1/2014  12:01:00 AM   601 E 156th St South Bronx, BX\n",
       "3  7/1/2014  12:01:00 AM    708 E 138th St Mott Haven, BX\n",
       "4  7/1/2014  12:02:00 AM    700 E 140th St Mott Haven, BX"
      ]
     },
     "execution_count": 14,
     "metadata": {},
     "output_type": "execute_result"
    }
   ],
   "source": [
    "american.head()"
   ]
  },
  {
   "cell_type": "code",
   "execution_count": 135,
   "metadata": {},
   "outputs": [
    {
     "data": {
      "text/html": [
       "<div>\n",
       "<style scoped>\n",
       "    .dataframe tbody tr th:only-of-type {\n",
       "        vertical-align: middle;\n",
       "    }\n",
       "\n",
       "    .dataframe tbody tr th {\n",
       "        vertical-align: top;\n",
       "    }\n",
       "\n",
       "    .dataframe thead th {\n",
       "        text-align: right;\n",
       "    }\n",
       "</style>\n",
       "<table border=\"1\" class=\"dataframe\">\n",
       "  <thead>\n",
       "    <tr style=\"text-align: right;\">\n",
       "      <th></th>\n",
       "      <th>Date</th>\n",
       "      <th>Time</th>\n",
       "      <th>PU_Adress</th>\n",
       "      <th>Base_No</th>\n",
       "    </tr>\n",
       "  </thead>\n",
       "  <tbody>\n",
       "    <tr>\n",
       "      <th>0</th>\n",
       "      <td>7/1/2014</td>\n",
       "      <td>0:00</td>\n",
       "      <td>260 W 44 St NYC</td>\n",
       "      <td>B00256</td>\n",
       "    </tr>\n",
       "    <tr>\n",
       "      <th>1</th>\n",
       "      <td>7/1/2014</td>\n",
       "      <td>0:00</td>\n",
       "      <td>125 W 29 St Nyc</td>\n",
       "      <td>B00256</td>\n",
       "    </tr>\n",
       "    <tr>\n",
       "      <th>2</th>\n",
       "      <td>7/1/2014</td>\n",
       "      <td>0:00</td>\n",
       "      <td>141 W 28 St Nyc</td>\n",
       "      <td>B00256</td>\n",
       "    </tr>\n",
       "    <tr>\n",
       "      <th>3</th>\n",
       "      <td>7/1/2014</td>\n",
       "      <td>0:01</td>\n",
       "      <td>EWR</td>\n",
       "      <td>B00256</td>\n",
       "    </tr>\n",
       "    <tr>\n",
       "      <th>4</th>\n",
       "      <td>7/1/2014</td>\n",
       "      <td>0:07</td>\n",
       "      <td>JFK</td>\n",
       "      <td>B00256</td>\n",
       "    </tr>\n",
       "  </tbody>\n",
       "</table>\n",
       "</div>"
      ],
      "text/plain": [
       "       Date  Time        PU_Adress Base_No\n",
       "0  7/1/2014  0:00  260 W 44 St NYC  B00256\n",
       "1  7/1/2014  0:00  125 W 29 St Nyc  B00256\n",
       "2  7/1/2014  0:00  141 W 28 St Nyc  B00256\n",
       "3  7/1/2014  0:01              EWR  B00256\n",
       "4  7/1/2014  0:07              JFK  B00256"
      ]
     },
     "execution_count": 135,
     "metadata": {},
     "output_type": "execute_result"
    }
   ],
   "source": [
    "carmel.head()"
   ]
  },
  {
   "cell_type": "code",
   "execution_count": 10,
   "metadata": {},
   "outputs": [],
   "source": [
    "carmel.drop(['Base_No'], axis = 1, inplace=True)"
   ]
  },
  {
   "cell_type": "code",
   "execution_count": 11,
   "metadata": {},
   "outputs": [],
   "source": [
    "carmel.rename(columns = {'Date':'DATE', 'Time':'time_carm', 'PU_Adress':'pick_up_add_carm'}, inplace = True)"
   ]
  },
  {
   "cell_type": "code",
   "execution_count": 82,
   "metadata": {},
   "outputs": [
    {
     "data": {
      "text/html": [
       "<div>\n",
       "<style scoped>\n",
       "    .dataframe tbody tr th:only-of-type {\n",
       "        vertical-align: middle;\n",
       "    }\n",
       "\n",
       "    .dataframe tbody tr th {\n",
       "        vertical-align: top;\n",
       "    }\n",
       "\n",
       "    .dataframe thead th {\n",
       "        text-align: right;\n",
       "    }\n",
       "</style>\n",
       "<table border=\"1\" class=\"dataframe\">\n",
       "  <thead>\n",
       "    <tr style=\"text-align: right;\">\n",
       "      <th></th>\n",
       "      <th>Date</th>\n",
       "      <th>Time</th>\n",
       "      <th>State</th>\n",
       "      <th>PuFrom</th>\n",
       "      <th>Address</th>\n",
       "      <th>Street</th>\n",
       "    </tr>\n",
       "  </thead>\n",
       "  <tbody>\n",
       "    <tr>\n",
       "      <th>0</th>\n",
       "      <td>2014.07.06</td>\n",
       "      <td>14:30</td>\n",
       "      <td>NY                                            ...</td>\n",
       "      <td>MANHATTAN</td>\n",
       "      <td>50</td>\n",
       "      <td>MURRAY ST</td>\n",
       "    </tr>\n",
       "    <tr>\n",
       "      <th>1</th>\n",
       "      <td>2014.07.04</td>\n",
       "      <td>7:15</td>\n",
       "      <td>NY                                            ...</td>\n",
       "      <td>MANHATTAN</td>\n",
       "      <td>143</td>\n",
       "      <td>AVENUE B</td>\n",
       "    </tr>\n",
       "    <tr>\n",
       "      <th>2</th>\n",
       "      <td>2014.07.05</td>\n",
       "      <td>5:45</td>\n",
       "      <td>NY                                            ...</td>\n",
       "      <td>MANHATTAN</td>\n",
       "      <td>125</td>\n",
       "      <td>CHRISTOPHER ST</td>\n",
       "    </tr>\n",
       "    <tr>\n",
       "      <th>3</th>\n",
       "      <td>2014.07.06</td>\n",
       "      <td>4:30</td>\n",
       "      <td>NY                                            ...</td>\n",
       "      <td>MANHATTAN</td>\n",
       "      <td>217</td>\n",
       "      <td>E 7 ST</td>\n",
       "    </tr>\n",
       "    <tr>\n",
       "      <th>4</th>\n",
       "      <td>2014.07.05</td>\n",
       "      <td>7:45</td>\n",
       "      <td>NY                                            ...</td>\n",
       "      <td>MANHATTAN</td>\n",
       "      <td>521</td>\n",
       "      <td>W 26 ST</td>\n",
       "    </tr>\n",
       "  </tbody>\n",
       "</table>\n",
       "</div>"
      ],
      "text/plain": [
       "         Date   Time                                              State  \\\n",
       "0  2014.07.06  14:30  NY                                            ...   \n",
       "1  2014.07.04   7:15  NY                                            ...   \n",
       "2  2014.07.05   5:45  NY                                            ...   \n",
       "3  2014.07.06   4:30  NY                                            ...   \n",
       "4  2014.07.05   7:45  NY                                            ...   \n",
       "\n",
       "      PuFrom Address                Street  \n",
       "0  MANHATTAN      50  MURRAY ST             \n",
       "1  MANHATTAN     143  AVENUE B              \n",
       "2  MANHATTAN     125  CHRISTOPHER ST        \n",
       "3  MANHATTAN     217  E 7 ST                \n",
       "4  MANHATTAN     521  W 26 ST               "
      ]
     },
     "execution_count": 82,
     "metadata": {},
     "output_type": "execute_result"
    }
   ],
   "source": [
    "dial7.head()"
   ]
  },
  {
   "cell_type": "code",
   "execution_count": 12,
   "metadata": {},
   "outputs": [
    {
     "data": {
      "text/html": [
       "<div>\n",
       "<style scoped>\n",
       "    .dataframe tbody tr th:only-of-type {\n",
       "        vertical-align: middle;\n",
       "    }\n",
       "\n",
       "    .dataframe tbody tr th {\n",
       "        vertical-align: top;\n",
       "    }\n",
       "\n",
       "    .dataframe thead th {\n",
       "        text-align: right;\n",
       "    }\n",
       "</style>\n",
       "<table border=\"1\" class=\"dataframe\">\n",
       "  <thead>\n",
       "    <tr style=\"text-align: right;\">\n",
       "      <th></th>\n",
       "      <th>Date</th>\n",
       "      <th>Time</th>\n",
       "      <th>State</th>\n",
       "      <th>PuFrom</th>\n",
       "      <th>Address</th>\n",
       "      <th>Street</th>\n",
       "      <th>pick_up_add_dia</th>\n",
       "    </tr>\n",
       "  </thead>\n",
       "  <tbody>\n",
       "    <tr>\n",
       "      <th>0</th>\n",
       "      <td>2014.07.06</td>\n",
       "      <td>14:30</td>\n",
       "      <td>NY                                            ...</td>\n",
       "      <td>MANHATTAN</td>\n",
       "      <td>50</td>\n",
       "      <td>MURRAY ST</td>\n",
       "      <td>50 MURRAY ST           , MANHATTAN</td>\n",
       "    </tr>\n",
       "    <tr>\n",
       "      <th>1</th>\n",
       "      <td>2014.07.04</td>\n",
       "      <td>7:15</td>\n",
       "      <td>NY                                            ...</td>\n",
       "      <td>MANHATTAN</td>\n",
       "      <td>143</td>\n",
       "      <td>AVENUE B</td>\n",
       "      <td>143 AVENUE B            , MANHATTAN</td>\n",
       "    </tr>\n",
       "    <tr>\n",
       "      <th>2</th>\n",
       "      <td>2014.07.05</td>\n",
       "      <td>5:45</td>\n",
       "      <td>NY                                            ...</td>\n",
       "      <td>MANHATTAN</td>\n",
       "      <td>125</td>\n",
       "      <td>CHRISTOPHER ST</td>\n",
       "      <td>125 CHRISTOPHER ST      , MANHATTAN</td>\n",
       "    </tr>\n",
       "    <tr>\n",
       "      <th>3</th>\n",
       "      <td>2014.07.06</td>\n",
       "      <td>4:30</td>\n",
       "      <td>NY                                            ...</td>\n",
       "      <td>MANHATTAN</td>\n",
       "      <td>217</td>\n",
       "      <td>E 7 ST</td>\n",
       "      <td>217 E 7 ST              , MANHATTAN</td>\n",
       "    </tr>\n",
       "    <tr>\n",
       "      <th>4</th>\n",
       "      <td>2014.07.05</td>\n",
       "      <td>7:45</td>\n",
       "      <td>NY                                            ...</td>\n",
       "      <td>MANHATTAN</td>\n",
       "      <td>521</td>\n",
       "      <td>W 26 ST</td>\n",
       "      <td>521 W 26 ST             , MANHATTAN</td>\n",
       "    </tr>\n",
       "  </tbody>\n",
       "</table>\n",
       "</div>"
      ],
      "text/plain": [
       "         Date   Time                                              State  \\\n",
       "0  2014.07.06  14:30  NY                                            ...   \n",
       "1  2014.07.04   7:15  NY                                            ...   \n",
       "2  2014.07.05   5:45  NY                                            ...   \n",
       "3  2014.07.06   4:30  NY                                            ...   \n",
       "4  2014.07.05   7:45  NY                                            ...   \n",
       "\n",
       "      PuFrom Address                Street  \\\n",
       "0  MANHATTAN      50  MURRAY ST              \n",
       "1  MANHATTAN     143  AVENUE B               \n",
       "2  MANHATTAN     125  CHRISTOPHER ST         \n",
       "3  MANHATTAN     217  E 7 ST                 \n",
       "4  MANHATTAN     521  W 26 ST                \n",
       "\n",
       "                       pick_up_add_dia  \n",
       "0   50 MURRAY ST           , MANHATTAN  \n",
       "1  143 AVENUE B            , MANHATTAN  \n",
       "2  125 CHRISTOPHER ST      , MANHATTAN  \n",
       "3  217 E 7 ST              , MANHATTAN  \n",
       "4  521 W 26 ST             , MANHATTAN  "
      ]
     },
     "execution_count": 12,
     "metadata": {},
     "output_type": "execute_result"
    }
   ],
   "source": [
    "dial7['pick_up_add_dia'] = dial7['Address'] + ' ' + dial7['Street'] + ', ' + dial7['PuFrom']\n",
    "dial7.head()"
   ]
  },
  {
   "cell_type": "code",
   "execution_count": 13,
   "metadata": {},
   "outputs": [],
   "source": [
    "dial7.drop(['State', 'PuFrom', 'Address', 'Street'], axis = 1, inplace=True)"
   ]
  },
  {
   "cell_type": "code",
   "execution_count": 14,
   "metadata": {},
   "outputs": [],
   "source": [
    "dial7.rename(columns = {'Date':'DATE', 'Time':'time_dia'}, inplace = True)"
   ]
  },
  {
   "cell_type": "code",
   "execution_count": 88,
   "metadata": {},
   "outputs": [
    {
     "data": {
      "text/html": [
       "<div>\n",
       "<style scoped>\n",
       "    .dataframe tbody tr th:only-of-type {\n",
       "        vertical-align: middle;\n",
       "    }\n",
       "\n",
       "    .dataframe tbody tr th {\n",
       "        vertical-align: top;\n",
       "    }\n",
       "\n",
       "    .dataframe thead th {\n",
       "        text-align: right;\n",
       "    }\n",
       "</style>\n",
       "<table border=\"1\" class=\"dataframe\">\n",
       "  <thead>\n",
       "    <tr style=\"text-align: right;\">\n",
       "      <th></th>\n",
       "      <th>Date</th>\n",
       "      <th>Time</th>\n",
       "      <th>PU_Address</th>\n",
       "    </tr>\n",
       "  </thead>\n",
       "  <tbody>\n",
       "    <tr>\n",
       "      <th>0</th>\n",
       "      <td>7/1/2014</td>\n",
       "      <td>12:00:00 AM</td>\n",
       "      <td>2396 Valentine Ave Fordham, BX</td>\n",
       "    </tr>\n",
       "    <tr>\n",
       "      <th>1</th>\n",
       "      <td>7/1/2014</td>\n",
       "      <td>12:01:00 AM</td>\n",
       "      <td>1859 Walton Ave Morris Heights, BX</td>\n",
       "    </tr>\n",
       "    <tr>\n",
       "      <th>2</th>\n",
       "      <td>7/1/2014</td>\n",
       "      <td>12:02:00 AM</td>\n",
       "      <td>2431 Jerome Ave Jerome, BX</td>\n",
       "    </tr>\n",
       "    <tr>\n",
       "      <th>3</th>\n",
       "      <td>7/1/2014</td>\n",
       "      <td>12:05:00 AM</td>\n",
       "      <td>3044 Valentine Ave Fordham, BX</td>\n",
       "    </tr>\n",
       "    <tr>\n",
       "      <th>4</th>\n",
       "      <td>7/1/2014</td>\n",
       "      <td>12:05:00 AM</td>\n",
       "      <td>1085 Nelson Ave High Bridge, BX</td>\n",
       "    </tr>\n",
       "  </tbody>\n",
       "</table>\n",
       "</div>"
      ],
      "text/plain": [
       "       Date         Time                           PU_Address\n",
       "0  7/1/2014  12:00:00 AM       2396 Valentine Ave Fordham, BX\n",
       "1  7/1/2014  12:01:00 AM   1859 Walton Ave Morris Heights, BX\n",
       "2  7/1/2014  12:02:00 AM           2431 Jerome Ave Jerome, BX\n",
       "3  7/1/2014  12:05:00 AM       3044 Valentine Ave Fordham, BX\n",
       "4  7/1/2014  12:05:00 AM      1085 Nelson Ave High Bridge, BX"
      ]
     },
     "execution_count": 88,
     "metadata": {},
     "output_type": "execute_result"
    }
   ],
   "source": [
    "diplo.head()"
   ]
  },
  {
   "cell_type": "code",
   "execution_count": 15,
   "metadata": {},
   "outputs": [],
   "source": [
    "diplo.rename(columns = {'Date':'DATE', 'Time':'time_dip', 'PU_Address':'pick_up_add_dip'}, inplace = True)"
   ]
  },
  {
   "cell_type": "code",
   "execution_count": 91,
   "metadata": {},
   "outputs": [
    {
     "data": {
      "text/html": [
       "<div>\n",
       "<style scoped>\n",
       "    .dataframe tbody tr th:only-of-type {\n",
       "        vertical-align: middle;\n",
       "    }\n",
       "\n",
       "    .dataframe tbody tr th {\n",
       "        vertical-align: top;\n",
       "    }\n",
       "\n",
       "    .dataframe thead th {\n",
       "        text-align: right;\n",
       "    }\n",
       "</style>\n",
       "<table border=\"1\" class=\"dataframe\">\n",
       "  <thead>\n",
       "    <tr style=\"text-align: right;\">\n",
       "      <th></th>\n",
       "      <th>DATE</th>\n",
       "      <th>TIME</th>\n",
       "      <th>PU_Address</th>\n",
       "    </tr>\n",
       "  </thead>\n",
       "  <tbody>\n",
       "    <tr>\n",
       "      <th>0</th>\n",
       "      <td>7/1/2014</td>\n",
       "      <td>12:00:00 AM</td>\n",
       "      <td>2976 Marion Ave Fordham, BX</td>\n",
       "    </tr>\n",
       "    <tr>\n",
       "      <th>1</th>\n",
       "      <td>7/1/2014</td>\n",
       "      <td>12:01:00 AM</td>\n",
       "      <td>780 Grand Concourse Cortlandt, BX</td>\n",
       "    </tr>\n",
       "    <tr>\n",
       "      <th>2</th>\n",
       "      <td>7/1/2014</td>\n",
       "      <td>12:01:00 AM</td>\n",
       "      <td>105 Elliot Pl High Bridge, BX</td>\n",
       "    </tr>\n",
       "    <tr>\n",
       "      <th>3</th>\n",
       "      <td>7/1/2014</td>\n",
       "      <td>12:03:00 AM</td>\n",
       "      <td>2825 Webb Ave Bronx</td>\n",
       "    </tr>\n",
       "    <tr>\n",
       "      <th>4</th>\n",
       "      <td>7/1/2014</td>\n",
       "      <td>12:04:00 AM</td>\n",
       "      <td>1878 Cedar Ave Morris Heights, BX</td>\n",
       "    </tr>\n",
       "  </tbody>\n",
       "</table>\n",
       "</div>"
      ],
      "text/plain": [
       "       DATE         TIME                          PU_Address\n",
       "0  7/1/2014  12:00:00 AM         2976 Marion Ave Fordham, BX\n",
       "1  7/1/2014  12:01:00 AM   780 Grand Concourse Cortlandt, BX\n",
       "2  7/1/2014  12:01:00 AM       105 Elliot Pl High Bridge, BX\n",
       "3  7/1/2014  12:03:00 AM                 2825 Webb Ave Bronx\n",
       "4  7/1/2014  12:04:00 AM   1878 Cedar Ave Morris Heights, BX"
      ]
     },
     "execution_count": 91,
     "metadata": {},
     "output_type": "execute_result"
    }
   ],
   "source": [
    "highclass.head()"
   ]
  },
  {
   "cell_type": "code",
   "execution_count": 16,
   "metadata": {},
   "outputs": [],
   "source": [
    "highclass.rename(columns = {'TIME':'time_high', 'PU_Address':'pick_up_add_high'}, inplace = True)"
   ]
  },
  {
   "cell_type": "code",
   "execution_count": 95,
   "metadata": {},
   "outputs": [
    {
     "data": {
      "text/html": [
       "<div>\n",
       "<style scoped>\n",
       "    .dataframe tbody tr th:only-of-type {\n",
       "        vertical-align: middle;\n",
       "    }\n",
       "\n",
       "    .dataframe tbody tr th {\n",
       "        vertical-align: top;\n",
       "    }\n",
       "\n",
       "    .dataframe thead th {\n",
       "        text-align: right;\n",
       "    }\n",
       "</style>\n",
       "<table border=\"1\" class=\"dataframe\">\n",
       "  <thead>\n",
       "    <tr style=\"text-align: right;\">\n",
       "      <th></th>\n",
       "      <th>Date</th>\n",
       "      <th>Time</th>\n",
       "      <th>Street_Address</th>\n",
       "      <th>City_State</th>\n",
       "      <th>Unnamed: 4</th>\n",
       "      <th>Unnamed: 5</th>\n",
       "    </tr>\n",
       "  </thead>\n",
       "  <tbody>\n",
       "    <tr>\n",
       "      <th>0</th>\n",
       "      <td>7/1/2014</td>\n",
       "      <td>20:27</td>\n",
       "      <td>622 THIRD AV</td>\n",
       "      <td>M</td>\n",
       "      <td>NaN</td>\n",
       "      <td>NaN</td>\n",
       "    </tr>\n",
       "    <tr>\n",
       "      <th>1</th>\n",
       "      <td>7/1/2014</td>\n",
       "      <td>21:04</td>\n",
       "      <td>E 77TH ST</td>\n",
       "      <td>M</td>\n",
       "      <td>NaN</td>\n",
       "      <td>NaN</td>\n",
       "    </tr>\n",
       "    <tr>\n",
       "      <th>2</th>\n",
       "      <td>7/1/2014</td>\n",
       "      <td>22:20</td>\n",
       "      <td>67 WEST PALISADES BLVD</td>\n",
       "      <td>PALISADES PARK NJ</td>\n",
       "      <td>NaN</td>\n",
       "      <td>NaN</td>\n",
       "    </tr>\n",
       "    <tr>\n",
       "      <th>3</th>\n",
       "      <td>7/1/2014</td>\n",
       "      <td>12:28</td>\n",
       "      <td>130 MIDDLE NECK RD</td>\n",
       "      <td>SANDS POINT LI</td>\n",
       "      <td>NaN</td>\n",
       "      <td>NaN</td>\n",
       "    </tr>\n",
       "    <tr>\n",
       "      <th>4</th>\n",
       "      <td>7/1/2014</td>\n",
       "      <td>16:45</td>\n",
       "      <td>36 E 31ST ST</td>\n",
       "      <td>M</td>\n",
       "      <td>NaN</td>\n",
       "      <td>NaN</td>\n",
       "    </tr>\n",
       "  </tbody>\n",
       "</table>\n",
       "</div>"
      ],
      "text/plain": [
       "       Date            Time                   Street_Address   \\\n",
       "0  7/1/2014      20:27           622 THIRD AV                   \n",
       "1  7/1/2014      21:04            E 77TH ST                     \n",
       "2  7/1/2014      22:20           67 WEST PALISADES BLVD         \n",
       "3  7/1/2014      12:28           130 MIDDLE NECK RD             \n",
       "4  7/1/2014      16:45           36 E 31ST ST                   \n",
       "\n",
       "                     City_State   Unnamed: 4  Unnamed: 5  \n",
       "0       M                                NaN         NaN  \n",
       "1       M                                NaN         NaN  \n",
       "2      PALISADES PARK NJ                 NaN         NaN  \n",
       "3      SANDS POINT LI                    NaN         NaN  \n",
       "4       M                                NaN         NaN  "
      ]
     },
     "execution_count": 95,
     "metadata": {},
     "output_type": "execute_result"
    }
   ],
   "source": [
    "skyline.head()"
   ]
  },
  {
   "cell_type": "code",
   "execution_count": null,
   "metadata": {},
   "outputs": [],
   "source": []
  },
  {
   "cell_type": "code",
   "execution_count": 17,
   "metadata": {},
   "outputs": [],
   "source": [
    "skyline['pick_up_add_sky'] = skyline['    Street_Address '] + ', ' + skyline['    City_State ']"
   ]
  },
  {
   "cell_type": "code",
   "execution_count": 18,
   "metadata": {},
   "outputs": [],
   "source": [
    "skyline.drop(['    Street_Address ', '    City_State ', 'Unnamed: 4', 'Unnamed: 5'], axis = 1, inplace=True)"
   ]
  },
  {
   "cell_type": "code",
   "execution_count": 19,
   "metadata": {},
   "outputs": [],
   "source": [
    "skyline.rename(columns = {'Date':'DATE', 'TIME':'time_sky'}, inplace = True)"
   ]
  },
  {
   "cell_type": "code",
   "execution_count": 110,
   "metadata": {},
   "outputs": [
    {
     "name": "stdout",
     "output_type": "stream",
     "text": [
      "<class 'pandas.core.frame.DataFrame'>\n",
      "RangeIndex: 276 entries, 0 to 275\n",
      "Data columns (total 7 columns):\n",
      "Date               276 non-null object\n",
      "Time               276 non-null object\n",
      "PU_Address         269 non-null object\n",
      "DO_Address         267 non-null object\n",
      "Routing Details    276 non-null object\n",
      "PU_Address.1       276 non-null object\n",
      "Status             276 non-null object\n",
      "dtypes: object(7)\n",
      "memory usage: 15.2+ KB\n"
     ]
    }
   ],
   "source": [
    "federal.info()"
   ]
  },
  {
   "cell_type": "code",
   "execution_count": 20,
   "metadata": {},
   "outputs": [],
   "source": [
    "federal.drop(['DO_Address', 'Routing Details', 'PU_Address.1', 'Status'], axis = 1, inplace=True)"
   ]
  },
  {
   "cell_type": "code",
   "execution_count": 21,
   "metadata": {},
   "outputs": [],
   "source": [
    "federal.rename(columns = {'Date':'DATE', 'Time':'time_fed', 'PU_Address':'pick_up_add_fed'}, inplace = True)"
   ]
  },
  {
   "cell_type": "code",
   "execution_count": 113,
   "metadata": {},
   "outputs": [
    {
     "data": {
      "text/html": [
       "<div>\n",
       "<style scoped>\n",
       "    .dataframe tbody tr th:only-of-type {\n",
       "        vertical-align: middle;\n",
       "    }\n",
       "\n",
       "    .dataframe tbody tr th {\n",
       "        vertical-align: top;\n",
       "    }\n",
       "\n",
       "    .dataframe thead th {\n",
       "        text-align: right;\n",
       "    }\n",
       "</style>\n",
       "<table border=\"1\" class=\"dataframe\">\n",
       "  <thead>\n",
       "    <tr style=\"text-align: right;\">\n",
       "      <th></th>\n",
       "      <th>time_of_trip</th>\n",
       "      <th>start_lat</th>\n",
       "      <th>start_lng</th>\n",
       "      <th>Unnamed: 3</th>\n",
       "    </tr>\n",
       "  </thead>\n",
       "  <tbody>\n",
       "    <tr>\n",
       "      <th>0</th>\n",
       "      <td>9/4/2014 9:51</td>\n",
       "      <td>40.64705</td>\n",
       "      <td>-73.77988</td>\n",
       "      <td>NaN</td>\n",
       "    </tr>\n",
       "    <tr>\n",
       "      <th>1</th>\n",
       "      <td>8/27/2014 21:13</td>\n",
       "      <td>40.74916</td>\n",
       "      <td>-73.98373</td>\n",
       "      <td>NaN</td>\n",
       "    </tr>\n",
       "    <tr>\n",
       "      <th>2</th>\n",
       "      <td>9/4/2014 14:16</td>\n",
       "      <td>40.64065</td>\n",
       "      <td>-73.97594</td>\n",
       "      <td>NaN</td>\n",
       "    </tr>\n",
       "    <tr>\n",
       "      <th>3</th>\n",
       "      <td>9/4/2014 16:08</td>\n",
       "      <td>40.75002</td>\n",
       "      <td>-73.99514</td>\n",
       "      <td>NaN</td>\n",
       "    </tr>\n",
       "    <tr>\n",
       "      <th>4</th>\n",
       "      <td>8/28/2014 2:41</td>\n",
       "      <td>40.76715</td>\n",
       "      <td>-73.98636</td>\n",
       "      <td>NaN</td>\n",
       "    </tr>\n",
       "  </tbody>\n",
       "</table>\n",
       "</div>"
      ],
      "text/plain": [
       "      time_of_trip  start_lat  start_lng Unnamed: 3\n",
       "0    9/4/2014 9:51   40.64705  -73.77988        NaN\n",
       "1  8/27/2014 21:13   40.74916  -73.98373        NaN\n",
       "2   9/4/2014 14:16   40.64065  -73.97594        NaN\n",
       "3   9/4/2014 16:08   40.75002  -73.99514        NaN\n",
       "4   8/28/2014 2:41   40.76715  -73.98636        NaN"
      ]
     },
     "execution_count": 113,
     "metadata": {},
     "output_type": "execute_result"
    }
   ],
   "source": [
    "lyft.head()"
   ]
  },
  {
   "cell_type": "code",
   "execution_count": 22,
   "metadata": {},
   "outputs": [],
   "source": [
    "lyft[['DATE','time_lyf']] = lyft.time_of_trip.str.split(' ', expand=True)"
   ]
  },
  {
   "cell_type": "code",
   "execution_count": 116,
   "metadata": {},
   "outputs": [
    {
     "name": "stdout",
     "output_type": "stream",
     "text": [
      "<class 'pandas.core.frame.DataFrame'>\n",
      "RangeIndex: 267701 entries, 0 to 267700\n",
      "Data columns (total 6 columns):\n",
      "time_of_trip    267701 non-null object\n",
      "start_lat       267700 non-null float64\n",
      "start_lng       267700 non-null float64\n",
      "Unnamed: 3      1198 non-null object\n",
      "DATE            267701 non-null object\n",
      "time_lyf        267701 non-null object\n",
      "dtypes: float64(2), object(4)\n",
      "memory usage: 12.3+ MB\n"
     ]
    }
   ],
   "source": [
    "lyft.info()"
   ]
  },
  {
   "cell_type": "code",
   "execution_count": 23,
   "metadata": {},
   "outputs": [],
   "source": [
    "lyft['pick_up_add_lyf'] = lyft['start_lat'].map(str) + ' ' + lyft['start_lng'].map(str)"
   ]
  },
  {
   "cell_type": "code",
   "execution_count": 24,
   "metadata": {},
   "outputs": [],
   "source": [
    "lyft.drop(['time_of_trip', 'Unnamed: 3'], axis = 1, inplace=True)"
   ]
  },
  {
   "cell_type": "code",
   "execution_count": 119,
   "metadata": {},
   "outputs": [
    {
     "data": {
      "text/html": [
       "<div>\n",
       "<style scoped>\n",
       "    .dataframe tbody tr th:only-of-type {\n",
       "        vertical-align: middle;\n",
       "    }\n",
       "\n",
       "    .dataframe tbody tr th {\n",
       "        vertical-align: top;\n",
       "    }\n",
       "\n",
       "    .dataframe thead th {\n",
       "        text-align: right;\n",
       "    }\n",
       "</style>\n",
       "<table border=\"1\" class=\"dataframe\">\n",
       "  <thead>\n",
       "    <tr style=\"text-align: right;\">\n",
       "      <th></th>\n",
       "      <th>DATE</th>\n",
       "      <th>TIME</th>\n",
       "      <th>PICK UP ADDRESS</th>\n",
       "    </tr>\n",
       "  </thead>\n",
       "  <tbody>\n",
       "    <tr>\n",
       "      <th>0</th>\n",
       "      <td>7/1/2014</td>\n",
       "      <td>12:02:00 AM</td>\n",
       "      <td>5360 Broadway Kingsbridge, BX</td>\n",
       "    </tr>\n",
       "    <tr>\n",
       "      <th>1</th>\n",
       "      <td>7/1/2014</td>\n",
       "      <td>12:02:00 AM</td>\n",
       "      <td>546 Isham St NYC</td>\n",
       "    </tr>\n",
       "    <tr>\n",
       "      <th>2</th>\n",
       "      <td>7/1/2014</td>\n",
       "      <td>12:03:00 AM</td>\n",
       "      <td>234 Bradhurst Ave NYC</td>\n",
       "    </tr>\n",
       "    <tr>\n",
       "      <th>3</th>\n",
       "      <td>7/1/2014</td>\n",
       "      <td>12:07:00 AM</td>\n",
       "      <td>99 Marble Hill Ave Bronx</td>\n",
       "    </tr>\n",
       "    <tr>\n",
       "      <th>4</th>\n",
       "      <td>7/1/2014</td>\n",
       "      <td>12:08:00 AM</td>\n",
       "      <td>120 Vermilyea Ave NYC</td>\n",
       "    </tr>\n",
       "  </tbody>\n",
       "</table>\n",
       "</div>"
      ],
      "text/plain": [
       "       DATE         TIME                 PICK UP ADDRESS\n",
       "0  7/1/2014  12:02:00 AM   5360 Broadway Kingsbridge, BX\n",
       "1  7/1/2014  12:02:00 AM                546 Isham St NYC\n",
       "2  7/1/2014  12:03:00 AM           234 Bradhurst Ave NYC\n",
       "3  7/1/2014  12:07:00 AM        99 Marble Hill Ave Bronx\n",
       "4  7/1/2014  12:08:00 AM           120 Vermilyea Ave NYC"
      ]
     },
     "execution_count": 119,
     "metadata": {},
     "output_type": "execute_result"
    }
   ],
   "source": [
    "firstclass.head()"
   ]
  },
  {
   "cell_type": "code",
   "execution_count": 25,
   "metadata": {},
   "outputs": [],
   "source": [
    "firstclass.rename(columns = {'TIME':'time_fir', 'PICK UP ADDRESS':'pick_up_add_fir'}, inplace = True)"
   ]
  },
  {
   "cell_type": "code",
   "execution_count": 121,
   "metadata": {},
   "outputs": [
    {
     "data": {
      "text/html": [
       "<div>\n",
       "<style scoped>\n",
       "    .dataframe tbody tr th:only-of-type {\n",
       "        vertical-align: middle;\n",
       "    }\n",
       "\n",
       "    .dataframe tbody tr th {\n",
       "        vertical-align: top;\n",
       "    }\n",
       "\n",
       "    .dataframe thead th {\n",
       "        text-align: right;\n",
       "    }\n",
       "</style>\n",
       "<table border=\"1\" class=\"dataframe\">\n",
       "  <thead>\n",
       "    <tr style=\"text-align: right;\">\n",
       "      <th></th>\n",
       "      <th>DATE</th>\n",
       "      <th>TIME</th>\n",
       "      <th>PICK UP ADDRESS</th>\n",
       "    </tr>\n",
       "  </thead>\n",
       "  <tbody>\n",
       "    <tr>\n",
       "      <th>0</th>\n",
       "      <td>7/1/2014</td>\n",
       "      <td>12:00:00 AM</td>\n",
       "      <td>2557 Marion Ave Fordham, BX</td>\n",
       "    </tr>\n",
       "    <tr>\n",
       "      <th>1</th>\n",
       "      <td>7/1/2014</td>\n",
       "      <td>12:00:00 AM</td>\n",
       "      <td>45 E Mosholu Pkwy N Williamsbridge, BX</td>\n",
       "    </tr>\n",
       "    <tr>\n",
       "      <th>2</th>\n",
       "      <td>7/1/2014</td>\n",
       "      <td>12:00:00 AM</td>\n",
       "      <td>458 E 143rd St Mott Haven, BX</td>\n",
       "    </tr>\n",
       "    <tr>\n",
       "      <th>3</th>\n",
       "      <td>7/1/2014</td>\n",
       "      <td>12:02:00 AM</td>\n",
       "      <td>MINIVAN SUV 2557 Marion Ave Fordham, BX</td>\n",
       "    </tr>\n",
       "    <tr>\n",
       "      <th>4</th>\n",
       "      <td>7/1/2014</td>\n",
       "      <td>12:02:00 AM</td>\n",
       "      <td>1117 Westchester Ave Foxhurst, BX</td>\n",
       "    </tr>\n",
       "  </tbody>\n",
       "</table>\n",
       "</div>"
      ],
      "text/plain": [
       "       DATE         TIME                          PICK UP ADDRESS\n",
       "0  7/1/2014  12:00:00 AM              2557 Marion Ave Fordham, BX\n",
       "1  7/1/2014  12:00:00 AM   45 E Mosholu Pkwy N Williamsbridge, BX\n",
       "2  7/1/2014  12:00:00 AM            458 E 143rd St Mott Haven, BX\n",
       "3  7/1/2014  12:02:00 AM  MINIVAN SUV 2557 Marion Ave Fordham, BX\n",
       "4  7/1/2014  12:02:00 AM        1117 Westchester Ave Foxhurst, BX"
      ]
     },
     "execution_count": 121,
     "metadata": {},
     "output_type": "execute_result"
    }
   ],
   "source": [
    "prestige.head()"
   ]
  },
  {
   "cell_type": "code",
   "execution_count": 26,
   "metadata": {},
   "outputs": [],
   "source": [
    "prestige.rename(columns = {'TIME':'time_pre', 'PICK UP ADDRESS':'pick_up_add_pre'}, inplace = True)"
   ]
  },
  {
   "cell_type": "code",
   "execution_count": 123,
   "metadata": {},
   "outputs": [
    {
     "data": {
      "text/html": [
       "<div>\n",
       "<style scoped>\n",
       "    .dataframe tbody tr th:only-of-type {\n",
       "        vertical-align: middle;\n",
       "    }\n",
       "\n",
       "    .dataframe tbody tr th {\n",
       "        vertical-align: top;\n",
       "    }\n",
       "\n",
       "    .dataframe thead th {\n",
       "        text-align: right;\n",
       "    }\n",
       "</style>\n",
       "<table border=\"1\" class=\"dataframe\">\n",
       "  <thead>\n",
       "    <tr style=\"text-align: right;\">\n",
       "      <th></th>\n",
       "      <th>Date_Time</th>\n",
       "      <th>Lat</th>\n",
       "      <th>Lon</th>\n",
       "      <th>Base</th>\n",
       "    </tr>\n",
       "  </thead>\n",
       "  <tbody>\n",
       "    <tr>\n",
       "      <th>0</th>\n",
       "      <td>2014-07-01 00:03:00</td>\n",
       "      <td>40.7586</td>\n",
       "      <td>-73.9706</td>\n",
       "      <td>B02512</td>\n",
       "    </tr>\n",
       "    <tr>\n",
       "      <th>1</th>\n",
       "      <td>2014-07-01 00:05:00</td>\n",
       "      <td>40.7605</td>\n",
       "      <td>-73.9994</td>\n",
       "      <td>B02512</td>\n",
       "    </tr>\n",
       "    <tr>\n",
       "      <th>2</th>\n",
       "      <td>2014-07-01 00:06:00</td>\n",
       "      <td>40.7320</td>\n",
       "      <td>-73.9999</td>\n",
       "      <td>B02512</td>\n",
       "    </tr>\n",
       "    <tr>\n",
       "      <th>3</th>\n",
       "      <td>2014-07-01 00:09:00</td>\n",
       "      <td>40.7635</td>\n",
       "      <td>-73.9793</td>\n",
       "      <td>B02512</td>\n",
       "    </tr>\n",
       "    <tr>\n",
       "      <th>4</th>\n",
       "      <td>2014-07-01 00:20:00</td>\n",
       "      <td>40.7204</td>\n",
       "      <td>-74.0047</td>\n",
       "      <td>B02512</td>\n",
       "    </tr>\n",
       "  </tbody>\n",
       "</table>\n",
       "</div>"
      ],
      "text/plain": [
       "            Date_Time      Lat      Lon    Base\n",
       "0 2014-07-01 00:03:00  40.7586 -73.9706  B02512\n",
       "1 2014-07-01 00:05:00  40.7605 -73.9994  B02512\n",
       "2 2014-07-01 00:06:00  40.7320 -73.9999  B02512\n",
       "3 2014-07-01 00:09:00  40.7635 -73.9793  B02512\n",
       "4 2014-07-01 00:20:00  40.7204 -74.0047  B02512"
      ]
     },
     "execution_count": 123,
     "metadata": {},
     "output_type": "execute_result"
    }
   ],
   "source": [
    "uber_data.head()"
   ]
  },
  {
   "cell_type": "code",
   "execution_count": 29,
   "metadata": {},
   "outputs": [],
   "source": [
    "uber_data['pick_up_add_ube'] = uber_data['Lat'].map(str) + ' ' + uber_data['Lon'].map(str)"
   ]
  },
  {
   "cell_type": "code",
   "execution_count": 127,
   "metadata": {},
   "outputs": [
    {
     "name": "stdout",
     "output_type": "stream",
     "text": [
      "<class 'pandas.core.frame.DataFrame'>\n",
      "RangeIndex: 2653532 entries, 0 to 2653531\n",
      "Data columns (total 5 columns):\n",
      "Date_Time          datetime64[ns]\n",
      "Lat                float64\n",
      "Lon                float64\n",
      "Base               object\n",
      "pick_up_add_ube    object\n",
      "dtypes: datetime64[ns](1), float64(2), object(2)\n",
      "memory usage: 101.2+ MB\n"
     ]
    }
   ],
   "source": [
    "uber_data.info()"
   ]
  },
  {
   "cell_type": "code",
   "execution_count": 28,
   "metadata": {},
   "outputs": [],
   "source": [
    "uber_data['DATE'] = uber_data['Date_Time'].dt.date\n",
    "uber_data['time_ube'] = uber_data['Date_Time'].dt.time"
   ]
  },
  {
   "cell_type": "code",
   "execution_count": 30,
   "metadata": {},
   "outputs": [],
   "source": [
    "uber_data.drop(['Base', 'Date_Time'], axis = 1, inplace=True)"
   ]
  },
  {
   "cell_type": "markdown",
   "metadata": {},
   "source": [
    "Checking dates to compare the same period"
   ]
  },
  {
   "cell_type": "code",
   "execution_count": 31,
   "metadata": {},
   "outputs": [],
   "source": [
    "american['DATE'] = pd.to_datetime(american['DATE'])\n",
    "carmel['DATE'] = pd.to_datetime(carmel['DATE'])\n",
    "dial7['DATE'] = pd.to_datetime(dial7['DATE'])\n",
    "diplo['DATE'] = pd.to_datetime(diplo['DATE'])\n",
    "highclass['DATE'] = pd.to_datetime(highclass['DATE'])\n",
    "skyline['DATE'] = pd.to_datetime(skyline['DATE'])\n",
    "federal['DATE'] = pd.to_datetime(federal['DATE'])\n",
    "lyft['DATE'] = pd.to_datetime(lyft['DATE'])\n",
    "firstclass['DATE'] = pd.to_datetime(firstclass['DATE'])\n",
    "prestige['DATE'] = pd.to_datetime(prestige['DATE'])\n",
    "uber_data['DATE'] = pd.to_datetime(uber_data['DATE'])"
   ]
  },
  {
   "cell_type": "code",
   "execution_count": 133,
   "metadata": {},
   "outputs": [
    {
     "name": "stdout",
     "output_type": "stream",
     "text": [
      "2014-07-01 00:00:00\n",
      "2014-09-30 00:00:00\n"
     ]
    }
   ],
   "source": [
    "print (min(american.DATE))\n",
    "print (max(american.DATE))"
   ]
  },
  {
   "cell_type": "code",
   "execution_count": 138,
   "metadata": {},
   "outputs": [
    {
     "name": "stdout",
     "output_type": "stream",
     "text": [
      "2014-07-01 00:00:00\n",
      "2014-09-30 00:00:00\n"
     ]
    }
   ],
   "source": [
    "print (min(carmel.DATE))\n",
    "print (max(carmel.DATE))"
   ]
  },
  {
   "cell_type": "code",
   "execution_count": 139,
   "metadata": {},
   "outputs": [
    {
     "name": "stdout",
     "output_type": "stream",
     "text": [
      "2014-07-01 00:00:00\n",
      "2014-09-30 00:00:00\n"
     ]
    }
   ],
   "source": [
    "print (min(dial7.DATE))\n",
    "print (max(dial7.DATE))"
   ]
  },
  {
   "cell_type": "code",
   "execution_count": 140,
   "metadata": {},
   "outputs": [
    {
     "name": "stdout",
     "output_type": "stream",
     "text": [
      "2014-07-01 00:00:00\n",
      "2014-09-30 00:00:00\n"
     ]
    }
   ],
   "source": [
    "print (min(diplo.DATE))\n",
    "print (max(diplo.DATE))"
   ]
  },
  {
   "cell_type": "code",
   "execution_count": 141,
   "metadata": {},
   "outputs": [
    {
     "name": "stdout",
     "output_type": "stream",
     "text": [
      "2014-07-01 00:00:00\n",
      "2014-09-30 00:00:00\n"
     ]
    }
   ],
   "source": [
    "print (min(highclass.DATE))\n",
    "print (max(highclass.DATE))"
   ]
  },
  {
   "cell_type": "code",
   "execution_count": 142,
   "metadata": {},
   "outputs": [
    {
     "name": "stdout",
     "output_type": "stream",
     "text": [
      "2014-07-01 00:00:00\n",
      "2014-09-30 00:00:00\n"
     ]
    }
   ],
   "source": [
    "print (min(skyline.DATE))\n",
    "print (max(skyline.DATE))"
   ]
  },
  {
   "cell_type": "code",
   "execution_count": 143,
   "metadata": {},
   "outputs": [
    {
     "name": "stdout",
     "output_type": "stream",
     "text": [
      "2014-07-01 00:00:00\n",
      "2014-09-28 00:00:00\n"
     ]
    }
   ],
   "source": [
    "print (min(federal.DATE))\n",
    "print (max(federal.DATE))"
   ]
  },
  {
   "cell_type": "code",
   "execution_count": 144,
   "metadata": {},
   "outputs": [
    {
     "name": "stdout",
     "output_type": "stream",
     "text": [
      "2014-07-25 00:00:00\n",
      "2014-09-30 00:00:00\n"
     ]
    }
   ],
   "source": [
    "print (min(lyft.DATE))\n",
    "print (max(lyft.DATE))"
   ]
  },
  {
   "cell_type": "code",
   "execution_count": 145,
   "metadata": {},
   "outputs": [
    {
     "name": "stdout",
     "output_type": "stream",
     "text": [
      "2014-07-01 00:00:00\n",
      "2014-09-30 00:00:00\n"
     ]
    }
   ],
   "source": [
    "print (min(firstclass.DATE))\n",
    "print (max(firstclass.DATE))"
   ]
  },
  {
   "cell_type": "code",
   "execution_count": 146,
   "metadata": {},
   "outputs": [
    {
     "name": "stdout",
     "output_type": "stream",
     "text": [
      "2014-07-01 00:00:00\n",
      "2014-09-30 00:00:00\n"
     ]
    }
   ],
   "source": [
    "print (min(prestige.DATE))\n",
    "print (max(prestige.DATE))"
   ]
  },
  {
   "cell_type": "code",
   "execution_count": 149,
   "metadata": {},
   "outputs": [
    {
     "name": "stdout",
     "output_type": "stream",
     "text": [
      "2014-07-01 00:00:00\n",
      "2014-09-30 00:00:00\n"
     ]
    }
   ],
   "source": [
    "print (min(uber_data.DATE))\n",
    "print (max(uber_data.DATE))"
   ]
  },
  {
   "cell_type": "markdown",
   "metadata": {},
   "source": [
    "Minimum date should be 2014-07-25 00:00:00\n",
    "Maximum date should be 2014-09-28 00:00:00\n",
    "https://www.geeksforgeeks.org/drop-rows-from-the-dataframe-based-on-certain-condition-applied-on-a-column/"
   ]
  },
  {
   "cell_type": "markdown",
   "metadata": {},
   "source": [
    "Filter all tables by minimum and maximum date to equally compare the companies.\n",
    "Rename it as 'company name_1'"
   ]
  },
  {
   "cell_type": "code",
   "execution_count": 150,
   "metadata": {},
   "outputs": [],
   "source": [
    "#MINIMUM\n",
    "american_1 = american[american['DATE'] >= '2014-07-25']\n",
    "carmel_1 = carmel[carmel['DATE'] >= '2014-07-25']\n",
    "dial7_1 = dial7[dial7['DATE'] >= '2014-07-25']\n",
    "diplo_1 = diplo[diplo['DATE'] >= '2014-07-25']\n",
    "highclass_1 = highclass[highclass['DATE'] >= '2014-07-25']\n",
    "skyline_1 = skyline[skyline['DATE'] >= '2014-07-25']\n",
    "federal_1 = federal[federal['DATE'] >= '2014-07-25']\n",
    "lyft_1 = lyft[lyft['DATE'] >= '2014-07-25']\n",
    "firstclass_1 = firstclass[firstclass['DATE'] >= '2014-07-25']\n",
    "prestige_1 = prestige[prestige['DATE'] >= '2014-07-25']\n",
    "uber_data_1 = uber_data[uber_data['DATE'] >= '2014-07-25']"
   ]
  },
  {
   "cell_type": "code",
   "execution_count": 151,
   "metadata": {},
   "outputs": [],
   "source": [
    "#MAXIMUM\n",
    "american_1 = american[american['DATE'] <= '2014-09-28']\n",
    "carmel_1 = carmel[carmel['DATE'] <= '2014-09-28']\n",
    "dial7_1 = dial7[dial7['DATE'] <= '2014-09-28']\n",
    "diplo_1 = diplo[diplo['DATE'] <= '2014-09-28']\n",
    "highclass_1 = highclass[highclass['DATE'] <= '2014-09-28']\n",
    "skyline_1 = skyline[skyline['DATE'] <= '2014-09-28']\n",
    "federal_1 = federal[federal['DATE'] <= '2014-09-28']\n",
    "lyft_1 = lyft[lyft['DATE'] <= '2014-09-28']\n",
    "firstclass_1 = firstclass[firstclass['DATE'] <= '2014-09-28']\n",
    "prestige_1 = prestige[prestige['DATE'] <= '2014-09-28']\n",
    "uber_data_1 = uber_data[uber_data['DATE'] <= '2014-09-28']"
   ]
  },
  {
   "cell_type": "code",
   "execution_count": 20,
   "metadata": {},
   "outputs": [],
   "source": [
    "american['DATE'] = pd.to_datetime(american['DATE'])"
   ]
  },
  {
   "cell_type": "code",
   "execution_count": 32,
   "metadata": {},
   "outputs": [],
   "source": [
    "american_1 = american[(american['DATE'] >= '2014-07-25') & (american['DATE'] <= '2014-09-28')]\n",
    "carmel_1 = carmel[(carmel['DATE'] >= '2014-07-25') & (carmel['DATE'] <= '2014-09-28')]\n",
    "dial7_1 = dial7[(dial7['DATE'] >= '2014-07-25') & (dial7['DATE'] <= '2014-09-28')]\n",
    "diplo_1 = diplo[(diplo['DATE'] >= '2014-07-25') & (diplo['DATE'] <= '2014-09-28')]\n",
    "highclass_1 = highclass[(highclass['DATE'] >= '2014-07-25') & (highclass['DATE'] <= '2014-09-28')]\n",
    "skyline_1 = skyline[(skyline['DATE'] >= '2014-07-25') & (skyline['DATE'] <= '2014-09-28')]\n",
    "federal_1 = federal[(federal['DATE'] >= '2014-07-25') & (federal['DATE'] <= '2014-09-28')]\n",
    "lyft_1 = lyft[(lyft['DATE'] >= '2014-07-25') & (lyft['DATE'] <= '2014-09-28')]\n",
    "firstclass_1 = firstclass[(firstclass['DATE'] >= '2014-07-25') & (firstclass['DATE'] <= '2014-09-28')]\n",
    "prestige_1 = prestige[(prestige['DATE'] >= '2014-07-25') & (prestige['DATE'] <= '2014-09-28')]\n",
    "uber_data_1 = uber_data[(uber_data['DATE'] >= '2014-07-25') & (uber_data['DATE'] <= '2014-09-28')]"
   ]
  },
  {
   "cell_type": "code",
   "execution_count": 32,
   "metadata": {},
   "outputs": [],
   "source": [
    "merge_test = pd.merge (american_1, carmel_1, on = 'DATE', how = 'outer', indicator = True)"
   ]
  },
  {
   "cell_type": "code",
   "execution_count": 33,
   "metadata": {},
   "outputs": [
    {
     "data": {
      "text/html": [
       "<div>\n",
       "<style scoped>\n",
       "    .dataframe tbody tr th:only-of-type {\n",
       "        vertical-align: middle;\n",
       "    }\n",
       "\n",
       "    .dataframe tbody tr th {\n",
       "        vertical-align: top;\n",
       "    }\n",
       "\n",
       "    .dataframe thead th {\n",
       "        text-align: right;\n",
       "    }\n",
       "</style>\n",
       "<table border=\"1\" class=\"dataframe\">\n",
       "  <thead>\n",
       "    <tr style=\"text-align: right;\">\n",
       "      <th></th>\n",
       "      <th>DATE</th>\n",
       "      <th>time_amer</th>\n",
       "      <th>pick_up_add_amer</th>\n",
       "      <th>time_carm</th>\n",
       "      <th>pick_up_add_carm</th>\n",
       "      <th>_merge</th>\n",
       "    </tr>\n",
       "  </thead>\n",
       "  <tbody>\n",
       "    <tr>\n",
       "      <th>count</th>\n",
       "      <td>181630804</td>\n",
       "      <td>181630804</td>\n",
       "      <td>181630804</td>\n",
       "      <td>181630804</td>\n",
       "      <td>181630804</td>\n",
       "      <td>181630804</td>\n",
       "    </tr>\n",
       "    <tr>\n",
       "      <th>unique</th>\n",
       "      <td>66</td>\n",
       "      <td>1440</td>\n",
       "      <td>8549</td>\n",
       "      <td>1404</td>\n",
       "      <td>51214</td>\n",
       "      <td>1</td>\n",
       "    </tr>\n",
       "    <tr>\n",
       "      <th>top</th>\n",
       "      <td>2014-09-19 00:00:00</td>\n",
       "      <td>7:46:00 AM</td>\n",
       "      <td>400 Brook Ave Mott Haven, BX</td>\n",
       "      <td>15:00</td>\n",
       "      <td>JFK</td>\n",
       "      <td>both</td>\n",
       "    </tr>\n",
       "    <tr>\n",
       "      <th>freq</th>\n",
       "      <td>3666256</td>\n",
       "      <td>261722</td>\n",
       "      <td>2425139</td>\n",
       "      <td>3229725</td>\n",
       "      <td>20513145</td>\n",
       "      <td>181630804</td>\n",
       "    </tr>\n",
       "    <tr>\n",
       "      <th>first</th>\n",
       "      <td>2014-07-25 00:00:00</td>\n",
       "      <td>NaN</td>\n",
       "      <td>NaN</td>\n",
       "      <td>NaN</td>\n",
       "      <td>NaN</td>\n",
       "      <td>NaN</td>\n",
       "    </tr>\n",
       "    <tr>\n",
       "      <th>last</th>\n",
       "      <td>2014-09-28 00:00:00</td>\n",
       "      <td>NaN</td>\n",
       "      <td>NaN</td>\n",
       "      <td>NaN</td>\n",
       "      <td>NaN</td>\n",
       "      <td>NaN</td>\n",
       "    </tr>\n",
       "  </tbody>\n",
       "</table>\n",
       "</div>"
      ],
      "text/plain": [
       "                       DATE   time_amer               pick_up_add_amer  \\\n",
       "count             181630804   181630804                      181630804   \n",
       "unique                   66        1440                           8549   \n",
       "top     2014-09-19 00:00:00  7:46:00 AM   400 Brook Ave Mott Haven, BX   \n",
       "freq                3666256      261722                        2425139   \n",
       "first   2014-07-25 00:00:00         NaN                            NaN   \n",
       "last    2014-09-28 00:00:00         NaN                            NaN   \n",
       "\n",
       "        time_carm pick_up_add_carm     _merge  \n",
       "count   181630804        181630804  181630804  \n",
       "unique       1404            51214          1  \n",
       "top         15:00              JFK       both  \n",
       "freq      3229725         20513145  181630804  \n",
       "first         NaN              NaN        NaN  \n",
       "last          NaN              NaN        NaN  "
      ]
     },
     "execution_count": 33,
     "metadata": {},
     "output_type": "execute_result"
    }
   ],
   "source": [
    "merge_test.describe()"
   ]
  },
  {
   "cell_type": "code",
   "execution_count": 34,
   "metadata": {},
   "outputs": [
    {
     "ename": "MemoryError",
     "evalue": "",
     "output_type": "error",
     "traceback": [
      "\u001b[1;31m---------------------------------------------------------------------------\u001b[0m",
      "\u001b[1;31mMemoryError\u001b[0m                               Traceback (most recent call last)",
      "\u001b[1;32m<ipython-input-34-1f41381c9b77>\u001b[0m in \u001b[0;36m<module>\u001b[1;34m\u001b[0m\n\u001b[1;32m----> 1\u001b[1;33m \u001b[0mmerge_test1\u001b[0m \u001b[1;33m=\u001b[0m \u001b[0mpd\u001b[0m\u001b[1;33m.\u001b[0m\u001b[0mmerge\u001b[0m\u001b[1;33m(\u001b[0m\u001b[0mpd\u001b[0m\u001b[1;33m.\u001b[0m\u001b[0mmerge\u001b[0m\u001b[1;33m(\u001b[0m\u001b[0mamerican_1\u001b[0m\u001b[1;33m,\u001b[0m \u001b[0mcarmel_1\u001b[0m\u001b[1;33m)\u001b[0m\u001b[1;33m,\u001b[0m \u001b[0mdial7_1\u001b[0m\u001b[1;33m)\u001b[0m\u001b[1;33m\u001b[0m\u001b[1;33m\u001b[0m\u001b[0m\n\u001b[0m",
      "\u001b[1;32m~\\Anaconda3\\lib\\site-packages\\pandas\\core\\reshape\\merge.py\u001b[0m in \u001b[0;36mmerge\u001b[1;34m(left, right, how, on, left_on, right_on, left_index, right_index, sort, suffixes, copy, indicator, validate)\u001b[0m\n\u001b[0;32m     81\u001b[0m         \u001b[0mvalidate\u001b[0m\u001b[1;33m=\u001b[0m\u001b[0mvalidate\u001b[0m\u001b[1;33m,\u001b[0m\u001b[1;33m\u001b[0m\u001b[1;33m\u001b[0m\u001b[0m\n\u001b[0;32m     82\u001b[0m     )\n\u001b[1;32m---> 83\u001b[1;33m     \u001b[1;32mreturn\u001b[0m \u001b[0mop\u001b[0m\u001b[1;33m.\u001b[0m\u001b[0mget_result\u001b[0m\u001b[1;33m(\u001b[0m\u001b[1;33m)\u001b[0m\u001b[1;33m\u001b[0m\u001b[1;33m\u001b[0m\u001b[0m\n\u001b[0m\u001b[0;32m     84\u001b[0m \u001b[1;33m\u001b[0m\u001b[0m\n\u001b[0;32m     85\u001b[0m \u001b[1;33m\u001b[0m\u001b[0m\n",
      "\u001b[1;32m~\\Anaconda3\\lib\\site-packages\\pandas\\core\\reshape\\merge.py\u001b[0m in \u001b[0;36mget_result\u001b[1;34m(self)\u001b[0m\n\u001b[0;32m    640\u001b[0m             \u001b[0mself\u001b[0m\u001b[1;33m.\u001b[0m\u001b[0mleft\u001b[0m\u001b[1;33m,\u001b[0m \u001b[0mself\u001b[0m\u001b[1;33m.\u001b[0m\u001b[0mright\u001b[0m \u001b[1;33m=\u001b[0m \u001b[0mself\u001b[0m\u001b[1;33m.\u001b[0m\u001b[0m_indicator_pre_merge\u001b[0m\u001b[1;33m(\u001b[0m\u001b[0mself\u001b[0m\u001b[1;33m.\u001b[0m\u001b[0mleft\u001b[0m\u001b[1;33m,\u001b[0m \u001b[0mself\u001b[0m\u001b[1;33m.\u001b[0m\u001b[0mright\u001b[0m\u001b[1;33m)\u001b[0m\u001b[1;33m\u001b[0m\u001b[1;33m\u001b[0m\u001b[0m\n\u001b[0;32m    641\u001b[0m \u001b[1;33m\u001b[0m\u001b[0m\n\u001b[1;32m--> 642\u001b[1;33m         \u001b[0mjoin_index\u001b[0m\u001b[1;33m,\u001b[0m \u001b[0mleft_indexer\u001b[0m\u001b[1;33m,\u001b[0m \u001b[0mright_indexer\u001b[0m \u001b[1;33m=\u001b[0m \u001b[0mself\u001b[0m\u001b[1;33m.\u001b[0m\u001b[0m_get_join_info\u001b[0m\u001b[1;33m(\u001b[0m\u001b[1;33m)\u001b[0m\u001b[1;33m\u001b[0m\u001b[1;33m\u001b[0m\u001b[0m\n\u001b[0m\u001b[0;32m    643\u001b[0m \u001b[1;33m\u001b[0m\u001b[0m\n\u001b[0;32m    644\u001b[0m         \u001b[0mldata\u001b[0m\u001b[1;33m,\u001b[0m \u001b[0mrdata\u001b[0m \u001b[1;33m=\u001b[0m \u001b[0mself\u001b[0m\u001b[1;33m.\u001b[0m\u001b[0mleft\u001b[0m\u001b[1;33m.\u001b[0m\u001b[0m_data\u001b[0m\u001b[1;33m,\u001b[0m \u001b[0mself\u001b[0m\u001b[1;33m.\u001b[0m\u001b[0mright\u001b[0m\u001b[1;33m.\u001b[0m\u001b[0m_data\u001b[0m\u001b[1;33m\u001b[0m\u001b[1;33m\u001b[0m\u001b[0m\n",
      "\u001b[1;32m~\\Anaconda3\\lib\\site-packages\\pandas\\core\\reshape\\merge.py\u001b[0m in \u001b[0;36m_get_join_info\u001b[1;34m(self)\u001b[0m\n\u001b[0;32m    857\u001b[0m             )\n\u001b[0;32m    858\u001b[0m         \u001b[1;32melse\u001b[0m\u001b[1;33m:\u001b[0m\u001b[1;33m\u001b[0m\u001b[1;33m\u001b[0m\u001b[0m\n\u001b[1;32m--> 859\u001b[1;33m             \u001b[1;33m(\u001b[0m\u001b[0mleft_indexer\u001b[0m\u001b[1;33m,\u001b[0m \u001b[0mright_indexer\u001b[0m\u001b[1;33m)\u001b[0m \u001b[1;33m=\u001b[0m \u001b[0mself\u001b[0m\u001b[1;33m.\u001b[0m\u001b[0m_get_join_indexers\u001b[0m\u001b[1;33m(\u001b[0m\u001b[1;33m)\u001b[0m\u001b[1;33m\u001b[0m\u001b[1;33m\u001b[0m\u001b[0m\n\u001b[0m\u001b[0;32m    860\u001b[0m \u001b[1;33m\u001b[0m\u001b[0m\n\u001b[0;32m    861\u001b[0m             \u001b[1;32mif\u001b[0m \u001b[0mself\u001b[0m\u001b[1;33m.\u001b[0m\u001b[0mright_index\u001b[0m\u001b[1;33m:\u001b[0m\u001b[1;33m\u001b[0m\u001b[1;33m\u001b[0m\u001b[0m\n",
      "\u001b[1;32m~\\Anaconda3\\lib\\site-packages\\pandas\\core\\reshape\\merge.py\u001b[0m in \u001b[0;36m_get_join_indexers\u001b[1;34m(self)\u001b[0m\n\u001b[0;32m    836\u001b[0m         \u001b[1;34m\"\"\" return the join indexers \"\"\"\u001b[0m\u001b[1;33m\u001b[0m\u001b[1;33m\u001b[0m\u001b[0m\n\u001b[0;32m    837\u001b[0m         return _get_join_indexers(\n\u001b[1;32m--> 838\u001b[1;33m             \u001b[0mself\u001b[0m\u001b[1;33m.\u001b[0m\u001b[0mleft_join_keys\u001b[0m\u001b[1;33m,\u001b[0m \u001b[0mself\u001b[0m\u001b[1;33m.\u001b[0m\u001b[0mright_join_keys\u001b[0m\u001b[1;33m,\u001b[0m \u001b[0msort\u001b[0m\u001b[1;33m=\u001b[0m\u001b[0mself\u001b[0m\u001b[1;33m.\u001b[0m\u001b[0msort\u001b[0m\u001b[1;33m,\u001b[0m \u001b[0mhow\u001b[0m\u001b[1;33m=\u001b[0m\u001b[0mself\u001b[0m\u001b[1;33m.\u001b[0m\u001b[0mhow\u001b[0m\u001b[1;33m\u001b[0m\u001b[1;33m\u001b[0m\u001b[0m\n\u001b[0m\u001b[0;32m    839\u001b[0m         )\n\u001b[0;32m    840\u001b[0m \u001b[1;33m\u001b[0m\u001b[0m\n",
      "\u001b[1;32m~\\Anaconda3\\lib\\site-packages\\pandas\\core\\reshape\\merge.py\u001b[0m in \u001b[0;36m_get_join_indexers\u001b[1;34m(left_keys, right_keys, sort, how, **kwargs)\u001b[0m\n\u001b[0;32m   1318\u001b[0m     \u001b[0mjoin_func\u001b[0m \u001b[1;33m=\u001b[0m \u001b[0m_join_functions\u001b[0m\u001b[1;33m[\u001b[0m\u001b[0mhow\u001b[0m\u001b[1;33m]\u001b[0m\u001b[1;33m\u001b[0m\u001b[1;33m\u001b[0m\u001b[0m\n\u001b[0;32m   1319\u001b[0m \u001b[1;33m\u001b[0m\u001b[0m\n\u001b[1;32m-> 1320\u001b[1;33m     \u001b[1;32mreturn\u001b[0m \u001b[0mjoin_func\u001b[0m\u001b[1;33m(\u001b[0m\u001b[0mlkey\u001b[0m\u001b[1;33m,\u001b[0m \u001b[0mrkey\u001b[0m\u001b[1;33m,\u001b[0m \u001b[0mcount\u001b[0m\u001b[1;33m,\u001b[0m \u001b[1;33m**\u001b[0m\u001b[0mkwargs\u001b[0m\u001b[1;33m)\u001b[0m\u001b[1;33m\u001b[0m\u001b[1;33m\u001b[0m\u001b[0m\n\u001b[0m\u001b[0;32m   1321\u001b[0m \u001b[1;33m\u001b[0m\u001b[0m\n\u001b[0;32m   1322\u001b[0m \u001b[1;33m\u001b[0m\u001b[0m\n",
      "\u001b[1;32mpandas/_libs/join.pyx\u001b[0m in \u001b[0;36mpandas._libs.join.inner_join\u001b[1;34m()\u001b[0m\n",
      "\u001b[1;31mMemoryError\u001b[0m: "
     ]
    }
   ],
   "source": [
    "merge_test1 = pd.merge(pd.merge(american_1, carmel_1), dial7_1)"
   ]
  },
  {
   "cell_type": "code",
   "execution_count": 34,
   "metadata": {},
   "outputs": [],
   "source": [
    "american_1.to_csv (r'C:/Users/vagne/Desktop/capis_data/american_1.csv', index = False)\n",
    "carmel_1.to_csv (r'C:/Users/vagne/Desktop/capis_data/carmel_1.csv', index = False)\n",
    "dial7_1.to_csv (r'C:/Users/vagne/Desktop/capis_data/dial7_1.csv', index = False)\n",
    "diplo_1.to_csv (r'C:/Users/vagne/Desktop/capis_data/diplo_1.csv', index = False)\n",
    "highclass_1.to_csv (r'C:/Users/vagne/Desktop/capis_data/highclass_1.csv', index = False)\n",
    "skyline_1.to_csv (r'C:/Users/vagne/Desktop/capis_data/skyline_1.csv', index = False)\n",
    "federal_1.to_csv (r'C:/Users/vagne/Desktop/capis_data/federal_1.csv', index = False)\n",
    "lyft_1.to_csv (r'C:/Users/vagne/Desktop/capis_data/lyft_1.csv', index = False)\n",
    "firstclass_1.to_csv (r'C:/Users/vagne/Desktop/capis_data/firstclass_1.csv', index = False)\n",
    "prestige_1.to_csv (r'C:/Users/vagne/Desktop/capis_data/prestige_1.csv', index = False)\n",
    "uber_data_1.to_csv (r'C:/Users/vagne/Desktop/capis_data/uber_data_1.csv', index = False)"
   ]
  },
  {
   "cell_type": "code",
   "execution_count": 47,
   "metadata": {},
   "outputs": [
    {
     "name": "stdout",
     "output_type": "stream",
     "text": [
      "<class 'pandas.core.frame.DataFrame'>\n",
      "Int64Index: 231917 entries, 82372 to 314288\n",
      "Data columns (total 3 columns):\n",
      "DATE               231917 non-null datetime64[ns]\n",
      "time_pre           231917 non-null object\n",
      "pick_up_add_pre    231917 non-null object\n",
      "dtypes: datetime64[ns](1), object(2)\n",
      "memory usage: 7.1+ MB\n"
     ]
    }
   ],
   "source": [
    "prestige_1.info()"
   ]
  },
  {
   "cell_type": "code",
   "execution_count": null,
   "metadata": {},
   "outputs": [],
   "source": []
  }
 ],
 "metadata": {
  "kernelspec": {
   "display_name": "Python 3",
   "language": "python",
   "name": "python3"
  },
  "language_info": {
   "codemirror_mode": {
    "name": "ipython",
    "version": 3
   },
   "file_extension": ".py",
   "mimetype": "text/x-python",
   "name": "python",
   "nbconvert_exporter": "python",
   "pygments_lexer": "ipython3",
   "version": "3.7.3"
  }
 },
 "nbformat": 4,
 "nbformat_minor": 2
}
