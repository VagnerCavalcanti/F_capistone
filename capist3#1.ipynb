{
 "cells": [
  {
   "cell_type": "markdown",
   "metadata": {},
   "source": [
    "Final Capistone\n",
    "Data Name - Uber Pickups in New York City\n",
    "Data Link - https://www.kaggle.com/fivethirtyeight/uber-pickups-in-new-york-city\n",
    "Mentor - Edward Plata"
   ]
  },
  {
   "cell_type": "code",
   "execution_count": 19,
   "metadata": {},
   "outputs": [],
   "source": [
    "import numpy as np\n",
    "import pandas as pd\n",
    "import matplotlib.pyplot as plt\n",
    "import statsmodels.formula.api as smf\n",
    "import datetime as dt\n",
    "import seaborn as sns"
   ]
  },
  {
   "cell_type": "code",
   "execution_count": 37,
   "metadata": {},
   "outputs": [],
   "source": [
    "american = pd.read_csv('C:/Users/vagne/Desktop/capis_data/other-American_B01362.csv')\n",
    "carmel = pd.read_csv('C:/Users/vagne/Desktop/capis_data/Carmel_B00256.csv', encoding = 'cp1252')\n",
    "dial7 = pd.read_csv('C:/Users/vagne/Desktop/capis_data/other-Dial7_B00887.csv')\n",
    "diplo = pd.read_csv('C:/Users/vagne/Desktop/capis_data/other-Diplo_B01196.csv', encoding = 'cp1252')\n",
    "highclass = pd.read_csv('C:/Users/vagne/Desktop/capis_data/other-Highclass_B01717.csv', encoding = 'cp1252')\n",
    "skyline = pd.read_csv('C:/Users/vagne/Desktop/capis_data/other-Skyline_B00111.csv')\n",
    "federal = pd.read_csv('C:/Users/vagne/Desktop/capis_data/other-Federal_02216.csv')\n",
    "lyft = pd.read_csv('C:/Users/vagne/Desktop/capis_data/other-Lyft_B02510.csv')\n",
    "firstclass = pd.read_csv('C:/Users/vagne/Desktop/capis_data/other-Firstclass_B01536.csv', encoding = 'cp1252')\n",
    "prestige = pd.read_csv('C:/Users/vagne/Desktop/capis_data/other-Prestige_B01338.csv', encoding = 'cp1252')"
   ]
  },
  {
   "cell_type": "code",
   "execution_count": 104,
   "metadata": {},
   "outputs": [],
   "source": [
    "uber_jul = pd.read_csv('C:/Users/vagne/Desktop/capis_data/uber-raw-data-jul14.csv')\n",
    "uber_aug = pd.read_csv('C:/Users/vagne/Desktop/capis_data/uber-raw-data-aug14.csv')\n",
    "uber_sep = pd.read_csv('C:/Users/vagne/Desktop/capis_data/uber-raw-data-sep14.csv')"
   ]
  },
  {
   "cell_type": "code",
   "execution_count": 42,
   "metadata": {},
   "outputs": [
    {
     "name": "stdout",
     "output_type": "stream",
     "text": [
      "(91712, 6)\n",
      "(256519, 4)\n",
      "(194992, 6)\n",
      "(98550, 3)\n",
      "(151925, 3)\n",
      "(127696, 6)\n",
      "(276, 7)\n",
      "(267701, 4)\n",
      "(166769, 3)\n",
      "(320641, 3)\n"
     ]
    }
   ],
   "source": [
    "print (american.shape)\n",
    "print (carmel.shape)\n",
    "print (dial7.shape)\n",
    "print (diplo.shape)\n",
    "print (highclass.shape)\n",
    "print (skyline.shape)\n",
    "print (federal.shape)\n",
    "print (lyft.shape)\n",
    "print (firstclass.shape)\n",
    "print (prestige.shape)"
   ]
  },
  {
   "cell_type": "code",
   "execution_count": 75,
   "metadata": {},
   "outputs": [
    {
     "name": "stdout",
     "output_type": "stream",
     "text": [
      "<class 'pandas.core.frame.DataFrame'>\n",
      "RangeIndex: 267701 entries, 0 to 267700\n",
      "Data columns (total 4 columns):\n",
      "time_of_trip    267701 non-null object\n",
      "start_lat       267700 non-null float64\n",
      "start_lng       267700 non-null float64\n",
      "Unnamed: 3      1198 non-null object\n",
      "dtypes: float64(2), object(2)\n",
      "memory usage: 8.2+ MB\n",
      "None\n"
     ]
    }
   ],
   "source": [
    "#print (american.info())\n",
    "#print (carmel.info())\n",
    "#print (dial7.info())\n",
    "#print (diplo.info())\n",
    "#print (highclass.info())\n",
    "#print (skyline.info())\n",
    "#print (federal.info())\n",
    "print (lyft.info())\n",
    "#print (firstclass.info())\n",
    "#print (prestige.info())"
   ]
  },
  {
   "cell_type": "code",
   "execution_count": 45,
   "metadata": {},
   "outputs": [
    {
     "name": "stdout",
     "output_type": "stream",
     "text": [
      "       Unnamed: 3  Unnamed: 4  Unnamed: 5\n",
      "count         0.0         0.0         0.0\n",
      "mean          NaN         NaN         NaN\n",
      "std           NaN         NaN         NaN\n",
      "min           NaN         NaN         NaN\n",
      "25%           NaN         NaN         NaN\n",
      "50%           NaN         NaN         NaN\n",
      "75%           NaN         NaN         NaN\n",
      "max           NaN         NaN         NaN\n",
      "             Date    Time PU_Adress Base_No\n",
      "count      256519  256519    256519  256519\n",
      "unique         92    1427     63738       7\n",
      "top     9/18/2014   15:00       JFK  B00256\n",
      "freq         3507    4547     28179  249080\n",
      "              Date    Time                                              State  \\\n",
      "count       194992  194992                                             194992   \n",
      "unique          92    1440                                               1001   \n",
      "top     2014.09.18   15:00  NY                                            ...   \n",
      "freq          2795    3674                                             133408   \n",
      "\n",
      "           PuFrom Address                Street  \n",
      "count      157962  194992                194992  \n",
      "unique       1264    4328                  9566  \n",
      "top     MANHATTAN                                \n",
      "freq       113625   54397                 54148  \n",
      "             Date        Time                        PU_Address\n",
      "count       98550       98550                             98550\n",
      "unique         92        1442                             15122\n",
      "top     9/13/2014  8:40:00 AM  BASE 170 W Fordham Rd Jerome, BX\n",
      "freq         1440         174                              3293\n",
      "             DATE        TIME                    PU_Address\n",
      "count      151925      151925                        151925\n",
      "unique         92        1472                         26950\n",
      "top     9/13/2014  9:45:00 AM   268 W Fordham Rd Jerome, BX\n",
      "freq         2375         285                          1506\n",
      "       Unnamed: 4  Unnamed: 5\n",
      "count         0.0         0.0\n",
      "mean          NaN         NaN\n",
      "std           NaN         NaN\n",
      "min           NaN         NaN\n",
      "25%           NaN         NaN\n",
      "50%           NaN         NaN\n",
      "75%           NaN         NaN\n",
      "max           NaN         NaN\n",
      "              Date      Time  \\\n",
      "count          276       276   \n",
      "unique          83        95   \n",
      "top     07/03/2014  10:00 AM   \n",
      "freq            12        11   \n",
      "\n",
      "                                               PU_Address  \\\n",
      "count                                                 269   \n",
      "unique                                                240   \n",
      "top     John F Kennedy International Airport, Delta Ai...   \n",
      "freq                                                    4   \n",
      "\n",
      "                                    DO_Address  \\\n",
      "count                                      267   \n",
      "unique                                     129   \n",
      "top     John F Kennedy International Airport;    \n",
      "freq                                        70   \n",
      "\n",
      "                                          Routing Details  \\\n",
      "count                                                 276   \n",
      "unique                                                264   \n",
      "top     PU: 607 20 St., BK NY; DO: John F Kennedy Inte...   \n",
      "freq                                                    3   \n",
      "\n",
      "                                             PU_Address.1   Status  \n",
      "count                                                 276      276  \n",
      "unique                                                264        3  \n",
      "top     607 20 St., BK NY; DO: John F Kennedy Internat...  Arrived  \n",
      "freq                                                    3      128  \n",
      "           start_lat      start_lng\n",
      "count  267700.000000  267700.000000\n",
      "mean       40.730292     -73.964948\n",
      "std         0.043578       0.043445\n",
      "min        40.527850     -74.226890\n",
      "25%        40.708870     -73.991080\n",
      "50%        40.733450     -73.978120\n",
      "75%        40.756600     -73.952300\n",
      "max        40.935620     -73.723150\n",
      "            DATE        TIME         PICK UP ADDRESS\n",
      "count     166769      166769                  166769\n",
      "unique        92        1443                   28388\n",
      "top     7/2/2014  9:00:00 AM  base 4980 Broadway NYC\n",
      "freq        2228        1822                    3137\n",
      "             DATE         TIME                     PICK UP ADDRESS\n",
      "count      320641       320641                              320641\n",
      "unique         92         1463                               52480\n",
      "top     9/13/2014  10:00:00 AM  PRESTIGE #1 3108 Webster Ave Bronx\n",
      "freq         4470          391                                2051\n"
     ]
    }
   ],
   "source": [
    "print (american.describe())\n",
    "print (carmel.describe())\n",
    "print (dial7.describe())\n",
    "print (diplo.describe())\n",
    "print (highclass.describe())\n",
    "print (skyline.describe())\n",
    "print (federal.describe())\n",
    "print (lyft.describe())\n",
    "print (firstclass.describe())\n",
    "print (prestige.describe())"
   ]
  },
  {
   "cell_type": "code",
   "execution_count": 52,
   "metadata": {},
   "outputs": [
    {
     "name": "stdout",
     "output_type": "stream",
     "text": [
      "       DATE         TIME                  PICK UP ADDRESS  Unnamed: 3  \\\n",
      "0  7/1/2014  12:00:00 AM    874 E 139th St Mott Haven, BX         NaN   \n",
      "1  7/1/2014  12:01:00 AM    628 E 141st St Mott Haven, BX         NaN   \n",
      "2  7/1/2014  12:01:00 AM   601 E 156th St South Bronx, BX         NaN   \n",
      "3  7/1/2014  12:01:00 AM    708 E 138th St Mott Haven, BX         NaN   \n",
      "4  7/1/2014  12:02:00 AM    700 E 140th St Mott Haven, BX         NaN   \n",
      "\n",
      "   Unnamed: 4  Unnamed: 5  \n",
      "0         NaN         NaN  \n",
      "1         NaN         NaN  \n",
      "2         NaN         NaN  \n",
      "3         NaN         NaN  \n",
      "4         NaN         NaN  \n",
      "       Date  Time        PU_Adress Base_No\n",
      "0  7/1/2014  0:00  260 W 44 St NYC  B00256\n",
      "1  7/1/2014  0:00  125 W 29 St Nyc  B00256\n",
      "2  7/1/2014  0:00  141 W 28 St Nyc  B00256\n",
      "3  7/1/2014  0:01              EWR  B00256\n",
      "4  7/1/2014  0:07              JFK  B00256\n",
      "         Date   Time                                              State  \\\n",
      "0  2014.07.06  14:30  NY                                            ...   \n",
      "1  2014.07.04   7:15  NY                                            ...   \n",
      "2  2014.07.05   5:45  NY                                            ...   \n",
      "3  2014.07.06   4:30  NY                                            ...   \n",
      "4  2014.07.05   7:45  NY                                            ...   \n",
      "\n",
      "      PuFrom Address                Street  \n",
      "0  MANHATTAN      50  MURRAY ST             \n",
      "1  MANHATTAN     143  AVENUE B              \n",
      "2  MANHATTAN     125  CHRISTOPHER ST        \n",
      "3  MANHATTAN     217  E 7 ST                \n",
      "4  MANHATTAN     521  W 26 ST               \n",
      "       Date         Time                           PU_Address\n",
      "0  7/1/2014  12:00:00 AM       2396 Valentine Ave Fordham, BX\n",
      "1  7/1/2014  12:01:00 AM   1859 Walton Ave Morris Heights, BX\n",
      "2  7/1/2014  12:02:00 AM           2431 Jerome Ave Jerome, BX\n",
      "3  7/1/2014  12:05:00 AM       3044 Valentine Ave Fordham, BX\n",
      "4  7/1/2014  12:05:00 AM      1085 Nelson Ave High Bridge, BX\n",
      "       DATE         TIME                          PU_Address\n",
      "0  7/1/2014  12:00:00 AM         2976 Marion Ave Fordham, BX\n",
      "1  7/1/2014  12:01:00 AM   780 Grand Concourse Cortlandt, BX\n",
      "2  7/1/2014  12:01:00 AM       105 Elliot Pl High Bridge, BX\n",
      "3  7/1/2014  12:03:00 AM                 2825 Webb Ave Bronx\n",
      "4  7/1/2014  12:04:00 AM   1878 Cedar Ave Morris Heights, BX\n",
      "       Date            Time                   Street_Address   \\\n",
      "0  7/1/2014      20:27           622 THIRD AV                   \n",
      "1  7/1/2014      21:04            E 77TH ST                     \n",
      "2  7/1/2014      22:20           67 WEST PALISADES BLVD         \n",
      "3  7/1/2014      12:28           130 MIDDLE NECK RD             \n",
      "4  7/1/2014      16:45           36 E 31ST ST                   \n",
      "\n",
      "                     City_State   Unnamed: 4  Unnamed: 5  \n",
      "0       M                                NaN         NaN  \n",
      "1       M                                NaN         NaN  \n",
      "2      PALISADES PARK NJ                 NaN         NaN  \n",
      "3      SANDS POINT LI                    NaN         NaN  \n",
      "4       M                                NaN         NaN  \n",
      "         Date      Time                                  PU_Address  \\\n",
      "0  07/01/2014  07:15 AM  Brooklyn Museum, 200 Eastern Pkwy., BK NY;   \n",
      "1  07/01/2014  07:30 AM              33 Robert Dr., Short Hills NJ;   \n",
      "2  07/01/2014  08:00 AM                    60 Glenmore Ave., BK NY;   \n",
      "3  07/01/2014  09:00 AM                     128 East 31 St., BK NY;   \n",
      "4  07/01/2014  09:30 AM                139-39 35 Ave., Flushing NY;   \n",
      "\n",
      "                                          DO_Address  \\\n",
      "0                         1 Brookdale Plaza, BK NY;    \n",
      "1  John F Kennedy International Airport, vitona A...   \n",
      "2                        2171 Nostrand Ave., BK NY;    \n",
      "3                              369 93rd St., BK NY;    \n",
      "4                               La Guardia Airport;    \n",
      "\n",
      "                                     Routing Details  \\\n",
      "0  PU: Brooklyn Museum, 200 Eastern Pkwy., BK NY;...   \n",
      "1  PU: 33 Robert Dr., Short Hills NJ; DO: John F ...   \n",
      "2  PU: 60 Glenmore Ave., BK NY; DO: 2171 Nostrand...   \n",
      "3  PU: 128 East 31 St., BK NY; DO: 369 93rd St., ...   \n",
      "4  PU: 139-39 35 Ave., Flushing NY; DO: La Guardi...   \n",
      "\n",
      "                                        PU_Address.1     Status  \n",
      "0  Brooklyn Museum, 200 Eastern Pkwy., BK NY; DO:...  Cancelled  \n",
      "1  33 Robert Dr., Short Hills NJ; DO: John F Kenn...    Arrived  \n",
      "2  60 Glenmore Ave., BK NY; DO: 2171 Nostrand Ave...   Assigned  \n",
      "3  128 East 31 St., BK NY; DO: 369 93rd St., BK NY;    Assigned  \n",
      "4  139-39 35 Ave., Flushing NY; DO: La Guardia Ai...   Assigned  \n",
      "      time_of_trip  start_lat  start_lng Unnamed: 3\n",
      "0    9/4/2014 9:51   40.64705  -73.77988        NaN\n",
      "1  8/27/2014 21:13   40.74916  -73.98373        NaN\n",
      "2   9/4/2014 14:16   40.64065  -73.97594        NaN\n",
      "3   9/4/2014 16:08   40.75002  -73.99514        NaN\n",
      "4   8/28/2014 2:41   40.76715  -73.98636        NaN\n",
      "       DATE         TIME                 PICK UP ADDRESS\n",
      "0  7/1/2014  12:02:00 AM   5360 Broadway Kingsbridge, BX\n",
      "1  7/1/2014  12:02:00 AM                546 Isham St NYC\n",
      "2  7/1/2014  12:03:00 AM           234 Bradhurst Ave NYC\n",
      "3  7/1/2014  12:07:00 AM        99 Marble Hill Ave Bronx\n",
      "4  7/1/2014  12:08:00 AM           120 Vermilyea Ave NYC\n",
      "       DATE         TIME                          PICK UP ADDRESS\n",
      "0  7/1/2014  12:00:00 AM              2557 Marion Ave Fordham, BX\n",
      "1  7/1/2014  12:00:00 AM   45 E Mosholu Pkwy N Williamsbridge, BX\n",
      "2  7/1/2014  12:00:00 AM            458 E 143rd St Mott Haven, BX\n",
      "3  7/1/2014  12:02:00 AM  MINIVAN SUV 2557 Marion Ave Fordham, BX\n",
      "4  7/1/2014  12:02:00 AM        1117 Westchester Ave Foxhurst, BX\n"
     ]
    }
   ],
   "source": [
    "print (american.head())\n",
    "print (carmel.head())\n",
    "print (dial7.head())\n",
    "print (diplo.head())\n",
    "print (highclass.head())\n",
    "print (skyline.head())\n",
    "print (federal.head())\n",
    "print (lyft.head())\n",
    "print (firstclass.head())\n",
    "print (prestige.head())"
   ]
  },
  {
   "cell_type": "markdown",
   "metadata": {},
   "source": [
    "Checking dates to compare the same period"
   ]
  },
  {
   "cell_type": "code",
   "execution_count": 81,
   "metadata": {},
   "outputs": [],
   "source": [
    "american['DATE'] = pd.to_datetime(american['DATE'])"
   ]
  },
  {
   "cell_type": "code",
   "execution_count": 82,
   "metadata": {},
   "outputs": [
    {
     "name": "stdout",
     "output_type": "stream",
     "text": [
      "2014-07-01 00:00:00\n",
      "2014-09-30 00:00:00\n"
     ]
    }
   ],
   "source": [
    "print (min(american.DATE))\n",
    "print (max(american.DATE))"
   ]
  },
  {
   "cell_type": "code",
   "execution_count": 83,
   "metadata": {},
   "outputs": [],
   "source": [
    "carmel['Date'] = pd.to_datetime(carmel['Date'])"
   ]
  },
  {
   "cell_type": "code",
   "execution_count": 84,
   "metadata": {},
   "outputs": [
    {
     "name": "stdout",
     "output_type": "stream",
     "text": [
      "2014-07-01 00:00:00\n",
      "2014-09-30 00:00:00\n"
     ]
    }
   ],
   "source": [
    "print (min(carmel.Date))\n",
    "print (max(carmel.Date))"
   ]
  },
  {
   "cell_type": "code",
   "execution_count": 85,
   "metadata": {},
   "outputs": [],
   "source": [
    "dial7['Date'] = pd.to_datetime(dial7['Date'])"
   ]
  },
  {
   "cell_type": "code",
   "execution_count": 86,
   "metadata": {},
   "outputs": [
    {
     "name": "stdout",
     "output_type": "stream",
     "text": [
      "2014-07-01 00:00:00\n",
      "2014-09-30 00:00:00\n"
     ]
    }
   ],
   "source": [
    "print (min(dial7.Date))\n",
    "print (max(dial7.Date))"
   ]
  },
  {
   "cell_type": "code",
   "execution_count": 87,
   "metadata": {},
   "outputs": [],
   "source": [
    "diplo['Date'] = pd.to_datetime(diplo['Date'])"
   ]
  },
  {
   "cell_type": "code",
   "execution_count": 88,
   "metadata": {},
   "outputs": [
    {
     "name": "stdout",
     "output_type": "stream",
     "text": [
      "2014-07-01 00:00:00\n",
      "2014-09-30 00:00:00\n"
     ]
    }
   ],
   "source": [
    "print (min(diplo.Date))\n",
    "print (max(diplo.Date))"
   ]
  },
  {
   "cell_type": "code",
   "execution_count": 89,
   "metadata": {},
   "outputs": [],
   "source": [
    "highclass['DATE'] = pd.to_datetime(highclass['DATE'])"
   ]
  },
  {
   "cell_type": "code",
   "execution_count": 90,
   "metadata": {},
   "outputs": [
    {
     "name": "stdout",
     "output_type": "stream",
     "text": [
      "2014-07-01 00:00:00\n",
      "2014-09-30 00:00:00\n"
     ]
    }
   ],
   "source": [
    "print (min(highclass.DATE))\n",
    "print (max(highclass.DATE))"
   ]
  },
  {
   "cell_type": "code",
   "execution_count": 91,
   "metadata": {},
   "outputs": [],
   "source": [
    "skyline['Date'] = pd.to_datetime(skyline['Date'])"
   ]
  },
  {
   "cell_type": "code",
   "execution_count": 92,
   "metadata": {},
   "outputs": [
    {
     "name": "stdout",
     "output_type": "stream",
     "text": [
      "2014-07-01 00:00:00\n",
      "2014-09-30 00:00:00\n"
     ]
    }
   ],
   "source": [
    "print (min(skyline.Date))\n",
    "print (max(skyline.Date))"
   ]
  },
  {
   "cell_type": "code",
   "execution_count": 93,
   "metadata": {},
   "outputs": [],
   "source": [
    "federal['Date'] = pd.to_datetime(federal['Date'])"
   ]
  },
  {
   "cell_type": "code",
   "execution_count": 94,
   "metadata": {},
   "outputs": [
    {
     "name": "stdout",
     "output_type": "stream",
     "text": [
      "2014-07-01 00:00:00\n",
      "2014-09-28 00:00:00\n"
     ]
    }
   ],
   "source": [
    "print (min(federal.Date))\n",
    "print (max(federal.Date))"
   ]
  },
  {
   "cell_type": "code",
   "execution_count": 95,
   "metadata": {},
   "outputs": [],
   "source": [
    "lyft['time_of_trip'] = pd.to_datetime(lyft['time_of_trip'])"
   ]
  },
  {
   "cell_type": "code",
   "execution_count": 96,
   "metadata": {},
   "outputs": [
    {
     "name": "stdout",
     "output_type": "stream",
     "text": [
      "2014-07-25 23:01:00\n",
      "2014-09-30 23:59:00\n"
     ]
    }
   ],
   "source": [
    "print (min(lyft.time_of_trip))\n",
    "print (max(lyft.time_of_trip))"
   ]
  },
  {
   "cell_type": "code",
   "execution_count": 97,
   "metadata": {},
   "outputs": [],
   "source": [
    "firstclass['DATE'] = pd.to_datetime(firstclass['DATE'])"
   ]
  },
  {
   "cell_type": "code",
   "execution_count": 98,
   "metadata": {},
   "outputs": [
    {
     "name": "stdout",
     "output_type": "stream",
     "text": [
      "2014-07-01 00:00:00\n",
      "2014-09-30 00:00:00\n"
     ]
    }
   ],
   "source": [
    "print (min(firstclass.DATE))\n",
    "print (max(firstclass.DATE))"
   ]
  },
  {
   "cell_type": "code",
   "execution_count": 99,
   "metadata": {},
   "outputs": [],
   "source": [
    "prestige['DATE'] = pd.to_datetime(prestige['DATE'])"
   ]
  },
  {
   "cell_type": "code",
   "execution_count": 100,
   "metadata": {},
   "outputs": [
    {
     "name": "stdout",
     "output_type": "stream",
     "text": [
      "2014-07-01 00:00:00\n",
      "2014-09-30 00:00:00\n"
     ]
    }
   ],
   "source": [
    "print (min(prestige.DATE))\n",
    "print (max(prestige.DATE))"
   ]
  },
  {
   "cell_type": "markdown",
   "metadata": {},
   "source": [
    "Minimum date should be 2014-07-25 23:01:00\n",
    "Maximum date should be 2014-09-28 00:00:00\n",
    "https://www.geeksforgeeks.org/drop-rows-from-the-dataframe-based-on-certain-condition-applied-on-a-column/"
   ]
  },
  {
   "cell_type": "code",
   "execution_count": null,
   "metadata": {},
   "outputs": [],
   "source": []
  },
  {
   "cell_type": "code",
   "execution_count": null,
   "metadata": {},
   "outputs": [],
   "source": []
  }
 ],
 "metadata": {
  "kernelspec": {
   "display_name": "Python 3",
   "language": "python",
   "name": "python3"
  },
  "language_info": {
   "codemirror_mode": {
    "name": "ipython",
    "version": 3
   },
   "file_extension": ".py",
   "mimetype": "text/x-python",
   "name": "python",
   "nbconvert_exporter": "python",
   "pygments_lexer": "ipython3",
   "version": "3.7.3"
  }
 },
 "nbformat": 4,
 "nbformat_minor": 2
}
