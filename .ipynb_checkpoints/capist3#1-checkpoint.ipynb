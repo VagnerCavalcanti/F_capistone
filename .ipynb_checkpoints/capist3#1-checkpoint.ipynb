{
 "cells": [
  {
   "cell_type": "markdown",
   "metadata": {},
   "source": [
    "Final Capistone\n",
    "Data Name - Uber Pickups in New York City\n",
    "Data Link - https://www.kaggle.com/fivethirtyeight/uber-pickups-in-new-york-city\n",
    "Mentor - Edward Plata"
   ]
  },
  {
   "cell_type": "code",
   "execution_count": 1,
   "metadata": {},
   "outputs": [],
   "source": [
    "import numpy as np\n",
    "import pandas as pd\n",
    "import matplotlib.pyplot as plt\n",
    "import statsmodels.formula.api as smf\n",
    "import datetime as dt\n",
    "import seaborn as sns"
   ]
  },
  {
   "cell_type": "code",
   "execution_count": 9,
   "metadata": {},
   "outputs": [],
   "source": [
    "american = pd.read_csv('C:/Users/vagne/Desktop/capis_data/other-American_B01362.csv')\n",
    "carmel = pd.read_csv('C:/Users/vagne/Desktop/capis_data/Carmel_B00256.csv', encoding = 'cp1252')\n",
    "dial7 = pd.read_csv('C:/Users/vagne/Desktop/capis_data/other-Dial7_B00887.csv')\n",
    "diplo = pd.read_csv('C:/Users/vagne/Desktop/capis_data/other-Diplo_B01196.csv', encoding = 'cp1252')\n",
    "highclass = pd.read_csv('C:/Users/vagne/Desktop/capis_data/other-Highclass_B01717.csv', encoding = 'cp1252')\n",
    "skyline = pd.read_csv('C:/Users/vagne/Desktop/capis_data/other-Skyline_B00111.csv')\n",
    "federal = pd.read_csv('C:/Users/vagne/Desktop/capis_data/other-Federal_02216.csv')\n",
    "lyft = pd.read_csv('C:/Users/vagne/Desktop/capis_data/other-Lyft_B02510.csv')\n",
    "firstclass = pd.read_csv('C:/Users/vagne/Desktop/capis_data/other-Firstclass_B01536.csv', encoding = 'cp1252')\n",
    "prestige = pd.read_csv('C:/Users/vagne/Desktop/capis_data/other-Prestige_B01338.csv', encoding = 'cp1252')"
   ]
  },
  {
   "cell_type": "code",
   "execution_count": 3,
   "metadata": {},
   "outputs": [],
   "source": [
    "uber_jul = pd.read_csv('C:/Users/vagne/Desktop/capis_data/uber-raw-data-jul14.csv')\n",
    "uber_aug = pd.read_csv('C:/Users/vagne/Desktop/capis_data/uber-raw-data-aug14.csv')\n",
    "uber_sep = pd.read_csv('C:/Users/vagne/Desktop/capis_data/uber-raw-data-sep14.csv')"
   ]
  },
  {
   "cell_type": "code",
   "execution_count": 4,
   "metadata": {},
   "outputs": [],
   "source": [
    "uber_jul.columns = uber_jul.columns.str.replace ('/','_')\n",
    "uber_aug.columns = uber_aug.columns.str.replace ('/','_')\n",
    "uber_sep.columns = uber_sep.columns.str.replace ('/','_')"
   ]
  },
  {
   "cell_type": "code",
   "execution_count": 35,
   "metadata": {},
   "outputs": [
    {
     "name": "stdout",
     "output_type": "stream",
     "text": [
      "(796121, 4)\n",
      "(829275, 4)\n",
      "(1028136, 4)\n"
     ]
    }
   ],
   "source": [
    "print(uber_jul.shape)\n",
    "print(uber_aug.shape)\n",
    "print(uber_sep.shape)"
   ]
  },
  {
   "cell_type": "code",
   "execution_count": 159,
   "metadata": {},
   "outputs": [],
   "source": [
    "uber_data = uber_jul.append(uber_aug, ignore_index=True)"
   ]
  },
  {
   "cell_type": "code",
   "execution_count": 160,
   "metadata": {},
   "outputs": [],
   "source": [
    "uber_data = uber_data.append(uber_sep, ignore_index = True)"
   ]
  },
  {
   "cell_type": "code",
   "execution_count": 161,
   "metadata": {},
   "outputs": [
    {
     "data": {
      "text/plain": [
       "(2653532, 4)"
      ]
     },
     "execution_count": 161,
     "metadata": {},
     "output_type": "execute_result"
    }
   ],
   "source": [
    "uber_data.shape"
   ]
  },
  {
   "cell_type": "code",
   "execution_count": 162,
   "metadata": {},
   "outputs": [],
   "source": [
    "uber_data['Date_Time'] = pd.to_datetime(uber_data['Date_Time'])"
   ]
  },
  {
   "cell_type": "code",
   "execution_count": 42,
   "metadata": {},
   "outputs": [
    {
     "name": "stdout",
     "output_type": "stream",
     "text": [
      "(91712, 6)\n",
      "(256519, 4)\n",
      "(194992, 6)\n",
      "(98550, 3)\n",
      "(151925, 3)\n",
      "(127696, 6)\n",
      "(276, 7)\n",
      "(267701, 4)\n",
      "(166769, 3)\n",
      "(320641, 3)\n"
     ]
    }
   ],
   "source": [
    "print (american.shape)\n",
    "print (carmel.shape)\n",
    "print (dial7.shape)\n",
    "print (diplo.shape)\n",
    "print (highclass.shape)\n",
    "print (skyline.shape)\n",
    "print (federal.shape)\n",
    "print (lyft.shape)\n",
    "print (firstclass.shape)\n",
    "print (prestige.shape)"
   ]
  },
  {
   "cell_type": "code",
   "execution_count": 75,
   "metadata": {},
   "outputs": [
    {
     "name": "stdout",
     "output_type": "stream",
     "text": [
      "<class 'pandas.core.frame.DataFrame'>\n",
      "RangeIndex: 267701 entries, 0 to 267700\n",
      "Data columns (total 4 columns):\n",
      "time_of_trip    267701 non-null object\n",
      "start_lat       267700 non-null float64\n",
      "start_lng       267700 non-null float64\n",
      "Unnamed: 3      1198 non-null object\n",
      "dtypes: float64(2), object(2)\n",
      "memory usage: 8.2+ MB\n",
      "None\n"
     ]
    }
   ],
   "source": [
    "#print (american.info())\n",
    "#print (carmel.info())\n",
    "#print (dial7.info())\n",
    "#print (diplo.info())\n",
    "#print (highclass.info())\n",
    "#print (skyline.info())\n",
    "#print (federal.info())\n",
    "print (lyft.info())\n",
    "#print (firstclass.info())\n",
    "#print (prestige.info())"
   ]
  },
  {
   "cell_type": "code",
   "execution_count": 45,
   "metadata": {},
   "outputs": [
    {
     "name": "stdout",
     "output_type": "stream",
     "text": [
      "       Unnamed: 3  Unnamed: 4  Unnamed: 5\n",
      "count         0.0         0.0         0.0\n",
      "mean          NaN         NaN         NaN\n",
      "std           NaN         NaN         NaN\n",
      "min           NaN         NaN         NaN\n",
      "25%           NaN         NaN         NaN\n",
      "50%           NaN         NaN         NaN\n",
      "75%           NaN         NaN         NaN\n",
      "max           NaN         NaN         NaN\n",
      "             Date    Time PU_Adress Base_No\n",
      "count      256519  256519    256519  256519\n",
      "unique         92    1427     63738       7\n",
      "top     9/18/2014   15:00       JFK  B00256\n",
      "freq         3507    4547     28179  249080\n",
      "              Date    Time                                              State  \\\n",
      "count       194992  194992                                             194992   \n",
      "unique          92    1440                                               1001   \n",
      "top     2014.09.18   15:00  NY                                            ...   \n",
      "freq          2795    3674                                             133408   \n",
      "\n",
      "           PuFrom Address                Street  \n",
      "count      157962  194992                194992  \n",
      "unique       1264    4328                  9566  \n",
      "top     MANHATTAN                                \n",
      "freq       113625   54397                 54148  \n",
      "             Date        Time                        PU_Address\n",
      "count       98550       98550                             98550\n",
      "unique         92        1442                             15122\n",
      "top     9/13/2014  8:40:00 AM  BASE 170 W Fordham Rd Jerome, BX\n",
      "freq         1440         174                              3293\n",
      "             DATE        TIME                    PU_Address\n",
      "count      151925      151925                        151925\n",
      "unique         92        1472                         26950\n",
      "top     9/13/2014  9:45:00 AM   268 W Fordham Rd Jerome, BX\n",
      "freq         2375         285                          1506\n",
      "       Unnamed: 4  Unnamed: 5\n",
      "count         0.0         0.0\n",
      "mean          NaN         NaN\n",
      "std           NaN         NaN\n",
      "min           NaN         NaN\n",
      "25%           NaN         NaN\n",
      "50%           NaN         NaN\n",
      "75%           NaN         NaN\n",
      "max           NaN         NaN\n",
      "              Date      Time  \\\n",
      "count          276       276   \n",
      "unique          83        95   \n",
      "top     07/03/2014  10:00 AM   \n",
      "freq            12        11   \n",
      "\n",
      "                                               PU_Address  \\\n",
      "count                                                 269   \n",
      "unique                                                240   \n",
      "top     John F Kennedy International Airport, Delta Ai...   \n",
      "freq                                                    4   \n",
      "\n",
      "                                    DO_Address  \\\n",
      "count                                      267   \n",
      "unique                                     129   \n",
      "top     John F Kennedy International Airport;    \n",
      "freq                                        70   \n",
      "\n",
      "                                          Routing Details  \\\n",
      "count                                                 276   \n",
      "unique                                                264   \n",
      "top     PU: 607 20 St., BK NY; DO: John F Kennedy Inte...   \n",
      "freq                                                    3   \n",
      "\n",
      "                                             PU_Address.1   Status  \n",
      "count                                                 276      276  \n",
      "unique                                                264        3  \n",
      "top     607 20 St., BK NY; DO: John F Kennedy Internat...  Arrived  \n",
      "freq                                                    3      128  \n",
      "           start_lat      start_lng\n",
      "count  267700.000000  267700.000000\n",
      "mean       40.730292     -73.964948\n",
      "std         0.043578       0.043445\n",
      "min        40.527850     -74.226890\n",
      "25%        40.708870     -73.991080\n",
      "50%        40.733450     -73.978120\n",
      "75%        40.756600     -73.952300\n",
      "max        40.935620     -73.723150\n",
      "            DATE        TIME         PICK UP ADDRESS\n",
      "count     166769      166769                  166769\n",
      "unique        92        1443                   28388\n",
      "top     7/2/2014  9:00:00 AM  base 4980 Broadway NYC\n",
      "freq        2228        1822                    3137\n",
      "             DATE         TIME                     PICK UP ADDRESS\n",
      "count      320641       320641                              320641\n",
      "unique         92         1463                               52480\n",
      "top     9/13/2014  10:00:00 AM  PRESTIGE #1 3108 Webster Ave Bronx\n",
      "freq         4470          391                                2051\n"
     ]
    }
   ],
   "source": [
    "print (american.describe())\n",
    "print (carmel.describe())\n",
    "print (dial7.describe())\n",
    "print (diplo.describe())\n",
    "print (highclass.describe())\n",
    "print (skyline.describe())\n",
    "print (federal.describe())\n",
    "print (lyft.describe())\n",
    "print (firstclass.describe())\n",
    "print (prestige.describe())"
   ]
  },
  {
   "cell_type": "code",
   "execution_count": 10,
   "metadata": {},
   "outputs": [
    {
     "data": {
      "text/html": [
       "<div>\n",
       "<style scoped>\n",
       "    .dataframe tbody tr th:only-of-type {\n",
       "        vertical-align: middle;\n",
       "    }\n",
       "\n",
       "    .dataframe tbody tr th {\n",
       "        vertical-align: top;\n",
       "    }\n",
       "\n",
       "    .dataframe thead th {\n",
       "        text-align: right;\n",
       "    }\n",
       "</style>\n",
       "<table border=\"1\" class=\"dataframe\">\n",
       "  <thead>\n",
       "    <tr style=\"text-align: right;\">\n",
       "      <th></th>\n",
       "      <th>DATE</th>\n",
       "      <th>TIME</th>\n",
       "      <th>PICK UP ADDRESS</th>\n",
       "      <th>Unnamed: 3</th>\n",
       "      <th>Unnamed: 4</th>\n",
       "      <th>Unnamed: 5</th>\n",
       "    </tr>\n",
       "  </thead>\n",
       "  <tbody>\n",
       "    <tr>\n",
       "      <th>0</th>\n",
       "      <td>7/1/2014</td>\n",
       "      <td>12:00:00 AM</td>\n",
       "      <td>874 E 139th St Mott Haven, BX</td>\n",
       "      <td>NaN</td>\n",
       "      <td>NaN</td>\n",
       "      <td>NaN</td>\n",
       "    </tr>\n",
       "    <tr>\n",
       "      <th>1</th>\n",
       "      <td>7/1/2014</td>\n",
       "      <td>12:01:00 AM</td>\n",
       "      <td>628 E 141st St Mott Haven, BX</td>\n",
       "      <td>NaN</td>\n",
       "      <td>NaN</td>\n",
       "      <td>NaN</td>\n",
       "    </tr>\n",
       "    <tr>\n",
       "      <th>2</th>\n",
       "      <td>7/1/2014</td>\n",
       "      <td>12:01:00 AM</td>\n",
       "      <td>601 E 156th St South Bronx, BX</td>\n",
       "      <td>NaN</td>\n",
       "      <td>NaN</td>\n",
       "      <td>NaN</td>\n",
       "    </tr>\n",
       "    <tr>\n",
       "      <th>3</th>\n",
       "      <td>7/1/2014</td>\n",
       "      <td>12:01:00 AM</td>\n",
       "      <td>708 E 138th St Mott Haven, BX</td>\n",
       "      <td>NaN</td>\n",
       "      <td>NaN</td>\n",
       "      <td>NaN</td>\n",
       "    </tr>\n",
       "    <tr>\n",
       "      <th>4</th>\n",
       "      <td>7/1/2014</td>\n",
       "      <td>12:02:00 AM</td>\n",
       "      <td>700 E 140th St Mott Haven, BX</td>\n",
       "      <td>NaN</td>\n",
       "      <td>NaN</td>\n",
       "      <td>NaN</td>\n",
       "    </tr>\n",
       "  </tbody>\n",
       "</table>\n",
       "</div>"
      ],
      "text/plain": [
       "       DATE         TIME                  PICK UP ADDRESS  Unnamed: 3  \\\n",
       "0  7/1/2014  12:00:00 AM    874 E 139th St Mott Haven, BX         NaN   \n",
       "1  7/1/2014  12:01:00 AM    628 E 141st St Mott Haven, BX         NaN   \n",
       "2  7/1/2014  12:01:00 AM   601 E 156th St South Bronx, BX         NaN   \n",
       "3  7/1/2014  12:01:00 AM    708 E 138th St Mott Haven, BX         NaN   \n",
       "4  7/1/2014  12:02:00 AM    700 E 140th St Mott Haven, BX         NaN   \n",
       "\n",
       "   Unnamed: 4  Unnamed: 5  \n",
       "0         NaN         NaN  \n",
       "1         NaN         NaN  \n",
       "2         NaN         NaN  \n",
       "3         NaN         NaN  \n",
       "4         NaN         NaN  "
      ]
     },
     "execution_count": 10,
     "metadata": {},
     "output_type": "execute_result"
    }
   ],
   "source": [
    "american.head()"
   ]
  },
  {
   "cell_type": "code",
   "execution_count": 11,
   "metadata": {},
   "outputs": [],
   "source": [
    "#Rename columns to identify on the merge\n",
    "american.rename(columns = {'TIME':'time_amer', 'PICK UP ADDRESS':'pick_up_add_amer'}, inplace = True) "
   ]
  },
  {
   "cell_type": "code",
   "execution_count": 12,
   "metadata": {},
   "outputs": [],
   "source": [
    "#Drop stupd columns\n",
    "american.drop(['Unnamed: 3', 'Unnamed: 4', 'Unnamed: 5'], axis=1, inplace=True)"
   ]
  },
  {
   "cell_type": "code",
   "execution_count": 14,
   "metadata": {},
   "outputs": [
    {
     "data": {
      "text/html": [
       "<div>\n",
       "<style scoped>\n",
       "    .dataframe tbody tr th:only-of-type {\n",
       "        vertical-align: middle;\n",
       "    }\n",
       "\n",
       "    .dataframe tbody tr th {\n",
       "        vertical-align: top;\n",
       "    }\n",
       "\n",
       "    .dataframe thead th {\n",
       "        text-align: right;\n",
       "    }\n",
       "</style>\n",
       "<table border=\"1\" class=\"dataframe\">\n",
       "  <thead>\n",
       "    <tr style=\"text-align: right;\">\n",
       "      <th></th>\n",
       "      <th>DATE</th>\n",
       "      <th>time_amer</th>\n",
       "      <th>pick_up_add_amer</th>\n",
       "    </tr>\n",
       "  </thead>\n",
       "  <tbody>\n",
       "    <tr>\n",
       "      <th>0</th>\n",
       "      <td>7/1/2014</td>\n",
       "      <td>12:00:00 AM</td>\n",
       "      <td>874 E 139th St Mott Haven, BX</td>\n",
       "    </tr>\n",
       "    <tr>\n",
       "      <th>1</th>\n",
       "      <td>7/1/2014</td>\n",
       "      <td>12:01:00 AM</td>\n",
       "      <td>628 E 141st St Mott Haven, BX</td>\n",
       "    </tr>\n",
       "    <tr>\n",
       "      <th>2</th>\n",
       "      <td>7/1/2014</td>\n",
       "      <td>12:01:00 AM</td>\n",
       "      <td>601 E 156th St South Bronx, BX</td>\n",
       "    </tr>\n",
       "    <tr>\n",
       "      <th>3</th>\n",
       "      <td>7/1/2014</td>\n",
       "      <td>12:01:00 AM</td>\n",
       "      <td>708 E 138th St Mott Haven, BX</td>\n",
       "    </tr>\n",
       "    <tr>\n",
       "      <th>4</th>\n",
       "      <td>7/1/2014</td>\n",
       "      <td>12:02:00 AM</td>\n",
       "      <td>700 E 140th St Mott Haven, BX</td>\n",
       "    </tr>\n",
       "  </tbody>\n",
       "</table>\n",
       "</div>"
      ],
      "text/plain": [
       "       DATE    time_amer                 pick_up_add_amer\n",
       "0  7/1/2014  12:00:00 AM    874 E 139th St Mott Haven, BX\n",
       "1  7/1/2014  12:01:00 AM    628 E 141st St Mott Haven, BX\n",
       "2  7/1/2014  12:01:00 AM   601 E 156th St South Bronx, BX\n",
       "3  7/1/2014  12:01:00 AM    708 E 138th St Mott Haven, BX\n",
       "4  7/1/2014  12:02:00 AM    700 E 140th St Mott Haven, BX"
      ]
     },
     "execution_count": 14,
     "metadata": {},
     "output_type": "execute_result"
    }
   ],
   "source": [
    "american.head()"
   ]
  },
  {
   "cell_type": "code",
   "execution_count": 135,
   "metadata": {},
   "outputs": [
    {
     "data": {
      "text/html": [
       "<div>\n",
       "<style scoped>\n",
       "    .dataframe tbody tr th:only-of-type {\n",
       "        vertical-align: middle;\n",
       "    }\n",
       "\n",
       "    .dataframe tbody tr th {\n",
       "        vertical-align: top;\n",
       "    }\n",
       "\n",
       "    .dataframe thead th {\n",
       "        text-align: right;\n",
       "    }\n",
       "</style>\n",
       "<table border=\"1\" class=\"dataframe\">\n",
       "  <thead>\n",
       "    <tr style=\"text-align: right;\">\n",
       "      <th></th>\n",
       "      <th>Date</th>\n",
       "      <th>Time</th>\n",
       "      <th>PU_Adress</th>\n",
       "      <th>Base_No</th>\n",
       "    </tr>\n",
       "  </thead>\n",
       "  <tbody>\n",
       "    <tr>\n",
       "      <th>0</th>\n",
       "      <td>7/1/2014</td>\n",
       "      <td>0:00</td>\n",
       "      <td>260 W 44 St NYC</td>\n",
       "      <td>B00256</td>\n",
       "    </tr>\n",
       "    <tr>\n",
       "      <th>1</th>\n",
       "      <td>7/1/2014</td>\n",
       "      <td>0:00</td>\n",
       "      <td>125 W 29 St Nyc</td>\n",
       "      <td>B00256</td>\n",
       "    </tr>\n",
       "    <tr>\n",
       "      <th>2</th>\n",
       "      <td>7/1/2014</td>\n",
       "      <td>0:00</td>\n",
       "      <td>141 W 28 St Nyc</td>\n",
       "      <td>B00256</td>\n",
       "    </tr>\n",
       "    <tr>\n",
       "      <th>3</th>\n",
       "      <td>7/1/2014</td>\n",
       "      <td>0:01</td>\n",
       "      <td>EWR</td>\n",
       "      <td>B00256</td>\n",
       "    </tr>\n",
       "    <tr>\n",
       "      <th>4</th>\n",
       "      <td>7/1/2014</td>\n",
       "      <td>0:07</td>\n",
       "      <td>JFK</td>\n",
       "      <td>B00256</td>\n",
       "    </tr>\n",
       "  </tbody>\n",
       "</table>\n",
       "</div>"
      ],
      "text/plain": [
       "       Date  Time        PU_Adress Base_No\n",
       "0  7/1/2014  0:00  260 W 44 St NYC  B00256\n",
       "1  7/1/2014  0:00  125 W 29 St Nyc  B00256\n",
       "2  7/1/2014  0:00  141 W 28 St Nyc  B00256\n",
       "3  7/1/2014  0:01              EWR  B00256\n",
       "4  7/1/2014  0:07              JFK  B00256"
      ]
     },
     "execution_count": 135,
     "metadata": {},
     "output_type": "execute_result"
    }
   ],
   "source": [
    "carmel.head()"
   ]
  },
  {
   "cell_type": "code",
   "execution_count": 66,
   "metadata": {},
   "outputs": [
    {
     "data": {
      "text/html": [
       "<div>\n",
       "<style scoped>\n",
       "    .dataframe tbody tr th:only-of-type {\n",
       "        vertical-align: middle;\n",
       "    }\n",
       "\n",
       "    .dataframe tbody tr th {\n",
       "        vertical-align: top;\n",
       "    }\n",
       "\n",
       "    .dataframe thead th {\n",
       "        text-align: right;\n",
       "    }\n",
       "</style>\n",
       "<table border=\"1\" class=\"dataframe\">\n",
       "  <thead>\n",
       "    <tr style=\"text-align: right;\">\n",
       "      <th></th>\n",
       "      <th>Date</th>\n",
       "      <th>time_carm</th>\n",
       "      <th>pick_up_add_carm</th>\n",
       "    </tr>\n",
       "  </thead>\n",
       "  <tbody>\n",
       "    <tr>\n",
       "      <th>0</th>\n",
       "      <td>2014-07-01</td>\n",
       "      <td>0:00</td>\n",
       "      <td>260 W 44 St NYC</td>\n",
       "    </tr>\n",
       "    <tr>\n",
       "      <th>1</th>\n",
       "      <td>2014-07-01</td>\n",
       "      <td>0:00</td>\n",
       "      <td>125 W 29 St Nyc</td>\n",
       "    </tr>\n",
       "    <tr>\n",
       "      <th>2</th>\n",
       "      <td>2014-07-01</td>\n",
       "      <td>0:00</td>\n",
       "      <td>141 W 28 St Nyc</td>\n",
       "    </tr>\n",
       "    <tr>\n",
       "      <th>3</th>\n",
       "      <td>2014-07-01</td>\n",
       "      <td>0:01</td>\n",
       "      <td>EWR</td>\n",
       "    </tr>\n",
       "    <tr>\n",
       "      <th>4</th>\n",
       "      <td>2014-07-01</td>\n",
       "      <td>0:07</td>\n",
       "      <td>JFK</td>\n",
       "    </tr>\n",
       "    <tr>\n",
       "      <th>...</th>\n",
       "      <td>...</td>\n",
       "      <td>...</td>\n",
       "      <td>...</td>\n",
       "    </tr>\n",
       "    <tr>\n",
       "      <th>256514</th>\n",
       "      <td>2014-09-30</td>\n",
       "      <td>23:53</td>\n",
       "      <td>JFK</td>\n",
       "    </tr>\n",
       "    <tr>\n",
       "      <th>256515</th>\n",
       "      <td>2014-09-30</td>\n",
       "      <td>23:55</td>\n",
       "      <td>5 Allen St Nyc</td>\n",
       "    </tr>\n",
       "    <tr>\n",
       "      <th>256516</th>\n",
       "      <td>2014-09-30</td>\n",
       "      <td>23:56</td>\n",
       "      <td>JFK</td>\n",
       "    </tr>\n",
       "    <tr>\n",
       "      <th>256517</th>\n",
       "      <td>2014-09-30</td>\n",
       "      <td>23:58</td>\n",
       "      <td>EWR</td>\n",
       "    </tr>\n",
       "    <tr>\n",
       "      <th>256518</th>\n",
       "      <td>2014-09-30</td>\n",
       "      <td>23:59</td>\n",
       "      <td>JFK</td>\n",
       "    </tr>\n",
       "  </tbody>\n",
       "</table>\n",
       "<p>256519 rows × 3 columns</p>\n",
       "</div>"
      ],
      "text/plain": [
       "             Date time_carm pick_up_add_carm\n",
       "0      2014-07-01      0:00  260 W 44 St NYC\n",
       "1      2014-07-01      0:00  125 W 29 St Nyc\n",
       "2      2014-07-01      0:00  141 W 28 St Nyc\n",
       "3      2014-07-01      0:01              EWR\n",
       "4      2014-07-01      0:07              JFK\n",
       "...           ...       ...              ...\n",
       "256514 2014-09-30     23:53              JFK\n",
       "256515 2014-09-30     23:55   5 Allen St Nyc\n",
       "256516 2014-09-30     23:56              JFK\n",
       "256517 2014-09-30     23:58              EWR\n",
       "256518 2014-09-30     23:59              JFK\n",
       "\n",
       "[256519 rows x 3 columns]"
      ]
     },
     "execution_count": 66,
     "metadata": {},
     "output_type": "execute_result"
    }
   ],
   "source": [
    "carmel.drop(['Base_No'], axis = 1, inplace=True)"
   ]
  },
  {
   "cell_type": "code",
   "execution_count": 136,
   "metadata": {},
   "outputs": [],
   "source": [
    "carmel.rename(columns = {'Date':'DATE', 'Time':'time_carm', 'PU_Adress':'pick_up_add_carm'}, inplace = True)"
   ]
  },
  {
   "cell_type": "code",
   "execution_count": 82,
   "metadata": {},
   "outputs": [
    {
     "data": {
      "text/html": [
       "<div>\n",
       "<style scoped>\n",
       "    .dataframe tbody tr th:only-of-type {\n",
       "        vertical-align: middle;\n",
       "    }\n",
       "\n",
       "    .dataframe tbody tr th {\n",
       "        vertical-align: top;\n",
       "    }\n",
       "\n",
       "    .dataframe thead th {\n",
       "        text-align: right;\n",
       "    }\n",
       "</style>\n",
       "<table border=\"1\" class=\"dataframe\">\n",
       "  <thead>\n",
       "    <tr style=\"text-align: right;\">\n",
       "      <th></th>\n",
       "      <th>Date</th>\n",
       "      <th>Time</th>\n",
       "      <th>State</th>\n",
       "      <th>PuFrom</th>\n",
       "      <th>Address</th>\n",
       "      <th>Street</th>\n",
       "    </tr>\n",
       "  </thead>\n",
       "  <tbody>\n",
       "    <tr>\n",
       "      <th>0</th>\n",
       "      <td>2014.07.06</td>\n",
       "      <td>14:30</td>\n",
       "      <td>NY                                            ...</td>\n",
       "      <td>MANHATTAN</td>\n",
       "      <td>50</td>\n",
       "      <td>MURRAY ST</td>\n",
       "    </tr>\n",
       "    <tr>\n",
       "      <th>1</th>\n",
       "      <td>2014.07.04</td>\n",
       "      <td>7:15</td>\n",
       "      <td>NY                                            ...</td>\n",
       "      <td>MANHATTAN</td>\n",
       "      <td>143</td>\n",
       "      <td>AVENUE B</td>\n",
       "    </tr>\n",
       "    <tr>\n",
       "      <th>2</th>\n",
       "      <td>2014.07.05</td>\n",
       "      <td>5:45</td>\n",
       "      <td>NY                                            ...</td>\n",
       "      <td>MANHATTAN</td>\n",
       "      <td>125</td>\n",
       "      <td>CHRISTOPHER ST</td>\n",
       "    </tr>\n",
       "    <tr>\n",
       "      <th>3</th>\n",
       "      <td>2014.07.06</td>\n",
       "      <td>4:30</td>\n",
       "      <td>NY                                            ...</td>\n",
       "      <td>MANHATTAN</td>\n",
       "      <td>217</td>\n",
       "      <td>E 7 ST</td>\n",
       "    </tr>\n",
       "    <tr>\n",
       "      <th>4</th>\n",
       "      <td>2014.07.05</td>\n",
       "      <td>7:45</td>\n",
       "      <td>NY                                            ...</td>\n",
       "      <td>MANHATTAN</td>\n",
       "      <td>521</td>\n",
       "      <td>W 26 ST</td>\n",
       "    </tr>\n",
       "  </tbody>\n",
       "</table>\n",
       "</div>"
      ],
      "text/plain": [
       "         Date   Time                                              State  \\\n",
       "0  2014.07.06  14:30  NY                                            ...   \n",
       "1  2014.07.04   7:15  NY                                            ...   \n",
       "2  2014.07.05   5:45  NY                                            ...   \n",
       "3  2014.07.06   4:30  NY                                            ...   \n",
       "4  2014.07.05   7:45  NY                                            ...   \n",
       "\n",
       "      PuFrom Address                Street  \n",
       "0  MANHATTAN      50  MURRAY ST             \n",
       "1  MANHATTAN     143  AVENUE B              \n",
       "2  MANHATTAN     125  CHRISTOPHER ST        \n",
       "3  MANHATTAN     217  E 7 ST                \n",
       "4  MANHATTAN     521  W 26 ST               "
      ]
     },
     "execution_count": 82,
     "metadata": {},
     "output_type": "execute_result"
    }
   ],
   "source": [
    "dial7.head()"
   ]
  },
  {
   "cell_type": "code",
   "execution_count": 84,
   "metadata": {},
   "outputs": [
    {
     "data": {
      "text/html": [
       "<div>\n",
       "<style scoped>\n",
       "    .dataframe tbody tr th:only-of-type {\n",
       "        vertical-align: middle;\n",
       "    }\n",
       "\n",
       "    .dataframe tbody tr th {\n",
       "        vertical-align: top;\n",
       "    }\n",
       "\n",
       "    .dataframe thead th {\n",
       "        text-align: right;\n",
       "    }\n",
       "</style>\n",
       "<table border=\"1\" class=\"dataframe\">\n",
       "  <thead>\n",
       "    <tr style=\"text-align: right;\">\n",
       "      <th></th>\n",
       "      <th>Date</th>\n",
       "      <th>Time</th>\n",
       "      <th>State</th>\n",
       "      <th>PuFrom</th>\n",
       "      <th>Address</th>\n",
       "      <th>Street</th>\n",
       "      <th>pick_up_add_dia</th>\n",
       "    </tr>\n",
       "  </thead>\n",
       "  <tbody>\n",
       "    <tr>\n",
       "      <th>0</th>\n",
       "      <td>2014.07.06</td>\n",
       "      <td>14:30</td>\n",
       "      <td>NY                                            ...</td>\n",
       "      <td>MANHATTAN</td>\n",
       "      <td>50</td>\n",
       "      <td>MURRAY ST</td>\n",
       "      <td>50 MURRAY ST            MANHATTAN</td>\n",
       "    </tr>\n",
       "    <tr>\n",
       "      <th>1</th>\n",
       "      <td>2014.07.04</td>\n",
       "      <td>7:15</td>\n",
       "      <td>NY                                            ...</td>\n",
       "      <td>MANHATTAN</td>\n",
       "      <td>143</td>\n",
       "      <td>AVENUE B</td>\n",
       "      <td>143 AVENUE B             MANHATTAN</td>\n",
       "    </tr>\n",
       "    <tr>\n",
       "      <th>2</th>\n",
       "      <td>2014.07.05</td>\n",
       "      <td>5:45</td>\n",
       "      <td>NY                                            ...</td>\n",
       "      <td>MANHATTAN</td>\n",
       "      <td>125</td>\n",
       "      <td>CHRISTOPHER ST</td>\n",
       "      <td>125 CHRISTOPHER ST       MANHATTAN</td>\n",
       "    </tr>\n",
       "    <tr>\n",
       "      <th>3</th>\n",
       "      <td>2014.07.06</td>\n",
       "      <td>4:30</td>\n",
       "      <td>NY                                            ...</td>\n",
       "      <td>MANHATTAN</td>\n",
       "      <td>217</td>\n",
       "      <td>E 7 ST</td>\n",
       "      <td>217 E 7 ST               MANHATTAN</td>\n",
       "    </tr>\n",
       "    <tr>\n",
       "      <th>4</th>\n",
       "      <td>2014.07.05</td>\n",
       "      <td>7:45</td>\n",
       "      <td>NY                                            ...</td>\n",
       "      <td>MANHATTAN</td>\n",
       "      <td>521</td>\n",
       "      <td>W 26 ST</td>\n",
       "      <td>521 W 26 ST              MANHATTAN</td>\n",
       "    </tr>\n",
       "  </tbody>\n",
       "</table>\n",
       "</div>"
      ],
      "text/plain": [
       "         Date   Time                                              State  \\\n",
       "0  2014.07.06  14:30  NY                                            ...   \n",
       "1  2014.07.04   7:15  NY                                            ...   \n",
       "2  2014.07.05   5:45  NY                                            ...   \n",
       "3  2014.07.06   4:30  NY                                            ...   \n",
       "4  2014.07.05   7:45  NY                                            ...   \n",
       "\n",
       "      PuFrom Address                Street                     pick_up_add_dia  \n",
       "0  MANHATTAN      50  MURRAY ST              50 MURRAY ST            MANHATTAN  \n",
       "1  MANHATTAN     143  AVENUE B              143 AVENUE B             MANHATTAN  \n",
       "2  MANHATTAN     125  CHRISTOPHER ST        125 CHRISTOPHER ST       MANHATTAN  \n",
       "3  MANHATTAN     217  E 7 ST                217 E 7 ST               MANHATTAN  \n",
       "4  MANHATTAN     521  W 26 ST               521 W 26 ST              MANHATTAN  "
      ]
     },
     "execution_count": 84,
     "metadata": {},
     "output_type": "execute_result"
    }
   ],
   "source": [
    "dial7['pick_up_add_dia'] = dial7['Address'] + ' ' + dial7['Street'] + ', ' + dial7['PuFrom']\n",
    "dial7.head()"
   ]
  },
  {
   "cell_type": "code",
   "execution_count": 86,
   "metadata": {},
   "outputs": [
    {
     "data": {
      "text/html": [
       "<div>\n",
       "<style scoped>\n",
       "    .dataframe tbody tr th:only-of-type {\n",
       "        vertical-align: middle;\n",
       "    }\n",
       "\n",
       "    .dataframe tbody tr th {\n",
       "        vertical-align: top;\n",
       "    }\n",
       "\n",
       "    .dataframe thead th {\n",
       "        text-align: right;\n",
       "    }\n",
       "</style>\n",
       "<table border=\"1\" class=\"dataframe\">\n",
       "  <thead>\n",
       "    <tr style=\"text-align: right;\">\n",
       "      <th></th>\n",
       "      <th>Date</th>\n",
       "      <th>Time</th>\n",
       "      <th>pick_up_add_dia</th>\n",
       "    </tr>\n",
       "  </thead>\n",
       "  <tbody>\n",
       "    <tr>\n",
       "      <th>0</th>\n",
       "      <td>2014.07.06</td>\n",
       "      <td>14:30</td>\n",
       "      <td>50 MURRAY ST            MANHATTAN</td>\n",
       "    </tr>\n",
       "    <tr>\n",
       "      <th>1</th>\n",
       "      <td>2014.07.04</td>\n",
       "      <td>7:15</td>\n",
       "      <td>143 AVENUE B             MANHATTAN</td>\n",
       "    </tr>\n",
       "    <tr>\n",
       "      <th>2</th>\n",
       "      <td>2014.07.05</td>\n",
       "      <td>5:45</td>\n",
       "      <td>125 CHRISTOPHER ST       MANHATTAN</td>\n",
       "    </tr>\n",
       "    <tr>\n",
       "      <th>3</th>\n",
       "      <td>2014.07.06</td>\n",
       "      <td>4:30</td>\n",
       "      <td>217 E 7 ST               MANHATTAN</td>\n",
       "    </tr>\n",
       "    <tr>\n",
       "      <th>4</th>\n",
       "      <td>2014.07.05</td>\n",
       "      <td>7:45</td>\n",
       "      <td>521 W 26 ST              MANHATTAN</td>\n",
       "    </tr>\n",
       "    <tr>\n",
       "      <th>...</th>\n",
       "      <td>...</td>\n",
       "      <td>...</td>\n",
       "      <td>...</td>\n",
       "    </tr>\n",
       "    <tr>\n",
       "      <th>194987</th>\n",
       "      <td>2014.09.28</td>\n",
       "      <td>21:50</td>\n",
       "      <td>Jfk</td>\n",
       "    </tr>\n",
       "    <tr>\n",
       "      <th>194988</th>\n",
       "      <td>2014.09.28</td>\n",
       "      <td>7:00</td>\n",
       "      <td>112 W 78 ST              MANHATTAN</td>\n",
       "    </tr>\n",
       "    <tr>\n",
       "      <th>194989</th>\n",
       "      <td>2014.09.28</td>\n",
       "      <td>15:30</td>\n",
       "      <td>601 W 57 ST              MANHATTAN</td>\n",
       "    </tr>\n",
       "    <tr>\n",
       "      <th>194990</th>\n",
       "      <td>2014.09.28</td>\n",
       "      <td>19:55</td>\n",
       "      <td>NaN</td>\n",
       "    </tr>\n",
       "    <tr>\n",
       "      <th>194991</th>\n",
       "      <td>2014.09.08</td>\n",
       "      <td>9:45</td>\n",
       "      <td>415 W 24 ST              MANHATTAN</td>\n",
       "    </tr>\n",
       "  </tbody>\n",
       "</table>\n",
       "<p>194992 rows × 3 columns</p>\n",
       "</div>"
      ],
      "text/plain": [
       "              Date   Time                     pick_up_add_dia\n",
       "0       2014.07.06  14:30   50 MURRAY ST            MANHATTAN\n",
       "1       2014.07.04   7:15  143 AVENUE B             MANHATTAN\n",
       "2       2014.07.05   5:45  125 CHRISTOPHER ST       MANHATTAN\n",
       "3       2014.07.06   4:30  217 E 7 ST               MANHATTAN\n",
       "4       2014.07.05   7:45  521 W 26 ST              MANHATTAN\n",
       "...            ...    ...                                 ...\n",
       "194987  2014.09.28  21:50                                 Jfk\n",
       "194988  2014.09.28   7:00  112 W 78 ST              MANHATTAN\n",
       "194989  2014.09.28  15:30  601 W 57 ST              MANHATTAN\n",
       "194990  2014.09.28  19:55                                 NaN\n",
       "194991  2014.09.08   9:45  415 W 24 ST              MANHATTAN\n",
       "\n",
       "[194992 rows x 3 columns]"
      ]
     },
     "execution_count": 86,
     "metadata": {},
     "output_type": "execute_result"
    }
   ],
   "source": [
    "dial7.drop(['State', 'PuFrom', 'Address', 'Street'], axis = 1, inplace=True)"
   ]
  },
  {
   "cell_type": "code",
   "execution_count": 87,
   "metadata": {},
   "outputs": [],
   "source": [
    "dial7.rename(columns = {'Date':'DATE', 'Time':'time_dia'}, inplace = True)"
   ]
  },
  {
   "cell_type": "code",
   "execution_count": 88,
   "metadata": {},
   "outputs": [
    {
     "data": {
      "text/html": [
       "<div>\n",
       "<style scoped>\n",
       "    .dataframe tbody tr th:only-of-type {\n",
       "        vertical-align: middle;\n",
       "    }\n",
       "\n",
       "    .dataframe tbody tr th {\n",
       "        vertical-align: top;\n",
       "    }\n",
       "\n",
       "    .dataframe thead th {\n",
       "        text-align: right;\n",
       "    }\n",
       "</style>\n",
       "<table border=\"1\" class=\"dataframe\">\n",
       "  <thead>\n",
       "    <tr style=\"text-align: right;\">\n",
       "      <th></th>\n",
       "      <th>Date</th>\n",
       "      <th>Time</th>\n",
       "      <th>PU_Address</th>\n",
       "    </tr>\n",
       "  </thead>\n",
       "  <tbody>\n",
       "    <tr>\n",
       "      <th>0</th>\n",
       "      <td>7/1/2014</td>\n",
       "      <td>12:00:00 AM</td>\n",
       "      <td>2396 Valentine Ave Fordham, BX</td>\n",
       "    </tr>\n",
       "    <tr>\n",
       "      <th>1</th>\n",
       "      <td>7/1/2014</td>\n",
       "      <td>12:01:00 AM</td>\n",
       "      <td>1859 Walton Ave Morris Heights, BX</td>\n",
       "    </tr>\n",
       "    <tr>\n",
       "      <th>2</th>\n",
       "      <td>7/1/2014</td>\n",
       "      <td>12:02:00 AM</td>\n",
       "      <td>2431 Jerome Ave Jerome, BX</td>\n",
       "    </tr>\n",
       "    <tr>\n",
       "      <th>3</th>\n",
       "      <td>7/1/2014</td>\n",
       "      <td>12:05:00 AM</td>\n",
       "      <td>3044 Valentine Ave Fordham, BX</td>\n",
       "    </tr>\n",
       "    <tr>\n",
       "      <th>4</th>\n",
       "      <td>7/1/2014</td>\n",
       "      <td>12:05:00 AM</td>\n",
       "      <td>1085 Nelson Ave High Bridge, BX</td>\n",
       "    </tr>\n",
       "  </tbody>\n",
       "</table>\n",
       "</div>"
      ],
      "text/plain": [
       "       Date         Time                           PU_Address\n",
       "0  7/1/2014  12:00:00 AM       2396 Valentine Ave Fordham, BX\n",
       "1  7/1/2014  12:01:00 AM   1859 Walton Ave Morris Heights, BX\n",
       "2  7/1/2014  12:02:00 AM           2431 Jerome Ave Jerome, BX\n",
       "3  7/1/2014  12:05:00 AM       3044 Valentine Ave Fordham, BX\n",
       "4  7/1/2014  12:05:00 AM      1085 Nelson Ave High Bridge, BX"
      ]
     },
     "execution_count": 88,
     "metadata": {},
     "output_type": "execute_result"
    }
   ],
   "source": [
    "diplo.head()"
   ]
  },
  {
   "cell_type": "code",
   "execution_count": 90,
   "metadata": {},
   "outputs": [],
   "source": [
    "diplo.rename(columns = {'Date':'DATE', 'Time':'time_dip', 'PU_Address':'pick_up_add_dip'}, inplace = True)"
   ]
  },
  {
   "cell_type": "code",
   "execution_count": 91,
   "metadata": {},
   "outputs": [
    {
     "data": {
      "text/html": [
       "<div>\n",
       "<style scoped>\n",
       "    .dataframe tbody tr th:only-of-type {\n",
       "        vertical-align: middle;\n",
       "    }\n",
       "\n",
       "    .dataframe tbody tr th {\n",
       "        vertical-align: top;\n",
       "    }\n",
       "\n",
       "    .dataframe thead th {\n",
       "        text-align: right;\n",
       "    }\n",
       "</style>\n",
       "<table border=\"1\" class=\"dataframe\">\n",
       "  <thead>\n",
       "    <tr style=\"text-align: right;\">\n",
       "      <th></th>\n",
       "      <th>DATE</th>\n",
       "      <th>TIME</th>\n",
       "      <th>PU_Address</th>\n",
       "    </tr>\n",
       "  </thead>\n",
       "  <tbody>\n",
       "    <tr>\n",
       "      <th>0</th>\n",
       "      <td>7/1/2014</td>\n",
       "      <td>12:00:00 AM</td>\n",
       "      <td>2976 Marion Ave Fordham, BX</td>\n",
       "    </tr>\n",
       "    <tr>\n",
       "      <th>1</th>\n",
       "      <td>7/1/2014</td>\n",
       "      <td>12:01:00 AM</td>\n",
       "      <td>780 Grand Concourse Cortlandt, BX</td>\n",
       "    </tr>\n",
       "    <tr>\n",
       "      <th>2</th>\n",
       "      <td>7/1/2014</td>\n",
       "      <td>12:01:00 AM</td>\n",
       "      <td>105 Elliot Pl High Bridge, BX</td>\n",
       "    </tr>\n",
       "    <tr>\n",
       "      <th>3</th>\n",
       "      <td>7/1/2014</td>\n",
       "      <td>12:03:00 AM</td>\n",
       "      <td>2825 Webb Ave Bronx</td>\n",
       "    </tr>\n",
       "    <tr>\n",
       "      <th>4</th>\n",
       "      <td>7/1/2014</td>\n",
       "      <td>12:04:00 AM</td>\n",
       "      <td>1878 Cedar Ave Morris Heights, BX</td>\n",
       "    </tr>\n",
       "  </tbody>\n",
       "</table>\n",
       "</div>"
      ],
      "text/plain": [
       "       DATE         TIME                          PU_Address\n",
       "0  7/1/2014  12:00:00 AM         2976 Marion Ave Fordham, BX\n",
       "1  7/1/2014  12:01:00 AM   780 Grand Concourse Cortlandt, BX\n",
       "2  7/1/2014  12:01:00 AM       105 Elliot Pl High Bridge, BX\n",
       "3  7/1/2014  12:03:00 AM                 2825 Webb Ave Bronx\n",
       "4  7/1/2014  12:04:00 AM   1878 Cedar Ave Morris Heights, BX"
      ]
     },
     "execution_count": 91,
     "metadata": {},
     "output_type": "execute_result"
    }
   ],
   "source": [
    "highclass.head()"
   ]
  },
  {
   "cell_type": "code",
   "execution_count": 92,
   "metadata": {},
   "outputs": [],
   "source": [
    "highclass.rename(columns = {'TIME':'time_high', 'PU_Address':'pick_up_add_high'}, inplace = True)"
   ]
  },
  {
   "cell_type": "code",
   "execution_count": 95,
   "metadata": {},
   "outputs": [
    {
     "data": {
      "text/html": [
       "<div>\n",
       "<style scoped>\n",
       "    .dataframe tbody tr th:only-of-type {\n",
       "        vertical-align: middle;\n",
       "    }\n",
       "\n",
       "    .dataframe tbody tr th {\n",
       "        vertical-align: top;\n",
       "    }\n",
       "\n",
       "    .dataframe thead th {\n",
       "        text-align: right;\n",
       "    }\n",
       "</style>\n",
       "<table border=\"1\" class=\"dataframe\">\n",
       "  <thead>\n",
       "    <tr style=\"text-align: right;\">\n",
       "      <th></th>\n",
       "      <th>Date</th>\n",
       "      <th>Time</th>\n",
       "      <th>Street_Address</th>\n",
       "      <th>City_State</th>\n",
       "      <th>Unnamed: 4</th>\n",
       "      <th>Unnamed: 5</th>\n",
       "    </tr>\n",
       "  </thead>\n",
       "  <tbody>\n",
       "    <tr>\n",
       "      <th>0</th>\n",
       "      <td>7/1/2014</td>\n",
       "      <td>20:27</td>\n",
       "      <td>622 THIRD AV</td>\n",
       "      <td>M</td>\n",
       "      <td>NaN</td>\n",
       "      <td>NaN</td>\n",
       "    </tr>\n",
       "    <tr>\n",
       "      <th>1</th>\n",
       "      <td>7/1/2014</td>\n",
       "      <td>21:04</td>\n",
       "      <td>E 77TH ST</td>\n",
       "      <td>M</td>\n",
       "      <td>NaN</td>\n",
       "      <td>NaN</td>\n",
       "    </tr>\n",
       "    <tr>\n",
       "      <th>2</th>\n",
       "      <td>7/1/2014</td>\n",
       "      <td>22:20</td>\n",
       "      <td>67 WEST PALISADES BLVD</td>\n",
       "      <td>PALISADES PARK NJ</td>\n",
       "      <td>NaN</td>\n",
       "      <td>NaN</td>\n",
       "    </tr>\n",
       "    <tr>\n",
       "      <th>3</th>\n",
       "      <td>7/1/2014</td>\n",
       "      <td>12:28</td>\n",
       "      <td>130 MIDDLE NECK RD</td>\n",
       "      <td>SANDS POINT LI</td>\n",
       "      <td>NaN</td>\n",
       "      <td>NaN</td>\n",
       "    </tr>\n",
       "    <tr>\n",
       "      <th>4</th>\n",
       "      <td>7/1/2014</td>\n",
       "      <td>16:45</td>\n",
       "      <td>36 E 31ST ST</td>\n",
       "      <td>M</td>\n",
       "      <td>NaN</td>\n",
       "      <td>NaN</td>\n",
       "    </tr>\n",
       "  </tbody>\n",
       "</table>\n",
       "</div>"
      ],
      "text/plain": [
       "       Date            Time                   Street_Address   \\\n",
       "0  7/1/2014      20:27           622 THIRD AV                   \n",
       "1  7/1/2014      21:04            E 77TH ST                     \n",
       "2  7/1/2014      22:20           67 WEST PALISADES BLVD         \n",
       "3  7/1/2014      12:28           130 MIDDLE NECK RD             \n",
       "4  7/1/2014      16:45           36 E 31ST ST                   \n",
       "\n",
       "                     City_State   Unnamed: 4  Unnamed: 5  \n",
       "0       M                                NaN         NaN  \n",
       "1       M                                NaN         NaN  \n",
       "2      PALISADES PARK NJ                 NaN         NaN  \n",
       "3      SANDS POINT LI                    NaN         NaN  \n",
       "4       M                                NaN         NaN  "
      ]
     },
     "execution_count": 95,
     "metadata": {},
     "output_type": "execute_result"
    }
   ],
   "source": [
    "skyline.head()"
   ]
  },
  {
   "cell_type": "code",
   "execution_count": 105,
   "metadata": {},
   "outputs": [
    {
     "name": "stdout",
     "output_type": "stream",
     "text": [
      "<class 'pandas.core.frame.DataFrame'>\n",
      "RangeIndex: 127696 entries, 0 to 127695\n",
      "Data columns (total 7 columns):\n",
      "Date                   127696 non-null object\n",
      "Time                   127696 non-null object\n",
      "    Street_Address     127696 non-null object\n",
      "    City_State         127696 non-null object\n",
      "Unnamed: 4             0 non-null float64\n",
      "Unnamed: 5             0 non-null float64\n",
      "pick_up_add_sky        127696 non-null object\n",
      "dtypes: float64(2), object(5)\n",
      "memory usage: 6.8+ MB\n"
     ]
    }
   ],
   "source": [
    "skyline.info()"
   ]
  },
  {
   "cell_type": "code",
   "execution_count": 103,
   "metadata": {},
   "outputs": [],
   "source": [
    "skyline['pick_up_add_sky'] = skyline['    Street_Address '] + ', ' + skyline['    City_State ']"
   ]
  },
  {
   "cell_type": "code",
   "execution_count": 106,
   "metadata": {},
   "outputs": [
    {
     "data": {
      "text/html": [
       "<div>\n",
       "<style scoped>\n",
       "    .dataframe tbody tr th:only-of-type {\n",
       "        vertical-align: middle;\n",
       "    }\n",
       "\n",
       "    .dataframe tbody tr th {\n",
       "        vertical-align: top;\n",
       "    }\n",
       "\n",
       "    .dataframe thead th {\n",
       "        text-align: right;\n",
       "    }\n",
       "</style>\n",
       "<table border=\"1\" class=\"dataframe\">\n",
       "  <thead>\n",
       "    <tr style=\"text-align: right;\">\n",
       "      <th></th>\n",
       "      <th>Date</th>\n",
       "      <th>Time</th>\n",
       "      <th>pick_up_add_sky</th>\n",
       "    </tr>\n",
       "  </thead>\n",
       "  <tbody>\n",
       "    <tr>\n",
       "      <th>0</th>\n",
       "      <td>7/1/2014</td>\n",
       "      <td>20:27</td>\n",
       "      <td>622 THIRD AV                ,      M      ...</td>\n",
       "    </tr>\n",
       "    <tr>\n",
       "      <th>1</th>\n",
       "      <td>7/1/2014</td>\n",
       "      <td>21:04</td>\n",
       "      <td>E 77TH ST                  ,      M      ...</td>\n",
       "    </tr>\n",
       "    <tr>\n",
       "      <th>2</th>\n",
       "      <td>7/1/2014</td>\n",
       "      <td>22:20</td>\n",
       "      <td>67 WEST PALISADES BLVD      ,     PALISADE...</td>\n",
       "    </tr>\n",
       "    <tr>\n",
       "      <th>3</th>\n",
       "      <td>7/1/2014</td>\n",
       "      <td>12:28</td>\n",
       "      <td>130 MIDDLE NECK RD          ,     SANDS PO...</td>\n",
       "    </tr>\n",
       "    <tr>\n",
       "      <th>4</th>\n",
       "      <td>7/1/2014</td>\n",
       "      <td>16:45</td>\n",
       "      <td>36 E 31ST ST                ,      M      ...</td>\n",
       "    </tr>\n",
       "    <tr>\n",
       "      <th>...</th>\n",
       "      <td>...</td>\n",
       "      <td>...</td>\n",
       "      <td>...</td>\n",
       "    </tr>\n",
       "    <tr>\n",
       "      <th>127691</th>\n",
       "      <td>9/29/2014</td>\n",
       "      <td>13:15</td>\n",
       "      <td>370 7th AVE                 ,      M      ...</td>\n",
       "    </tr>\n",
       "    <tr>\n",
       "      <th>127692</th>\n",
       "      <td>9/29/2014</td>\n",
       "      <td>15:40</td>\n",
       "      <td>1 STATE ST PZ               ,      M      ...</td>\n",
       "    </tr>\n",
       "    <tr>\n",
       "      <th>127693</th>\n",
       "      <td>9/29/2014</td>\n",
       "      <td>20:07</td>\n",
       "      <td>730 5TH AVE                 ,      M      ...</td>\n",
       "    </tr>\n",
       "    <tr>\n",
       "      <th>127694</th>\n",
       "      <td>9/29/2014</td>\n",
       "      <td>22:48</td>\n",
       "      <td>30 ROCKEFELLER PZ           ,      M      ...</td>\n",
       "    </tr>\n",
       "    <tr>\n",
       "      <th>127695</th>\n",
       "      <td>9/29/2014</td>\n",
       "      <td>16:00</td>\n",
       "      <td>904 LEXINGTON AV            ,      M      ...</td>\n",
       "    </tr>\n",
       "  </tbody>\n",
       "</table>\n",
       "<p>127696 rows × 3 columns</p>\n",
       "</div>"
      ],
      "text/plain": [
       "             Date            Time  \\\n",
       "0        7/1/2014      20:27        \n",
       "1        7/1/2014      21:04        \n",
       "2        7/1/2014      22:20        \n",
       "3        7/1/2014      12:28        \n",
       "4        7/1/2014      16:45        \n",
       "...           ...             ...   \n",
       "127691  9/29/2014      13:15        \n",
       "127692  9/29/2014      15:40        \n",
       "127693  9/29/2014      20:07        \n",
       "127694  9/29/2014      22:48        \n",
       "127695  9/29/2014      16:00        \n",
       "\n",
       "                                          pick_up_add_sky  \n",
       "0           622 THIRD AV                ,      M      ...  \n",
       "1            E 77TH ST                  ,      M      ...  \n",
       "2           67 WEST PALISADES BLVD      ,     PALISADE...  \n",
       "3           130 MIDDLE NECK RD          ,     SANDS PO...  \n",
       "4           36 E 31ST ST                ,      M      ...  \n",
       "...                                                   ...  \n",
       "127691      370 7th AVE                 ,      M      ...  \n",
       "127692      1 STATE ST PZ               ,      M      ...  \n",
       "127693      730 5TH AVE                 ,      M      ...  \n",
       "127694      30 ROCKEFELLER PZ           ,      M      ...  \n",
       "127695      904 LEXINGTON AV            ,      M      ...  \n",
       "\n",
       "[127696 rows x 3 columns]"
      ]
     },
     "execution_count": 106,
     "metadata": {},
     "output_type": "execute_result"
    }
   ],
   "source": [
    "skyline.drop(['    Street_Address ', '    City_State ', 'Unnamed: 4', 'Unnamed: 5'], axis = 1, inplace=True)"
   ]
  },
  {
   "cell_type": "code",
   "execution_count": 108,
   "metadata": {},
   "outputs": [],
   "source": [
    "skyline.rename(columns = {'Date':'DATE', 'TIME':'time_sky'}, inplace = True)"
   ]
  },
  {
   "cell_type": "code",
   "execution_count": 110,
   "metadata": {},
   "outputs": [
    {
     "name": "stdout",
     "output_type": "stream",
     "text": [
      "<class 'pandas.core.frame.DataFrame'>\n",
      "RangeIndex: 276 entries, 0 to 275\n",
      "Data columns (total 7 columns):\n",
      "Date               276 non-null object\n",
      "Time               276 non-null object\n",
      "PU_Address         269 non-null object\n",
      "DO_Address         267 non-null object\n",
      "Routing Details    276 non-null object\n",
      "PU_Address.1       276 non-null object\n",
      "Status             276 non-null object\n",
      "dtypes: object(7)\n",
      "memory usage: 15.2+ KB\n"
     ]
    }
   ],
   "source": [
    "federal.info()"
   ]
  },
  {
   "cell_type": "code",
   "execution_count": 111,
   "metadata": {},
   "outputs": [
    {
     "data": {
      "text/html": [
       "<div>\n",
       "<style scoped>\n",
       "    .dataframe tbody tr th:only-of-type {\n",
       "        vertical-align: middle;\n",
       "    }\n",
       "\n",
       "    .dataframe tbody tr th {\n",
       "        vertical-align: top;\n",
       "    }\n",
       "\n",
       "    .dataframe thead th {\n",
       "        text-align: right;\n",
       "    }\n",
       "</style>\n",
       "<table border=\"1\" class=\"dataframe\">\n",
       "  <thead>\n",
       "    <tr style=\"text-align: right;\">\n",
       "      <th></th>\n",
       "      <th>Date</th>\n",
       "      <th>Time</th>\n",
       "      <th>PU_Address</th>\n",
       "    </tr>\n",
       "  </thead>\n",
       "  <tbody>\n",
       "    <tr>\n",
       "      <th>0</th>\n",
       "      <td>07/01/2014</td>\n",
       "      <td>07:15 AM</td>\n",
       "      <td>Brooklyn Museum, 200 Eastern Pkwy., BK NY;</td>\n",
       "    </tr>\n",
       "    <tr>\n",
       "      <th>1</th>\n",
       "      <td>07/01/2014</td>\n",
       "      <td>07:30 AM</td>\n",
       "      <td>33 Robert Dr., Short Hills NJ;</td>\n",
       "    </tr>\n",
       "    <tr>\n",
       "      <th>2</th>\n",
       "      <td>07/01/2014</td>\n",
       "      <td>08:00 AM</td>\n",
       "      <td>60 Glenmore Ave., BK NY;</td>\n",
       "    </tr>\n",
       "    <tr>\n",
       "      <th>3</th>\n",
       "      <td>07/01/2014</td>\n",
       "      <td>09:00 AM</td>\n",
       "      <td>128 East 31 St., BK NY;</td>\n",
       "    </tr>\n",
       "    <tr>\n",
       "      <th>4</th>\n",
       "      <td>07/01/2014</td>\n",
       "      <td>09:30 AM</td>\n",
       "      <td>139-39 35 Ave., Flushing NY;</td>\n",
       "    </tr>\n",
       "    <tr>\n",
       "      <th>...</th>\n",
       "      <td>...</td>\n",
       "      <td>...</td>\n",
       "      <td>...</td>\n",
       "    </tr>\n",
       "    <tr>\n",
       "      <th>271</th>\n",
       "      <td>09/25/2014</td>\n",
       "      <td>12:00 PM</td>\n",
       "      <td>907 59 St., BK NY; ST: W66 St./Broadway, NY NY;</td>\n",
       "    </tr>\n",
       "    <tr>\n",
       "      <th>272</th>\n",
       "      <td>09/26/2014</td>\n",
       "      <td>04:00 PM</td>\n",
       "      <td>20 West St., NY NY;</td>\n",
       "    </tr>\n",
       "    <tr>\n",
       "      <th>273</th>\n",
       "      <td>09/27/2014</td>\n",
       "      <td>05:00 AM</td>\n",
       "      <td>474 Sackett Street, BK NY;</td>\n",
       "    </tr>\n",
       "    <tr>\n",
       "      <th>274</th>\n",
       "      <td>09/27/2014</td>\n",
       "      <td>08:00 AM</td>\n",
       "      <td>474 Sackett Street, BK NY;</td>\n",
       "    </tr>\n",
       "    <tr>\n",
       "      <th>275</th>\n",
       "      <td>09/28/2014</td>\n",
       "      <td>09:00 PM</td>\n",
       "      <td>152 7 Ave., BK NY;</td>\n",
       "    </tr>\n",
       "  </tbody>\n",
       "</table>\n",
       "<p>276 rows × 3 columns</p>\n",
       "</div>"
      ],
      "text/plain": [
       "           Date      Time                                       PU_Address\n",
       "0    07/01/2014  07:15 AM       Brooklyn Museum, 200 Eastern Pkwy., BK NY;\n",
       "1    07/01/2014  07:30 AM                   33 Robert Dr., Short Hills NJ;\n",
       "2    07/01/2014  08:00 AM                         60 Glenmore Ave., BK NY;\n",
       "3    07/01/2014  09:00 AM                          128 East 31 St., BK NY;\n",
       "4    07/01/2014  09:30 AM                     139-39 35 Ave., Flushing NY;\n",
       "..          ...       ...                                              ...\n",
       "271  09/25/2014  12:00 PM  907 59 St., BK NY; ST: W66 St./Broadway, NY NY;\n",
       "272  09/26/2014  04:00 PM                              20 West St., NY NY;\n",
       "273  09/27/2014  05:00 AM                       474 Sackett Street, BK NY;\n",
       "274  09/27/2014  08:00 AM                       474 Sackett Street, BK NY;\n",
       "275  09/28/2014  09:00 PM                               152 7 Ave., BK NY;\n",
       "\n",
       "[276 rows x 3 columns]"
      ]
     },
     "execution_count": 111,
     "metadata": {},
     "output_type": "execute_result"
    }
   ],
   "source": [
    "federal.drop(['DO_Address', 'Routing Details', 'PU_Address.1', 'Status'], axis = 1, inplace=True)"
   ]
  },
  {
   "cell_type": "code",
   "execution_count": 112,
   "metadata": {},
   "outputs": [],
   "source": [
    "federal.rename(columns = {'Date':'DATE', 'Time':'time_fed', 'PU_Address':'pick_up_add_fed'}, inplace = True)"
   ]
  },
  {
   "cell_type": "code",
   "execution_count": 113,
   "metadata": {},
   "outputs": [
    {
     "data": {
      "text/html": [
       "<div>\n",
       "<style scoped>\n",
       "    .dataframe tbody tr th:only-of-type {\n",
       "        vertical-align: middle;\n",
       "    }\n",
       "\n",
       "    .dataframe tbody tr th {\n",
       "        vertical-align: top;\n",
       "    }\n",
       "\n",
       "    .dataframe thead th {\n",
       "        text-align: right;\n",
       "    }\n",
       "</style>\n",
       "<table border=\"1\" class=\"dataframe\">\n",
       "  <thead>\n",
       "    <tr style=\"text-align: right;\">\n",
       "      <th></th>\n",
       "      <th>time_of_trip</th>\n",
       "      <th>start_lat</th>\n",
       "      <th>start_lng</th>\n",
       "      <th>Unnamed: 3</th>\n",
       "    </tr>\n",
       "  </thead>\n",
       "  <tbody>\n",
       "    <tr>\n",
       "      <th>0</th>\n",
       "      <td>9/4/2014 9:51</td>\n",
       "      <td>40.64705</td>\n",
       "      <td>-73.77988</td>\n",
       "      <td>NaN</td>\n",
       "    </tr>\n",
       "    <tr>\n",
       "      <th>1</th>\n",
       "      <td>8/27/2014 21:13</td>\n",
       "      <td>40.74916</td>\n",
       "      <td>-73.98373</td>\n",
       "      <td>NaN</td>\n",
       "    </tr>\n",
       "    <tr>\n",
       "      <th>2</th>\n",
       "      <td>9/4/2014 14:16</td>\n",
       "      <td>40.64065</td>\n",
       "      <td>-73.97594</td>\n",
       "      <td>NaN</td>\n",
       "    </tr>\n",
       "    <tr>\n",
       "      <th>3</th>\n",
       "      <td>9/4/2014 16:08</td>\n",
       "      <td>40.75002</td>\n",
       "      <td>-73.99514</td>\n",
       "      <td>NaN</td>\n",
       "    </tr>\n",
       "    <tr>\n",
       "      <th>4</th>\n",
       "      <td>8/28/2014 2:41</td>\n",
       "      <td>40.76715</td>\n",
       "      <td>-73.98636</td>\n",
       "      <td>NaN</td>\n",
       "    </tr>\n",
       "  </tbody>\n",
       "</table>\n",
       "</div>"
      ],
      "text/plain": [
       "      time_of_trip  start_lat  start_lng Unnamed: 3\n",
       "0    9/4/2014 9:51   40.64705  -73.77988        NaN\n",
       "1  8/27/2014 21:13   40.74916  -73.98373        NaN\n",
       "2   9/4/2014 14:16   40.64065  -73.97594        NaN\n",
       "3   9/4/2014 16:08   40.75002  -73.99514        NaN\n",
       "4   8/28/2014 2:41   40.76715  -73.98636        NaN"
      ]
     },
     "execution_count": 113,
     "metadata": {},
     "output_type": "execute_result"
    }
   ],
   "source": [
    "lyft.head()"
   ]
  },
  {
   "cell_type": "code",
   "execution_count": 114,
   "metadata": {},
   "outputs": [],
   "source": [
    "lyft[['DATE','time_lyf']] = lyft.time_of_trip.str.split(' ', expand=True)"
   ]
  },
  {
   "cell_type": "code",
   "execution_count": 116,
   "metadata": {},
   "outputs": [
    {
     "name": "stdout",
     "output_type": "stream",
     "text": [
      "<class 'pandas.core.frame.DataFrame'>\n",
      "RangeIndex: 267701 entries, 0 to 267700\n",
      "Data columns (total 6 columns):\n",
      "time_of_trip    267701 non-null object\n",
      "start_lat       267700 non-null float64\n",
      "start_lng       267700 non-null float64\n",
      "Unnamed: 3      1198 non-null object\n",
      "DATE            267701 non-null object\n",
      "time_lyf        267701 non-null object\n",
      "dtypes: float64(2), object(4)\n",
      "memory usage: 12.3+ MB\n"
     ]
    }
   ],
   "source": [
    "lyft.info()"
   ]
  },
  {
   "cell_type": "code",
   "execution_count": 117,
   "metadata": {},
   "outputs": [],
   "source": [
    "lyft['pick_up_add_lyf'] = lyft['start_lat'].map(str) + ' ' + lyft['start_lng'].map(str)"
   ]
  },
  {
   "cell_type": "code",
   "execution_count": 118,
   "metadata": {},
   "outputs": [
    {
     "data": {
      "text/html": [
       "<div>\n",
       "<style scoped>\n",
       "    .dataframe tbody tr th:only-of-type {\n",
       "        vertical-align: middle;\n",
       "    }\n",
       "\n",
       "    .dataframe tbody tr th {\n",
       "        vertical-align: top;\n",
       "    }\n",
       "\n",
       "    .dataframe thead th {\n",
       "        text-align: right;\n",
       "    }\n",
       "</style>\n",
       "<table border=\"1\" class=\"dataframe\">\n",
       "  <thead>\n",
       "    <tr style=\"text-align: right;\">\n",
       "      <th></th>\n",
       "      <th>start_lat</th>\n",
       "      <th>start_lng</th>\n",
       "      <th>DATE</th>\n",
       "      <th>time_lyf</th>\n",
       "      <th>pick_up_add_lyf</th>\n",
       "    </tr>\n",
       "  </thead>\n",
       "  <tbody>\n",
       "    <tr>\n",
       "      <th>0</th>\n",
       "      <td>40.64705</td>\n",
       "      <td>-73.77988</td>\n",
       "      <td>9/4/2014</td>\n",
       "      <td>9:51</td>\n",
       "      <td>40.64705 -73.77988</td>\n",
       "    </tr>\n",
       "    <tr>\n",
       "      <th>1</th>\n",
       "      <td>40.74916</td>\n",
       "      <td>-73.98373</td>\n",
       "      <td>8/27/2014</td>\n",
       "      <td>21:13</td>\n",
       "      <td>40.749159999999996 -73.98373000000001</td>\n",
       "    </tr>\n",
       "    <tr>\n",
       "      <th>2</th>\n",
       "      <td>40.64065</td>\n",
       "      <td>-73.97594</td>\n",
       "      <td>9/4/2014</td>\n",
       "      <td>14:16</td>\n",
       "      <td>40.64065 -73.97594000000001</td>\n",
       "    </tr>\n",
       "    <tr>\n",
       "      <th>3</th>\n",
       "      <td>40.75002</td>\n",
       "      <td>-73.99514</td>\n",
       "      <td>9/4/2014</td>\n",
       "      <td>16:08</td>\n",
       "      <td>40.75002 -73.99514</td>\n",
       "    </tr>\n",
       "    <tr>\n",
       "      <th>4</th>\n",
       "      <td>40.76715</td>\n",
       "      <td>-73.98636</td>\n",
       "      <td>8/28/2014</td>\n",
       "      <td>2:41</td>\n",
       "      <td>40.76715 -73.98635999999999</td>\n",
       "    </tr>\n",
       "    <tr>\n",
       "      <th>...</th>\n",
       "      <td>...</td>\n",
       "      <td>...</td>\n",
       "      <td>...</td>\n",
       "      <td>...</td>\n",
       "      <td>...</td>\n",
       "    </tr>\n",
       "    <tr>\n",
       "      <th>267696</th>\n",
       "      <td>40.71931</td>\n",
       "      <td>-73.99138</td>\n",
       "      <td>9/7/2014</td>\n",
       "      <td>3:19</td>\n",
       "      <td>40.71931 -73.99138</td>\n",
       "    </tr>\n",
       "    <tr>\n",
       "      <th>267697</th>\n",
       "      <td>40.73868</td>\n",
       "      <td>-73.98862</td>\n",
       "      <td>9/7/2014</td>\n",
       "      <td>2:59</td>\n",
       "      <td>40.73868 -73.98862</td>\n",
       "    </tr>\n",
       "    <tr>\n",
       "      <th>267698</th>\n",
       "      <td>40.71554</td>\n",
       "      <td>-73.94877</td>\n",
       "      <td>9/7/2014</td>\n",
       "      <td>1:55</td>\n",
       "      <td>40.715540000000004 -73.94877</td>\n",
       "    </tr>\n",
       "    <tr>\n",
       "      <th>267699</th>\n",
       "      <td>40.74667</td>\n",
       "      <td>-73.97445</td>\n",
       "      <td>9/5/2014</td>\n",
       "      <td>23:26</td>\n",
       "      <td>40.74667 -73.97445</td>\n",
       "    </tr>\n",
       "    <tr>\n",
       "      <th>267700</th>\n",
       "      <td>40.74393</td>\n",
       "      <td>-73.78011</td>\n",
       "      <td>9/6/2014</td>\n",
       "      <td>22:19</td>\n",
       "      <td>40.74393 -73.78011</td>\n",
       "    </tr>\n",
       "  </tbody>\n",
       "</table>\n",
       "<p>267701 rows × 5 columns</p>\n",
       "</div>"
      ],
      "text/plain": [
       "        start_lat  start_lng       DATE time_lyf  \\\n",
       "0        40.64705  -73.77988   9/4/2014     9:51   \n",
       "1        40.74916  -73.98373  8/27/2014    21:13   \n",
       "2        40.64065  -73.97594   9/4/2014    14:16   \n",
       "3        40.75002  -73.99514   9/4/2014    16:08   \n",
       "4        40.76715  -73.98636  8/28/2014     2:41   \n",
       "...           ...        ...        ...      ...   \n",
       "267696   40.71931  -73.99138   9/7/2014     3:19   \n",
       "267697   40.73868  -73.98862   9/7/2014     2:59   \n",
       "267698   40.71554  -73.94877   9/7/2014     1:55   \n",
       "267699   40.74667  -73.97445   9/5/2014    23:26   \n",
       "267700   40.74393  -73.78011   9/6/2014    22:19   \n",
       "\n",
       "                              pick_up_add_lyf  \n",
       "0                          40.64705 -73.77988  \n",
       "1       40.749159999999996 -73.98373000000001  \n",
       "2                 40.64065 -73.97594000000001  \n",
       "3                          40.75002 -73.99514  \n",
       "4                 40.76715 -73.98635999999999  \n",
       "...                                       ...  \n",
       "267696                     40.71931 -73.99138  \n",
       "267697                     40.73868 -73.98862  \n",
       "267698           40.715540000000004 -73.94877  \n",
       "267699                     40.74667 -73.97445  \n",
       "267700                     40.74393 -73.78011  \n",
       "\n",
       "[267701 rows x 5 columns]"
      ]
     },
     "execution_count": 118,
     "metadata": {},
     "output_type": "execute_result"
    }
   ],
   "source": [
    "lyft.drop(['time_of_trip', 'Unnamed: 3'], axis = 1, inplace=True)"
   ]
  },
  {
   "cell_type": "code",
   "execution_count": 119,
   "metadata": {},
   "outputs": [
    {
     "data": {
      "text/html": [
       "<div>\n",
       "<style scoped>\n",
       "    .dataframe tbody tr th:only-of-type {\n",
       "        vertical-align: middle;\n",
       "    }\n",
       "\n",
       "    .dataframe tbody tr th {\n",
       "        vertical-align: top;\n",
       "    }\n",
       "\n",
       "    .dataframe thead th {\n",
       "        text-align: right;\n",
       "    }\n",
       "</style>\n",
       "<table border=\"1\" class=\"dataframe\">\n",
       "  <thead>\n",
       "    <tr style=\"text-align: right;\">\n",
       "      <th></th>\n",
       "      <th>DATE</th>\n",
       "      <th>TIME</th>\n",
       "      <th>PICK UP ADDRESS</th>\n",
       "    </tr>\n",
       "  </thead>\n",
       "  <tbody>\n",
       "    <tr>\n",
       "      <th>0</th>\n",
       "      <td>7/1/2014</td>\n",
       "      <td>12:02:00 AM</td>\n",
       "      <td>5360 Broadway Kingsbridge, BX</td>\n",
       "    </tr>\n",
       "    <tr>\n",
       "      <th>1</th>\n",
       "      <td>7/1/2014</td>\n",
       "      <td>12:02:00 AM</td>\n",
       "      <td>546 Isham St NYC</td>\n",
       "    </tr>\n",
       "    <tr>\n",
       "      <th>2</th>\n",
       "      <td>7/1/2014</td>\n",
       "      <td>12:03:00 AM</td>\n",
       "      <td>234 Bradhurst Ave NYC</td>\n",
       "    </tr>\n",
       "    <tr>\n",
       "      <th>3</th>\n",
       "      <td>7/1/2014</td>\n",
       "      <td>12:07:00 AM</td>\n",
       "      <td>99 Marble Hill Ave Bronx</td>\n",
       "    </tr>\n",
       "    <tr>\n",
       "      <th>4</th>\n",
       "      <td>7/1/2014</td>\n",
       "      <td>12:08:00 AM</td>\n",
       "      <td>120 Vermilyea Ave NYC</td>\n",
       "    </tr>\n",
       "  </tbody>\n",
       "</table>\n",
       "</div>"
      ],
      "text/plain": [
       "       DATE         TIME                 PICK UP ADDRESS\n",
       "0  7/1/2014  12:02:00 AM   5360 Broadway Kingsbridge, BX\n",
       "1  7/1/2014  12:02:00 AM                546 Isham St NYC\n",
       "2  7/1/2014  12:03:00 AM           234 Bradhurst Ave NYC\n",
       "3  7/1/2014  12:07:00 AM        99 Marble Hill Ave Bronx\n",
       "4  7/1/2014  12:08:00 AM           120 Vermilyea Ave NYC"
      ]
     },
     "execution_count": 119,
     "metadata": {},
     "output_type": "execute_result"
    }
   ],
   "source": [
    "firstclass.head()"
   ]
  },
  {
   "cell_type": "code",
   "execution_count": 120,
   "metadata": {},
   "outputs": [],
   "source": [
    "firstclass.rename(columns = {'TIME':'time_fir', 'PICK UP ADDRESS':'pick_up_add_fir'}, inplace = True)"
   ]
  },
  {
   "cell_type": "code",
   "execution_count": 121,
   "metadata": {},
   "outputs": [
    {
     "data": {
      "text/html": [
       "<div>\n",
       "<style scoped>\n",
       "    .dataframe tbody tr th:only-of-type {\n",
       "        vertical-align: middle;\n",
       "    }\n",
       "\n",
       "    .dataframe tbody tr th {\n",
       "        vertical-align: top;\n",
       "    }\n",
       "\n",
       "    .dataframe thead th {\n",
       "        text-align: right;\n",
       "    }\n",
       "</style>\n",
       "<table border=\"1\" class=\"dataframe\">\n",
       "  <thead>\n",
       "    <tr style=\"text-align: right;\">\n",
       "      <th></th>\n",
       "      <th>DATE</th>\n",
       "      <th>TIME</th>\n",
       "      <th>PICK UP ADDRESS</th>\n",
       "    </tr>\n",
       "  </thead>\n",
       "  <tbody>\n",
       "    <tr>\n",
       "      <th>0</th>\n",
       "      <td>7/1/2014</td>\n",
       "      <td>12:00:00 AM</td>\n",
       "      <td>2557 Marion Ave Fordham, BX</td>\n",
       "    </tr>\n",
       "    <tr>\n",
       "      <th>1</th>\n",
       "      <td>7/1/2014</td>\n",
       "      <td>12:00:00 AM</td>\n",
       "      <td>45 E Mosholu Pkwy N Williamsbridge, BX</td>\n",
       "    </tr>\n",
       "    <tr>\n",
       "      <th>2</th>\n",
       "      <td>7/1/2014</td>\n",
       "      <td>12:00:00 AM</td>\n",
       "      <td>458 E 143rd St Mott Haven, BX</td>\n",
       "    </tr>\n",
       "    <tr>\n",
       "      <th>3</th>\n",
       "      <td>7/1/2014</td>\n",
       "      <td>12:02:00 AM</td>\n",
       "      <td>MINIVAN SUV 2557 Marion Ave Fordham, BX</td>\n",
       "    </tr>\n",
       "    <tr>\n",
       "      <th>4</th>\n",
       "      <td>7/1/2014</td>\n",
       "      <td>12:02:00 AM</td>\n",
       "      <td>1117 Westchester Ave Foxhurst, BX</td>\n",
       "    </tr>\n",
       "  </tbody>\n",
       "</table>\n",
       "</div>"
      ],
      "text/plain": [
       "       DATE         TIME                          PICK UP ADDRESS\n",
       "0  7/1/2014  12:00:00 AM              2557 Marion Ave Fordham, BX\n",
       "1  7/1/2014  12:00:00 AM   45 E Mosholu Pkwy N Williamsbridge, BX\n",
       "2  7/1/2014  12:00:00 AM            458 E 143rd St Mott Haven, BX\n",
       "3  7/1/2014  12:02:00 AM  MINIVAN SUV 2557 Marion Ave Fordham, BX\n",
       "4  7/1/2014  12:02:00 AM        1117 Westchester Ave Foxhurst, BX"
      ]
     },
     "execution_count": 121,
     "metadata": {},
     "output_type": "execute_result"
    }
   ],
   "source": [
    "prestige.head()"
   ]
  },
  {
   "cell_type": "code",
   "execution_count": 122,
   "metadata": {},
   "outputs": [],
   "source": [
    "prestige.rename(columns = {'TIME':'time_pre', 'PICK UP ADDRESS':'pick_up_add_pre'}, inplace = True)"
   ]
  },
  {
   "cell_type": "code",
   "execution_count": 123,
   "metadata": {},
   "outputs": [
    {
     "data": {
      "text/html": [
       "<div>\n",
       "<style scoped>\n",
       "    .dataframe tbody tr th:only-of-type {\n",
       "        vertical-align: middle;\n",
       "    }\n",
       "\n",
       "    .dataframe tbody tr th {\n",
       "        vertical-align: top;\n",
       "    }\n",
       "\n",
       "    .dataframe thead th {\n",
       "        text-align: right;\n",
       "    }\n",
       "</style>\n",
       "<table border=\"1\" class=\"dataframe\">\n",
       "  <thead>\n",
       "    <tr style=\"text-align: right;\">\n",
       "      <th></th>\n",
       "      <th>Date_Time</th>\n",
       "      <th>Lat</th>\n",
       "      <th>Lon</th>\n",
       "      <th>Base</th>\n",
       "    </tr>\n",
       "  </thead>\n",
       "  <tbody>\n",
       "    <tr>\n",
       "      <th>0</th>\n",
       "      <td>2014-07-01 00:03:00</td>\n",
       "      <td>40.7586</td>\n",
       "      <td>-73.9706</td>\n",
       "      <td>B02512</td>\n",
       "    </tr>\n",
       "    <tr>\n",
       "      <th>1</th>\n",
       "      <td>2014-07-01 00:05:00</td>\n",
       "      <td>40.7605</td>\n",
       "      <td>-73.9994</td>\n",
       "      <td>B02512</td>\n",
       "    </tr>\n",
       "    <tr>\n",
       "      <th>2</th>\n",
       "      <td>2014-07-01 00:06:00</td>\n",
       "      <td>40.7320</td>\n",
       "      <td>-73.9999</td>\n",
       "      <td>B02512</td>\n",
       "    </tr>\n",
       "    <tr>\n",
       "      <th>3</th>\n",
       "      <td>2014-07-01 00:09:00</td>\n",
       "      <td>40.7635</td>\n",
       "      <td>-73.9793</td>\n",
       "      <td>B02512</td>\n",
       "    </tr>\n",
       "    <tr>\n",
       "      <th>4</th>\n",
       "      <td>2014-07-01 00:20:00</td>\n",
       "      <td>40.7204</td>\n",
       "      <td>-74.0047</td>\n",
       "      <td>B02512</td>\n",
       "    </tr>\n",
       "  </tbody>\n",
       "</table>\n",
       "</div>"
      ],
      "text/plain": [
       "            Date_Time      Lat      Lon    Base\n",
       "0 2014-07-01 00:03:00  40.7586 -73.9706  B02512\n",
       "1 2014-07-01 00:05:00  40.7605 -73.9994  B02512\n",
       "2 2014-07-01 00:06:00  40.7320 -73.9999  B02512\n",
       "3 2014-07-01 00:09:00  40.7635 -73.9793  B02512\n",
       "4 2014-07-01 00:20:00  40.7204 -74.0047  B02512"
      ]
     },
     "execution_count": 123,
     "metadata": {},
     "output_type": "execute_result"
    }
   ],
   "source": [
    "uber_data.head()"
   ]
  },
  {
   "cell_type": "code",
   "execution_count": 124,
   "metadata": {},
   "outputs": [],
   "source": [
    "uber_data['pick_up_add_ube'] = uber_data['Lat'].map(str) + ' ' + uber_data['Lon'].map(str)"
   ]
  },
  {
   "cell_type": "code",
   "execution_count": 127,
   "metadata": {},
   "outputs": [
    {
     "name": "stdout",
     "output_type": "stream",
     "text": [
      "<class 'pandas.core.frame.DataFrame'>\n",
      "RangeIndex: 2653532 entries, 0 to 2653531\n",
      "Data columns (total 5 columns):\n",
      "Date_Time          datetime64[ns]\n",
      "Lat                float64\n",
      "Lon                float64\n",
      "Base               object\n",
      "pick_up_add_ube    object\n",
      "dtypes: datetime64[ns](1), float64(2), object(2)\n",
      "memory usage: 101.2+ MB\n"
     ]
    }
   ],
   "source": [
    "uber_data.info()"
   ]
  },
  {
   "cell_type": "code",
   "execution_count": 130,
   "metadata": {},
   "outputs": [],
   "source": [
    "uber_data['DATE'] = uber_data['Date_Time'].dt.date\n",
    "uber_data['time_ube'] = uber_data['Date_Time'].dt.time"
   ]
  },
  {
   "cell_type": "code",
   "execution_count": 131,
   "metadata": {},
   "outputs": [
    {
     "data": {
      "text/html": [
       "<div>\n",
       "<style scoped>\n",
       "    .dataframe tbody tr th:only-of-type {\n",
       "        vertical-align: middle;\n",
       "    }\n",
       "\n",
       "    .dataframe tbody tr th {\n",
       "        vertical-align: top;\n",
       "    }\n",
       "\n",
       "    .dataframe thead th {\n",
       "        text-align: right;\n",
       "    }\n",
       "</style>\n",
       "<table border=\"1\" class=\"dataframe\">\n",
       "  <thead>\n",
       "    <tr style=\"text-align: right;\">\n",
       "      <th></th>\n",
       "      <th>Lat</th>\n",
       "      <th>Lon</th>\n",
       "      <th>pick_up_add_ube</th>\n",
       "      <th>DATE</th>\n",
       "      <th>time_ube</th>\n",
       "    </tr>\n",
       "  </thead>\n",
       "  <tbody>\n",
       "    <tr>\n",
       "      <th>0</th>\n",
       "      <td>40.7586</td>\n",
       "      <td>-73.9706</td>\n",
       "      <td>40.7586 -73.9706</td>\n",
       "      <td>2014-07-01</td>\n",
       "      <td>00:03:00</td>\n",
       "    </tr>\n",
       "    <tr>\n",
       "      <th>1</th>\n",
       "      <td>40.7605</td>\n",
       "      <td>-73.9994</td>\n",
       "      <td>40.7605 -73.9994</td>\n",
       "      <td>2014-07-01</td>\n",
       "      <td>00:05:00</td>\n",
       "    </tr>\n",
       "    <tr>\n",
       "      <th>2</th>\n",
       "      <td>40.7320</td>\n",
       "      <td>-73.9999</td>\n",
       "      <td>40.732 -73.9999</td>\n",
       "      <td>2014-07-01</td>\n",
       "      <td>00:06:00</td>\n",
       "    </tr>\n",
       "    <tr>\n",
       "      <th>3</th>\n",
       "      <td>40.7635</td>\n",
       "      <td>-73.9793</td>\n",
       "      <td>40.7635 -73.9793</td>\n",
       "      <td>2014-07-01</td>\n",
       "      <td>00:09:00</td>\n",
       "    </tr>\n",
       "    <tr>\n",
       "      <th>4</th>\n",
       "      <td>40.7204</td>\n",
       "      <td>-74.0047</td>\n",
       "      <td>40.7204 -74.0047</td>\n",
       "      <td>2014-07-01</td>\n",
       "      <td>00:20:00</td>\n",
       "    </tr>\n",
       "    <tr>\n",
       "      <th>...</th>\n",
       "      <td>...</td>\n",
       "      <td>...</td>\n",
       "      <td>...</td>\n",
       "      <td>...</td>\n",
       "      <td>...</td>\n",
       "    </tr>\n",
       "    <tr>\n",
       "      <th>2653527</th>\n",
       "      <td>40.7668</td>\n",
       "      <td>-73.9845</td>\n",
       "      <td>40.7668 -73.9845</td>\n",
       "      <td>2014-09-30</td>\n",
       "      <td>22:57:00</td>\n",
       "    </tr>\n",
       "    <tr>\n",
       "      <th>2653528</th>\n",
       "      <td>40.6911</td>\n",
       "      <td>-74.1773</td>\n",
       "      <td>40.6911 -74.1773</td>\n",
       "      <td>2014-09-30</td>\n",
       "      <td>22:57:00</td>\n",
       "    </tr>\n",
       "    <tr>\n",
       "      <th>2653529</th>\n",
       "      <td>40.8519</td>\n",
       "      <td>-73.9319</td>\n",
       "      <td>40.8519 -73.9319</td>\n",
       "      <td>2014-09-30</td>\n",
       "      <td>22:58:00</td>\n",
       "    </tr>\n",
       "    <tr>\n",
       "      <th>2653530</th>\n",
       "      <td>40.7081</td>\n",
       "      <td>-74.0066</td>\n",
       "      <td>40.7081 -74.0066</td>\n",
       "      <td>2014-09-30</td>\n",
       "      <td>22:58:00</td>\n",
       "    </tr>\n",
       "    <tr>\n",
       "      <th>2653531</th>\n",
       "      <td>40.7140</td>\n",
       "      <td>-73.9496</td>\n",
       "      <td>40.714 -73.9496</td>\n",
       "      <td>2014-09-30</td>\n",
       "      <td>22:58:00</td>\n",
       "    </tr>\n",
       "  </tbody>\n",
       "</table>\n",
       "<p>2653532 rows × 5 columns</p>\n",
       "</div>"
      ],
      "text/plain": [
       "             Lat      Lon   pick_up_add_ube        DATE  time_ube\n",
       "0        40.7586 -73.9706  40.7586 -73.9706  2014-07-01  00:03:00\n",
       "1        40.7605 -73.9994  40.7605 -73.9994  2014-07-01  00:05:00\n",
       "2        40.7320 -73.9999   40.732 -73.9999  2014-07-01  00:06:00\n",
       "3        40.7635 -73.9793  40.7635 -73.9793  2014-07-01  00:09:00\n",
       "4        40.7204 -74.0047  40.7204 -74.0047  2014-07-01  00:20:00\n",
       "...          ...      ...               ...         ...       ...\n",
       "2653527  40.7668 -73.9845  40.7668 -73.9845  2014-09-30  22:57:00\n",
       "2653528  40.6911 -74.1773  40.6911 -74.1773  2014-09-30  22:57:00\n",
       "2653529  40.8519 -73.9319  40.8519 -73.9319  2014-09-30  22:58:00\n",
       "2653530  40.7081 -74.0066  40.7081 -74.0066  2014-09-30  22:58:00\n",
       "2653531  40.7140 -73.9496   40.714 -73.9496  2014-09-30  22:58:00\n",
       "\n",
       "[2653532 rows x 5 columns]"
      ]
     },
     "execution_count": 131,
     "metadata": {},
     "output_type": "execute_result"
    }
   ],
   "source": [
    "uber_data.drop(['Base', 'Date_Time'], axis = 1, inplace=True)"
   ]
  },
  {
   "cell_type": "markdown",
   "metadata": {},
   "source": [
    "Checking dates to compare the same period"
   ]
  },
  {
   "cell_type": "code",
   "execution_count": 19,
   "metadata": {},
   "outputs": [
    {
     "ename": "KeyError",
     "evalue": "'DATE'",
     "output_type": "error",
     "traceback": [
      "\u001b[1;31m---------------------------------------------------------------------------\u001b[0m",
      "\u001b[1;31mKeyError\u001b[0m                                  Traceback (most recent call last)",
      "\u001b[1;32m~\\Anaconda3\\lib\\site-packages\\pandas\\core\\indexes\\base.py\u001b[0m in \u001b[0;36mget_loc\u001b[1;34m(self, key, method, tolerance)\u001b[0m\n\u001b[0;32m   2896\u001b[0m             \u001b[1;32mtry\u001b[0m\u001b[1;33m:\u001b[0m\u001b[1;33m\u001b[0m\u001b[1;33m\u001b[0m\u001b[0m\n\u001b[1;32m-> 2897\u001b[1;33m                 \u001b[1;32mreturn\u001b[0m \u001b[0mself\u001b[0m\u001b[1;33m.\u001b[0m\u001b[0m_engine\u001b[0m\u001b[1;33m.\u001b[0m\u001b[0mget_loc\u001b[0m\u001b[1;33m(\u001b[0m\u001b[0mkey\u001b[0m\u001b[1;33m)\u001b[0m\u001b[1;33m\u001b[0m\u001b[1;33m\u001b[0m\u001b[0m\n\u001b[0m\u001b[0;32m   2898\u001b[0m             \u001b[1;32mexcept\u001b[0m \u001b[0mKeyError\u001b[0m\u001b[1;33m:\u001b[0m\u001b[1;33m\u001b[0m\u001b[1;33m\u001b[0m\u001b[0m\n",
      "\u001b[1;32mpandas/_libs/index.pyx\u001b[0m in \u001b[0;36mpandas._libs.index.IndexEngine.get_loc\u001b[1;34m()\u001b[0m\n",
      "\u001b[1;32mpandas/_libs/index.pyx\u001b[0m in \u001b[0;36mpandas._libs.index.IndexEngine.get_loc\u001b[1;34m()\u001b[0m\n",
      "\u001b[1;32mpandas/_libs/hashtable_class_helper.pxi\u001b[0m in \u001b[0;36mpandas._libs.hashtable.PyObjectHashTable.get_item\u001b[1;34m()\u001b[0m\n",
      "\u001b[1;32mpandas/_libs/hashtable_class_helper.pxi\u001b[0m in \u001b[0;36mpandas._libs.hashtable.PyObjectHashTable.get_item\u001b[1;34m()\u001b[0m\n",
      "\u001b[1;31mKeyError\u001b[0m: 'DATE'",
      "\nDuring handling of the above exception, another exception occurred:\n",
      "\u001b[1;31mKeyError\u001b[0m                                  Traceback (most recent call last)",
      "\u001b[1;32m<ipython-input-19-91725d4a7061>\u001b[0m in \u001b[0;36m<module>\u001b[1;34m\u001b[0m\n\u001b[0;32m      1\u001b[0m \u001b[0mamerican\u001b[0m\u001b[1;33m[\u001b[0m\u001b[1;34m'DATE'\u001b[0m\u001b[1;33m]\u001b[0m \u001b[1;33m=\u001b[0m \u001b[0mpd\u001b[0m\u001b[1;33m.\u001b[0m\u001b[0mto_datetime\u001b[0m\u001b[1;33m(\u001b[0m\u001b[0mamerican\u001b[0m\u001b[1;33m[\u001b[0m\u001b[1;34m'DATE'\u001b[0m\u001b[1;33m]\u001b[0m\u001b[1;33m)\u001b[0m\u001b[1;33m\u001b[0m\u001b[1;33m\u001b[0m\u001b[0m\n\u001b[1;32m----> 2\u001b[1;33m \u001b[0mcarmel\u001b[0m\u001b[1;33m[\u001b[0m\u001b[1;34m'DATE'\u001b[0m\u001b[1;33m]\u001b[0m \u001b[1;33m=\u001b[0m \u001b[0mpd\u001b[0m\u001b[1;33m.\u001b[0m\u001b[0mto_datetime\u001b[0m\u001b[1;33m(\u001b[0m\u001b[0mcarmel\u001b[0m\u001b[1;33m[\u001b[0m\u001b[1;34m'DATE'\u001b[0m\u001b[1;33m]\u001b[0m\u001b[1;33m)\u001b[0m\u001b[1;33m\u001b[0m\u001b[1;33m\u001b[0m\u001b[0m\n\u001b[0m\u001b[0;32m      3\u001b[0m \u001b[0mdial7\u001b[0m\u001b[1;33m[\u001b[0m\u001b[1;34m'DATE'\u001b[0m\u001b[1;33m]\u001b[0m \u001b[1;33m=\u001b[0m \u001b[0mpd\u001b[0m\u001b[1;33m.\u001b[0m\u001b[0mto_datetime\u001b[0m\u001b[1;33m(\u001b[0m\u001b[0mdial7\u001b[0m\u001b[1;33m[\u001b[0m\u001b[1;34m'DATE'\u001b[0m\u001b[1;33m]\u001b[0m\u001b[1;33m)\u001b[0m\u001b[1;33m\u001b[0m\u001b[1;33m\u001b[0m\u001b[0m\n\u001b[0;32m      4\u001b[0m \u001b[0mdiplo\u001b[0m\u001b[1;33m[\u001b[0m\u001b[1;34m'DATE'\u001b[0m\u001b[1;33m]\u001b[0m \u001b[1;33m=\u001b[0m \u001b[0mpd\u001b[0m\u001b[1;33m.\u001b[0m\u001b[0mto_datetime\u001b[0m\u001b[1;33m(\u001b[0m\u001b[0mdiplo\u001b[0m\u001b[1;33m[\u001b[0m\u001b[1;34m'DATE'\u001b[0m\u001b[1;33m]\u001b[0m\u001b[1;33m)\u001b[0m\u001b[1;33m\u001b[0m\u001b[1;33m\u001b[0m\u001b[0m\n\u001b[0;32m      5\u001b[0m \u001b[0mhighclass\u001b[0m\u001b[1;33m[\u001b[0m\u001b[1;34m'DATE'\u001b[0m\u001b[1;33m]\u001b[0m \u001b[1;33m=\u001b[0m \u001b[0mpd\u001b[0m\u001b[1;33m.\u001b[0m\u001b[0mto_datetime\u001b[0m\u001b[1;33m(\u001b[0m\u001b[0mhighclass\u001b[0m\u001b[1;33m[\u001b[0m\u001b[1;34m'DATE'\u001b[0m\u001b[1;33m]\u001b[0m\u001b[1;33m)\u001b[0m\u001b[1;33m\u001b[0m\u001b[1;33m\u001b[0m\u001b[0m\n",
      "\u001b[1;32m~\\Anaconda3\\lib\\site-packages\\pandas\\core\\frame.py\u001b[0m in \u001b[0;36m__getitem__\u001b[1;34m(self, key)\u001b[0m\n\u001b[0;32m   2993\u001b[0m             \u001b[1;32mif\u001b[0m \u001b[0mself\u001b[0m\u001b[1;33m.\u001b[0m\u001b[0mcolumns\u001b[0m\u001b[1;33m.\u001b[0m\u001b[0mnlevels\u001b[0m \u001b[1;33m>\u001b[0m \u001b[1;36m1\u001b[0m\u001b[1;33m:\u001b[0m\u001b[1;33m\u001b[0m\u001b[1;33m\u001b[0m\u001b[0m\n\u001b[0;32m   2994\u001b[0m                 \u001b[1;32mreturn\u001b[0m \u001b[0mself\u001b[0m\u001b[1;33m.\u001b[0m\u001b[0m_getitem_multilevel\u001b[0m\u001b[1;33m(\u001b[0m\u001b[0mkey\u001b[0m\u001b[1;33m)\u001b[0m\u001b[1;33m\u001b[0m\u001b[1;33m\u001b[0m\u001b[0m\n\u001b[1;32m-> 2995\u001b[1;33m             \u001b[0mindexer\u001b[0m \u001b[1;33m=\u001b[0m \u001b[0mself\u001b[0m\u001b[1;33m.\u001b[0m\u001b[0mcolumns\u001b[0m\u001b[1;33m.\u001b[0m\u001b[0mget_loc\u001b[0m\u001b[1;33m(\u001b[0m\u001b[0mkey\u001b[0m\u001b[1;33m)\u001b[0m\u001b[1;33m\u001b[0m\u001b[1;33m\u001b[0m\u001b[0m\n\u001b[0m\u001b[0;32m   2996\u001b[0m             \u001b[1;32mif\u001b[0m \u001b[0mis_integer\u001b[0m\u001b[1;33m(\u001b[0m\u001b[0mindexer\u001b[0m\u001b[1;33m)\u001b[0m\u001b[1;33m:\u001b[0m\u001b[1;33m\u001b[0m\u001b[1;33m\u001b[0m\u001b[0m\n\u001b[0;32m   2997\u001b[0m                 \u001b[0mindexer\u001b[0m \u001b[1;33m=\u001b[0m \u001b[1;33m[\u001b[0m\u001b[0mindexer\u001b[0m\u001b[1;33m]\u001b[0m\u001b[1;33m\u001b[0m\u001b[1;33m\u001b[0m\u001b[0m\n",
      "\u001b[1;32m~\\Anaconda3\\lib\\site-packages\\pandas\\core\\indexes\\base.py\u001b[0m in \u001b[0;36mget_loc\u001b[1;34m(self, key, method, tolerance)\u001b[0m\n\u001b[0;32m   2897\u001b[0m                 \u001b[1;32mreturn\u001b[0m \u001b[0mself\u001b[0m\u001b[1;33m.\u001b[0m\u001b[0m_engine\u001b[0m\u001b[1;33m.\u001b[0m\u001b[0mget_loc\u001b[0m\u001b[1;33m(\u001b[0m\u001b[0mkey\u001b[0m\u001b[1;33m)\u001b[0m\u001b[1;33m\u001b[0m\u001b[1;33m\u001b[0m\u001b[0m\n\u001b[0;32m   2898\u001b[0m             \u001b[1;32mexcept\u001b[0m \u001b[0mKeyError\u001b[0m\u001b[1;33m:\u001b[0m\u001b[1;33m\u001b[0m\u001b[1;33m\u001b[0m\u001b[0m\n\u001b[1;32m-> 2899\u001b[1;33m                 \u001b[1;32mreturn\u001b[0m \u001b[0mself\u001b[0m\u001b[1;33m.\u001b[0m\u001b[0m_engine\u001b[0m\u001b[1;33m.\u001b[0m\u001b[0mget_loc\u001b[0m\u001b[1;33m(\u001b[0m\u001b[0mself\u001b[0m\u001b[1;33m.\u001b[0m\u001b[0m_maybe_cast_indexer\u001b[0m\u001b[1;33m(\u001b[0m\u001b[0mkey\u001b[0m\u001b[1;33m)\u001b[0m\u001b[1;33m)\u001b[0m\u001b[1;33m\u001b[0m\u001b[1;33m\u001b[0m\u001b[0m\n\u001b[0m\u001b[0;32m   2900\u001b[0m         \u001b[0mindexer\u001b[0m \u001b[1;33m=\u001b[0m \u001b[0mself\u001b[0m\u001b[1;33m.\u001b[0m\u001b[0mget_indexer\u001b[0m\u001b[1;33m(\u001b[0m\u001b[1;33m[\u001b[0m\u001b[0mkey\u001b[0m\u001b[1;33m]\u001b[0m\u001b[1;33m,\u001b[0m \u001b[0mmethod\u001b[0m\u001b[1;33m=\u001b[0m\u001b[0mmethod\u001b[0m\u001b[1;33m,\u001b[0m \u001b[0mtolerance\u001b[0m\u001b[1;33m=\u001b[0m\u001b[0mtolerance\u001b[0m\u001b[1;33m)\u001b[0m\u001b[1;33m\u001b[0m\u001b[1;33m\u001b[0m\u001b[0m\n\u001b[0;32m   2901\u001b[0m         \u001b[1;32mif\u001b[0m \u001b[0mindexer\u001b[0m\u001b[1;33m.\u001b[0m\u001b[0mndim\u001b[0m \u001b[1;33m>\u001b[0m \u001b[1;36m1\u001b[0m \u001b[1;32mor\u001b[0m \u001b[0mindexer\u001b[0m\u001b[1;33m.\u001b[0m\u001b[0msize\u001b[0m \u001b[1;33m>\u001b[0m \u001b[1;36m1\u001b[0m\u001b[1;33m:\u001b[0m\u001b[1;33m\u001b[0m\u001b[1;33m\u001b[0m\u001b[0m\n",
      "\u001b[1;32mpandas/_libs/index.pyx\u001b[0m in \u001b[0;36mpandas._libs.index.IndexEngine.get_loc\u001b[1;34m()\u001b[0m\n",
      "\u001b[1;32mpandas/_libs/index.pyx\u001b[0m in \u001b[0;36mpandas._libs.index.IndexEngine.get_loc\u001b[1;34m()\u001b[0m\n",
      "\u001b[1;32mpandas/_libs/hashtable_class_helper.pxi\u001b[0m in \u001b[0;36mpandas._libs.hashtable.PyObjectHashTable.get_item\u001b[1;34m()\u001b[0m\n",
      "\u001b[1;32mpandas/_libs/hashtable_class_helper.pxi\u001b[0m in \u001b[0;36mpandas._libs.hashtable.PyObjectHashTable.get_item\u001b[1;34m()\u001b[0m\n",
      "\u001b[1;31mKeyError\u001b[0m: 'DATE'"
     ]
    }
   ],
   "source": [
    "american['DATE'] = pd.to_datetime(american['DATE'])\n",
    "carmel['DATE'] = pd.to_datetime(carmel['DATE'])\n",
    "dial7['DATE'] = pd.to_datetime(dial7['DATE'])\n",
    "diplo['DATE'] = pd.to_datetime(diplo['DATE'])\n",
    "highclass['DATE'] = pd.to_datetime(highclass['DATE'])\n",
    "skyline['DATE'] = pd.to_datetime(skyline['DATE'])\n",
    "federal['DATE'] = pd.to_datetime(federal['DATE'])\n",
    "lyft['DATE'] = pd.to_datetime(lyft['DATE'])\n",
    "firstclass['DATE'] = pd.to_datetime(firstclass['DATE'])\n",
    "prestige['DATE'] = pd.to_datetime(prestige['DATE'])\n",
    "uber_data['DATE'] = pd.to_datetime(uber_data['DATE'])"
   ]
  },
  {
   "cell_type": "code",
   "execution_count": 133,
   "metadata": {},
   "outputs": [
    {
     "name": "stdout",
     "output_type": "stream",
     "text": [
      "2014-07-01 00:00:00\n",
      "2014-09-30 00:00:00\n"
     ]
    }
   ],
   "source": [
    "print (min(american.DATE))\n",
    "print (max(american.DATE))"
   ]
  },
  {
   "cell_type": "code",
   "execution_count": 138,
   "metadata": {},
   "outputs": [
    {
     "name": "stdout",
     "output_type": "stream",
     "text": [
      "2014-07-01 00:00:00\n",
      "2014-09-30 00:00:00\n"
     ]
    }
   ],
   "source": [
    "print (min(carmel.DATE))\n",
    "print (max(carmel.DATE))"
   ]
  },
  {
   "cell_type": "code",
   "execution_count": 139,
   "metadata": {},
   "outputs": [
    {
     "name": "stdout",
     "output_type": "stream",
     "text": [
      "2014-07-01 00:00:00\n",
      "2014-09-30 00:00:00\n"
     ]
    }
   ],
   "source": [
    "print (min(dial7.DATE))\n",
    "print (max(dial7.DATE))"
   ]
  },
  {
   "cell_type": "code",
   "execution_count": 140,
   "metadata": {},
   "outputs": [
    {
     "name": "stdout",
     "output_type": "stream",
     "text": [
      "2014-07-01 00:00:00\n",
      "2014-09-30 00:00:00\n"
     ]
    }
   ],
   "source": [
    "print (min(diplo.DATE))\n",
    "print (max(diplo.DATE))"
   ]
  },
  {
   "cell_type": "code",
   "execution_count": 141,
   "metadata": {},
   "outputs": [
    {
     "name": "stdout",
     "output_type": "stream",
     "text": [
      "2014-07-01 00:00:00\n",
      "2014-09-30 00:00:00\n"
     ]
    }
   ],
   "source": [
    "print (min(highclass.DATE))\n",
    "print (max(highclass.DATE))"
   ]
  },
  {
   "cell_type": "code",
   "execution_count": 142,
   "metadata": {},
   "outputs": [
    {
     "name": "stdout",
     "output_type": "stream",
     "text": [
      "2014-07-01 00:00:00\n",
      "2014-09-30 00:00:00\n"
     ]
    }
   ],
   "source": [
    "print (min(skyline.DATE))\n",
    "print (max(skyline.DATE))"
   ]
  },
  {
   "cell_type": "code",
   "execution_count": 143,
   "metadata": {},
   "outputs": [
    {
     "name": "stdout",
     "output_type": "stream",
     "text": [
      "2014-07-01 00:00:00\n",
      "2014-09-28 00:00:00\n"
     ]
    }
   ],
   "source": [
    "print (min(federal.DATE))\n",
    "print (max(federal.DATE))"
   ]
  },
  {
   "cell_type": "code",
   "execution_count": 144,
   "metadata": {},
   "outputs": [
    {
     "name": "stdout",
     "output_type": "stream",
     "text": [
      "2014-07-25 00:00:00\n",
      "2014-09-30 00:00:00\n"
     ]
    }
   ],
   "source": [
    "print (min(lyft.DATE))\n",
    "print (max(lyft.DATE))"
   ]
  },
  {
   "cell_type": "code",
   "execution_count": 145,
   "metadata": {},
   "outputs": [
    {
     "name": "stdout",
     "output_type": "stream",
     "text": [
      "2014-07-01 00:00:00\n",
      "2014-09-30 00:00:00\n"
     ]
    }
   ],
   "source": [
    "print (min(firstclass.DATE))\n",
    "print (max(firstclass.DATE))"
   ]
  },
  {
   "cell_type": "code",
   "execution_count": 146,
   "metadata": {},
   "outputs": [
    {
     "name": "stdout",
     "output_type": "stream",
     "text": [
      "2014-07-01 00:00:00\n",
      "2014-09-30 00:00:00\n"
     ]
    }
   ],
   "source": [
    "print (min(prestige.DATE))\n",
    "print (max(prestige.DATE))"
   ]
  },
  {
   "cell_type": "code",
   "execution_count": 149,
   "metadata": {},
   "outputs": [
    {
     "name": "stdout",
     "output_type": "stream",
     "text": [
      "2014-07-01 00:00:00\n",
      "2014-09-30 00:00:00\n"
     ]
    }
   ],
   "source": [
    "print (min(uber_data.DATE))\n",
    "print (max(uber_data.DATE))"
   ]
  },
  {
   "cell_type": "markdown",
   "metadata": {},
   "source": [
    "Minimum date should be 2014-07-25 00:00:00\n",
    "Maximum date should be 2014-09-28 00:00:00\n",
    "https://www.geeksforgeeks.org/drop-rows-from-the-dataframe-based-on-certain-condition-applied-on-a-column/"
   ]
  },
  {
   "cell_type": "markdown",
   "metadata": {},
   "source": [
    "Filter all tables by minimum and maximum date to equally compare the companies.\n",
    "Rename it as 'company name_1'"
   ]
  },
  {
   "cell_type": "code",
   "execution_count": 150,
   "metadata": {},
   "outputs": [],
   "source": [
    "#MINIMUM\n",
    "american_1 = american[american['DATE'] >= '2014-07-25']\n",
    "carmel_1 = carmel[carmel['DATE'] >= '2014-07-25']\n",
    "dial7_1 = dial7[dial7['DATE'] >= '2014-07-25']\n",
    "diplo_1 = diplo[diplo['DATE'] >= '2014-07-25']\n",
    "highclass_1 = highclass[highclass['DATE'] >= '2014-07-25']\n",
    "skyline_1 = skyline[skyline['DATE'] >= '2014-07-25']\n",
    "federal_1 = federal[federal['DATE'] >= '2014-07-25']\n",
    "lyft_1 = lyft[lyft['DATE'] >= '2014-07-25']\n",
    "firstclass_1 = firstclass[firstclass['DATE'] >= '2014-07-25']\n",
    "prestige_1 = prestige[prestige['DATE'] >= '2014-07-25']\n",
    "uber_data_1 = uber_data[uber_data['DATE'] >= '2014-07-25']"
   ]
  },
  {
   "cell_type": "code",
   "execution_count": 151,
   "metadata": {},
   "outputs": [],
   "source": [
    "#MAXIMUM\n",
    "american_1 = american[american['DATE'] <= '2014-09-28']\n",
    "carmel_1 = carmel[carmel['DATE'] <= '2014-09-28']\n",
    "dial7_1 = dial7[dial7['DATE'] <= '2014-09-28']\n",
    "diplo_1 = diplo[diplo['DATE'] <= '2014-09-28']\n",
    "highclass_1 = highclass[highclass['DATE'] <= '2014-09-28']\n",
    "skyline_1 = skyline[skyline['DATE'] <= '2014-09-28']\n",
    "federal_1 = federal[federal['DATE'] <= '2014-09-28']\n",
    "lyft_1 = lyft[lyft['DATE'] <= '2014-09-28']\n",
    "firstclass_1 = firstclass[firstclass['DATE'] <= '2014-09-28']\n",
    "prestige_1 = prestige[prestige['DATE'] <= '2014-09-28']\n",
    "uber_data_1 = uber_data[uber_data['DATE'] <= '2014-09-28']"
   ]
  },
  {
   "cell_type": "code",
   "execution_count": 20,
   "metadata": {},
   "outputs": [],
   "source": [
    "american['DATE'] = pd.to_datetime(american['DATE'])"
   ]
  },
  {
   "cell_type": "code",
   "execution_count": 25,
   "metadata": {},
   "outputs": [],
   "source": [
    "american_1 = american[(american['DATE'] >= '2014-07-25') & (american['DATE'] <= '2014-09-28')]\n",
    "carmel_1 = carmel[(carmel['DATE'] >= '2014-07-25') & (carmel['DATE'] <= '2014-09-28')]\n",
    "dial7_1 = dial7[(dial7['DATE'] >= '2014-07-25') & (dial7['DATE'] <= '2014-09-28')]\n",
    "diplo_1 = diplo[(diplo['DATE'] >= '2014-07-25') & (diplo['DATE'] <= '2014-09-28')]\n",
    "highclass_1 = highclass[(highclass['DATE'] >= '2014-07-25') & (highclass['DATE'] <= '2014-09-28')]\n",
    "skyline_1 = sykline[(skyline['DATE'] >= '2014-07-25') & (skyline['DATE'] <= '2014-09-28')]\n",
    "federal_1 = federal[(federal['DATE'] >= '2014-07-25') & (federal['DATE'] <= '2014-09-28')]\n",
    "lyft_1 = lyft[(lift['DATE'] >= '2014-07-25') & (lyft['DATE'] <= '2014-09-28')]\n",
    "fisrtclass_1 = fisrtclass[(fisrtclass['DATE'] >= '2014-07-25') & (fisrtclass['DATE'] <= '2014-09-28')]\n",
    "prestige_1 = prestige[(prestige['DATE'] >= '2014-07-25') & (prestige['DATE'] <= '2014-09-28')]\n",
    "uber_data_1 = uber_data[(uber_data['DATE'] >= '2014-07-25') & (uber_data['DATE'] <= '2014-09-28')]"
   ]
  },
  {
   "cell_type": "code",
   "execution_count": 26,
   "metadata": {},
   "outputs": [
    {
     "data": {
      "text/html": [
       "<div>\n",
       "<style scoped>\n",
       "    .dataframe tbody tr th:only-of-type {\n",
       "        vertical-align: middle;\n",
       "    }\n",
       "\n",
       "    .dataframe tbody tr th {\n",
       "        vertical-align: top;\n",
       "    }\n",
       "\n",
       "    .dataframe thead th {\n",
       "        text-align: right;\n",
       "    }\n",
       "</style>\n",
       "<table border=\"1\" class=\"dataframe\">\n",
       "  <thead>\n",
       "    <tr style=\"text-align: right;\">\n",
       "      <th></th>\n",
       "      <th>DATE</th>\n",
       "      <th>time_amer</th>\n",
       "      <th>pick_up_add_amer</th>\n",
       "    </tr>\n",
       "  </thead>\n",
       "  <tbody>\n",
       "    <tr>\n",
       "      <th>23686</th>\n",
       "      <td>2014-07-25</td>\n",
       "      <td>12:02:00 AM</td>\n",
       "      <td>675 E 140th St Mott Haven, BX</td>\n",
       "    </tr>\n",
       "    <tr>\n",
       "      <th>23687</th>\n",
       "      <td>2014-07-25</td>\n",
       "      <td>12:03:00 AM</td>\n",
       "      <td>545 E 145th St Mott Haven, BX</td>\n",
       "    </tr>\n",
       "    <tr>\n",
       "      <th>23688</th>\n",
       "      <td>2014-07-25</td>\n",
       "      <td>12:05:00 AM</td>\n",
       "      <td>80 Bruckner Blvd Mott Haven, BX</td>\n",
       "    </tr>\n",
       "    <tr>\n",
       "      <th>23689</th>\n",
       "      <td>2014-07-25</td>\n",
       "      <td>12:05:00 AM</td>\n",
       "      <td>515 E 143rd St Mott Haven, BX</td>\n",
       "    </tr>\n",
       "    <tr>\n",
       "      <th>23690</th>\n",
       "      <td>2014-07-25</td>\n",
       "      <td>12:06:00 AM</td>\n",
       "      <td>515 E 143rd St Mott Haven, BX</td>\n",
       "    </tr>\n",
       "  </tbody>\n",
       "</table>\n",
       "</div>"
      ],
      "text/plain": [
       "            DATE    time_amer                  pick_up_add_amer\n",
       "23686 2014-07-25  12:02:00 AM     675 E 140th St Mott Haven, BX\n",
       "23687 2014-07-25  12:03:00 AM     545 E 145th St Mott Haven, BX\n",
       "23688 2014-07-25  12:05:00 AM   80 Bruckner Blvd Mott Haven, BX\n",
       "23689 2014-07-25  12:05:00 AM     515 E 143rd St Mott Haven, BX\n",
       "23690 2014-07-25  12:06:00 AM     515 E 143rd St Mott Haven, BX"
      ]
     },
     "execution_count": 26,
     "metadata": {},
     "output_type": "execute_result"
    }
   ],
   "source": [
    "american_1.head()"
   ]
  },
  {
   "cell_type": "code",
   "execution_count": 28,
   "metadata": {},
   "outputs": [
    {
     "name": "stdout",
     "output_type": "stream",
     "text": [
      "2014-07-25 00:00:00\n",
      "2014-09-28 00:00:00\n"
     ]
    }
   ],
   "source": [
    "print (min(american_1.DATE))\n",
    "print (max(american_1.DATE))"
   ]
  },
  {
   "cell_type": "code",
   "execution_count": null,
   "metadata": {},
   "outputs": [],
   "source": []
  }
 ],
 "metadata": {
  "kernelspec": {
   "display_name": "Python 3",
   "language": "python",
   "name": "python3"
  },
  "language_info": {
   "codemirror_mode": {
    "name": "ipython",
    "version": 3
   },
   "file_extension": ".py",
   "mimetype": "text/x-python",
   "name": "python",
   "nbconvert_exporter": "python",
   "pygments_lexer": "ipython3",
   "version": "3.7.3"
  }
 },
 "nbformat": 4,
 "nbformat_minor": 2
}
